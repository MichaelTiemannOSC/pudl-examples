{
 "cells": [
  {
   "cell_type": "markdown",
   "metadata": {},
   "source": [
    "# Install PUDL\n",
    "Until we get our custom Docker image built, the software needs to be installed in your user environment each session. If you are using this notebook on the Catalyst JupyterHub, uncomment the commands in the following cell and run it before anything else."
   ]
  },
  {
   "cell_type": "code",
   "execution_count": null,
   "metadata": {},
   "outputs": [],
   "source": [
    "#!conda install --yes --quiet python-snappy\n",
    "#!pip install --quiet git+https://github.com/catalyst-cooperative/pudl.git@dev\n",
    "#!cp ~/shared/shared-pudl.yml ~/.pudl.yml"
   ]
  },
  {
   "cell_type": "markdown",
   "metadata": {},
   "source": [
    "## How to Access PUDL Tables"
   ]
  },
  {
   "cell_type": "markdown",
   "metadata": {},
   "source": [
    "This notebook is going to walk through 3 different ways to access PUDL tables. These will be three different methods to turn a PUDL table into a panda.DataFrame. There are many other access methods, but these are ones that our team uses often. Similar tools exist to convert SQLite tables into other formats. The Catalyst team typically uses the <a href=\"https://www.sqlalchemy.org/\">SQLAlchemy</a> toolset to interact with the SQLite database.\n",
    "\n",
    "It is important to note that the PUDL databse has been <a href=\"https://en.wikipedia.org/wiki/Database_normalization\">normalized</a> and organized with the <a href=\"https://tidyr.tidyverse.org/articles/tidy-data.html\">tidy data methodology</a>. Because of that, the individual tables in PUDL are more useful and readable when combined.\n",
    "\n",
    "This notebook assumes you have access to an instance of PUDL database and have an installed pudl python package.\n",
    "\n",
    "If you have any questions please reach out to: hello@catalyst.coop"
   ]
  },
  {
   "cell_type": "code",
   "execution_count": null,
   "metadata": {},
   "outputs": [],
   "source": [
    "# import the necessary packages\n",
    "%load_ext autoreload\n",
    "%autoreload 2\n",
    "\n",
    "import pandas as pd\n",
    "import sqlalchemy as sa\n",
    "import random\n",
    "import pudl"
   ]
  },
  {
   "cell_type": "markdown",
   "metadata": {},
   "source": [
    "### Set up PUDL Engine - Conneciton to the Database"
   ]
  },
  {
   "cell_type": "markdown",
   "metadata": {},
   "source": [
    "Generate a SQLalchemy databse engine. This step in necessary for each of the access methods."
   ]
  },
  {
   "cell_type": "code",
   "execution_count": null,
   "metadata": {},
   "outputs": [],
   "source": [
    "pudl_settings = pudl.workspace.setup.get_defaults()\n",
    "pudl_engine = sa.create_engine(pudl_settings[\"pudl_db\"])"
   ]
  },
  {
   "cell_type": "code",
   "execution_count": null,
   "metadata": {},
   "outputs": [],
   "source": [
    "# see all the tables inside of the database\n",
    "pudl_engine.table_names()"
   ]
  },
  {
   "cell_type": "markdown",
   "metadata": {},
   "source": [
    "### 1. Select PUDL Database Tables via a SQLAlchemy Select"
   ]
  },
  {
   "cell_type": "code",
   "execution_count": null,
   "metadata": {},
   "outputs": [],
   "source": [
    "# little helper function\n",
    "def get_full_sql_table(table_name, engine):\n",
    "    \"\"\"Get a full table from a SQL database.\"\"\"\n",
    "    # generate table metadata\n",
    "    md = sa.MetaData()\n",
    "    md.reflect(engine)\n",
    "    pt = md.tables\n",
    "    \n",
    "    # make a sql select statement\n",
    "    select = sa.sql.select([pt[table_name], ])\n",
    "    # read the sql select into a dataframe\n",
    "    df = pd.read_sql(select, engine)\n",
    "    return df"
   ]
  },
  {
   "cell_type": "code",
   "execution_count": null,
   "metadata": {},
   "outputs": [],
   "source": [
    "# select a random table\n",
    "table_name = random.choice(pudl_engine.table_names())"
   ]
  },
  {
   "cell_type": "code",
   "execution_count": null,
   "metadata": {},
   "outputs": [],
   "source": [
    "# grab the full table out \n",
    "print(f\"grabbing {table_name}\")\n",
    "table_df = get_full_sql_table(table_name=table_name, engine=pudl_engine)\n",
    "table_df.head()"
   ]
  },
  {
   "cell_type": "markdown",
   "metadata": {},
   "source": [
    "### 2. Select PUDL Database tables with SQL"
   ]
  },
  {
   "cell_type": "markdown",
   "metadata": {},
   "source": [
    "If you want to <a href=\"https://www.geeksforgeeks.org/what-are-the-best-ways-to-write-a-sql-query/\">write SQL queries</a> directly into the `read_sql()` function, this is the base format for that."
   ]
  },
  {
   "cell_type": "code",
   "execution_count": null,
   "metadata": {},
   "outputs": [],
   "source": [
    "table_df = pd.read_sql(\n",
    "    \"\"\"SELECT * FROM fuel_receipts_costs_eia923;\"\"\",\n",
    "    pudl_engine)"
   ]
  },
  {
   "cell_type": "code",
   "execution_count": null,
   "metadata": {},
   "outputs": [],
   "source": [
    "table_df.head()"
   ]
  },
  {
   "cell_type": "markdown",
   "metadata": {},
   "source": [
    "### 3. Use PUDL-compiled output tables"
   ]
  },
  {
   "cell_type": "markdown",
   "metadata": {},
   "source": [
    "If you want to access de-normalized tables, we've built an access methodology that saves access methods for most denormalized tables in PUDL and analysis build ontop of PUDL tables. There is a whole other notebook that covers the output tables so if you want more info on that."
   ]
  },
  {
   "cell_type": "code",
   "execution_count": null,
   "metadata": {},
   "outputs": [],
   "source": [
    "pudl_out = pudl.output.pudltabl.PudlTabl(pudl_engine)"
   ]
  },
  {
   "cell_type": "code",
   "execution_count": null,
   "metadata": {},
   "outputs": [],
   "source": [
    "bga_eia860 = pudl_out.bga_eia860()\n",
    "bga_eia860.sample(5)"
   ]
  },
  {
   "cell_type": "code",
   "execution_count": null,
   "metadata": {},
   "outputs": [],
   "source": [
    "frc_eia923 = pudl_out.frc_eia923()\n",
    "frc_eia923.head()"
   ]
  }
 ],
 "metadata": {
  "kernelspec": {
   "display_name": "Python 3",
   "language": "python",
   "name": "python3"
  },
  "language_info": {
   "codemirror_mode": {
    "name": "ipython",
    "version": 3
   },
   "file_extension": ".py",
   "mimetype": "text/x-python",
   "name": "python",
   "nbconvert_exporter": "python",
   "pygments_lexer": "ipython3",
   "version": "3.8.6"
  }
 },
 "nbformat": 4,
 "nbformat_minor": 4
}
