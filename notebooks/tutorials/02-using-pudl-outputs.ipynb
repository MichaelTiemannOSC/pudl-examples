{
 "cells": [
  {
   "cell_type": "markdown",
   "metadata": {},
   "source": [
    "# Install PUDL\n",
    "Until we get our custom Docker image built, the software needs to be installed in your user environment each session. If you are using this notebook on the Catalyst JupyterHub, uncomment the commands in the following cell and run it before anything else."
   ]
  },
  {
   "cell_type": "code",
   "execution_count": null,
   "metadata": {},
   "outputs": [],
   "source": [
    "#!conda install --yes --quiet python-snappy\n",
    "#!pip install --quiet git+https://github.com/catalyst-cooperative/pudl.git@dev\n",
    "#!cp ~/shared/shared-pudl.yml ~/.pudl.yml"
   ]
  },
  {
   "cell_type": "markdown",
   "metadata": {},
   "source": [
    "## How to use PUDL's output layer"
   ]
  },
  {
   "cell_type": "markdown",
   "metadata": {},
   "source": [
    "The PUDL databse tables are a standard, <a href=\"https://en.wikipedia.org/wiki/Database_normalization\">normalized</a> way to store and access electricity data. Normalized tables are great for databases and storage, but we often want the de-normalized tables with names and associated info in every record when actually using the tables. Mostly it's including the names of referenced utilities and plants, instead of just their IDs and also some frequently calculated columns (like calcuating `total_fuel_cost` with `total_heat_content_mmbtu` and`fuel_cost_per_mmbtu`). The Catalyst team developed a useful tool to access denormalized tables that we call the PUDL output object.\n",
    "\n",
    "There are three main layers of the PUDL output object:\n",
    "- denormalized tables\n",
    "- compiled analysis\n",
    "- preliminary access to partially itegrated PUDL datasets\n",
    "\n",
    "Some benefits of using the outputs:\n",
    " - Not having to continually merge the same tables together over and over again for analysis.\n",
    " - Caching tables: many analyses rely on using the same table multiple times. The PUDL output object caches a tables so (within the same instance of the object) you don't have to read tabels from the database over and over again.\n",
    " - Standardize frequency of tables: Some tables are annual, some monthly, some hourly. The PUDL output object takes a requested frequency and ensures the tabels are aggregated to that frequency.\n",
    " - Standardize filling-in methodology. There is a ton of missing or incomplete data. We try to fill some of that in with the output methods.\n",
    "\n",
    "This notebook assumes you have access to an instance of PUDL database, have an installed pudl python package and have an EIA API key stored as an environmental variable as `API_KEY_EIA`. If you don't have an EIA API key, <a href=\"https://www.eia.gov/opendata/register.php\">register for one here</a>. If you'd rather set your environment variable just in this notebook, you can set it below with `%env API_KEY_EIA={your key}`, otherwise follow instrustions for setting an <a href=\"https://www.twilio.com/blog/2017/01/how-to-set-environment-variables.html\">environmental variable</a> for your setup.\n",
    "\n",
    "If you have any questions please reach out to: pudl@catalyst.coop"
   ]
  },
  {
   "cell_type": "code",
   "execution_count": null,
   "metadata": {},
   "outputs": [],
   "source": [
    "# import the necessary packages\n",
    "%load_ext autoreload\n",
    "%autoreload 2\n",
    "\n",
    "import pandas as pd\n",
    "import sqlalchemy as sa\n",
    "import random\n",
    "import pudl\n",
    "\n",
    "# Set EIA API key. If you want to set the API key in this notebook, add your key and remove comment (#)\n",
    "# %env API_KEY_EIA={your key}"
   ]
  },
  {
   "cell_type": "code",
   "execution_count": null,
   "metadata": {},
   "outputs": [],
   "source": [
    "# setup for python logging\n",
    "logger=logging.getLogger()\n",
    "logger.setLevel(logging.INFO)\n",
    "handler = logging.StreamHandler(stream=sys.stdout)\n",
    "formatter = logging.Formatter('%(message)s')\n",
    "handler.setFormatter(formatter)\n",
    "logger.handlers = [handler]"
   ]
  },
  {
   "cell_type": "code",
   "execution_count": null,
   "metadata": {},
   "outputs": [],
   "source": [
    "pudl_settings = pudl.workspace.setup.get_defaults()\n",
    "pudl_engine = sa.create_engine(pudl_settings[\"pudl_db\"])"
   ]
  },
  {
   "cell_type": "markdown",
   "metadata": {},
   "source": [
    "### Baseline Access to pudl_out"
   ]
  },
  {
   "cell_type": "code",
   "execution_count": null,
   "metadata": {},
   "outputs": [],
   "source": [
    "# this configuration will return tables without aggregating by a time frequency... we'll explore that more below.\n",
    "pudl_out = pudl.output.pudltabl.PudlTabl(pudl_engine=pudl_engine)"
   ]
  },
  {
   "cell_type": "code",
   "execution_count": null,
   "metadata": {},
   "outputs": [],
   "source": [
    "# if you want to see all of the docstrings for the public functions in pudl_out\n",
    "# you can run this (it is commented out because it is quite long):\n",
    "#help(pudl_out)"
   ]
  },
  {
   "cell_type": "code",
   "execution_count": null,
   "metadata": {},
   "outputs": [],
   "source": [
    "# this is the master list of all of the methods in the pudl_out object\n",
    "# they all return a table cooresponding to their name\n",
    "methods_pudl_out = [\n",
    "    method_name for method_name in dir(pudl_out)\n",
    "    if callable(getattr(pudl_out, method_name))    # if it is a method\n",
    "    and '__' not in method_name                    # remove the internal methods\n",
    "]\n",
    "methods_pudl_out"
   ]
  },
  {
   "cell_type": "code",
   "execution_count": null,
   "metadata": {},
   "outputs": [],
   "source": [
    "# you can run any of them to get their table\n",
    "gens_eia860 = pudl_out.gens_eia860()\n",
    "gens_eia860.head()"
   ]
  },
  {
   "cell_type": "markdown",
   "metadata": {},
   "source": [
    "### Exploring pudl_out Arguments\n",
    "Below, we'll explore the main arguments that are used to customize the PUDL output object. You can mix and match these options."
   ]
  },
  {
   "cell_type": "code",
   "execution_count": null,
   "metadata": {},
   "outputs": [],
   "source": [
    "# here are the default arguments for the pudl_out object\n",
    "pudl_out = pudl.output.pudltabl.PudlTabl(\n",
    "    pudl_engine=pudl_engine, # we always need a pudl_engine\n",
    "    freq=None,               # Desired time grouping to aggregate PUDL tables to.\n",
    "    start_date=None,         # Beginning date for data to pull from the PUDL DB.\n",
    "    end_date=None,           # End date for data to pull from the PUDL DB.\n",
    "    fill=False,              # Whether or not to fill in missing fuel costs with EIA monthly state-level averages\n",
    "    roll=False,              # Whether or not to fill in monthly missing fuel costs with a 12-month rolling average.\n",
    ")"
   ]
  },
  {
   "cell_type": "markdown",
   "metadata": {},
   "source": [
    "#### Frequency Exploration"
   ]
  },
  {
   "cell_type": "markdown",
   "metadata": {},
   "source": [
    "The PUDL output object accepts any <a href=\"https://pandas.pydata.org/pandas-docs/stable/user_guide/timeseries.html#timeseries-offset-aliases\">frequency</a>, but the only tested and supported options are `AS` (annual starting at the begining of the calander year) and `MS` (monthly starting at the begining of the month)."
   ]
  },
  {
   "cell_type": "code",
   "execution_count": null,
   "metadata": {},
   "outputs": [],
   "source": [
    "pudl_out_as = pudl.output.pudltabl.PudlTabl(\n",
    "    pudl_engine=pudl_engine, # we always need a pudl_engine\n",
    "    freq='AS',               # Aggregate tables annually\n",
    ")"
   ]
  },
  {
   "cell_type": "code",
   "execution_count": null,
   "metadata": {},
   "outputs": [],
   "source": [
    "gen_eia_923_as = pudl_out_as.gen_eia923()\n",
    "gen_eia_923_as.head()"
   ]
  },
  {
   "cell_type": "code",
   "execution_count": null,
   "metadata": {},
   "outputs": [],
   "source": [
    "pudl_out_ms = pudl.output.pudltabl.PudlTabl(\n",
    "    pudl_engine=pudl_engine, # we always need a pudl_engine\n",
    "    freq='MS',               # Aggregate tables monthly\n",
    ")"
   ]
  },
  {
   "cell_type": "code",
   "execution_count": null,
   "metadata": {},
   "outputs": [],
   "source": [
    "gen_ms = pudl_out_ms.gen_eia923()\n",
    "gen_ms.head()"
   ]
  },
  {
   "cell_type": "markdown",
   "metadata": {},
   "source": [
    "#### Filling in Missing Values"
   ]
  },
  {
   "cell_type": "markdown",
   "metadata": {},
   "source": [
    "The `fill=True` argument below is where the EIA API key is required. If you don't have an EIA API key, <a href=\"https://www.eia.gov/opendata/register.php\">register for one here</a> and set it as an <a href=\"https://www.twilio.com/blog/2017/01/how-to-set-environment-variables.html\">environemt variable</a>."
   ]
  },
  {
   "cell_type": "code",
   "execution_count": null,
   "metadata": {},
   "outputs": [],
   "source": [
    "pudl_out_fill = pudl.output.pudltabl.PudlTabl(\n",
    "    pudl_engine=pudl_engine, # we always need a pudl_engine\n",
    "    freq='MS',               # Aggregate tables monthly\n",
    "    fill=True,               # Fill in missing fuel cost records with state-level averages from EIA's API\n",
    "    roll=True,               # Fill in missing fuel cost records with a 12-month rolling average.\n",
    ")"
   ]
  },
  {
   "cell_type": "code",
   "execution_count": null,
   "metadata": {},
   "outputs": [],
   "source": [
    "frc_eia923 = pudl_out_fill.frc_eia923()\n",
    "frc_eia923.head()"
   ]
  },
  {
   "cell_type": "markdown",
   "metadata": {},
   "source": [
    "### Denormalized PUDL Output Tables\n",
    "Below, we'll extract and show a sample of each of the denormalized PUDL output tables. We'll do this with an annual frequency, but you can customize the object below for any/all of these tables."
   ]
  },
  {
   "cell_type": "code",
   "execution_count": null,
   "metadata": {},
   "outputs": [],
   "source": [
    "pudl_out = pudl.output.pudltabl.PudlTabl(\n",
    "    pudl_engine=pudl_engine, # we always need a pudl_engine\n",
    "    freq='AS',               # Aggregate tables monthly\n",
    ")"
   ]
  },
  {
   "cell_type": "markdown",
   "metadata": {},
   "source": [
    "#### EIA Tables"
   ]
  },
  {
   "cell_type": "code",
   "execution_count": null,
   "metadata": {},
   "outputs": [],
   "source": [
    "# here are all of the EIA tables\n",
    "tables_eia = [\n",
    "    t for t in methods_pudl_out \n",
    "    if '_eia' in t \n",
    "    and '_eia861' not in t       # avoid the EIA 861 tables for now bc it is preliminary\n",
    "]\n",
    "tables_eia"
   ]
  },
  {
   "cell_type": "code",
   "execution_count": null,
   "metadata": {},
   "outputs": [],
   "source": [
    "# Pull a dataframe of EIA plant-utility associations.\n",
    "pu_assn_eia = pudl_out.pu_eia860()\n",
    "pu_assn_eia.sample(4)"
   ]
  },
  {
   "cell_type": "code",
   "execution_count": null,
   "metadata": {},
   "outputs": [],
   "source": [
    "# Pull a dataframe of boiler-generator associations from EIA 860.\n",
    "bga_eia860 = pudl_out.bga_eia860()\n",
    "bga_eia860.sample(4)"
   ]
  },
  {
   "cell_type": "code",
   "execution_count": null,
   "metadata": {},
   "outputs": [],
   "source": [
    "# Pull a dataframe of plant level info reported in EIA 860.\n",
    "plants_eia860 = pudl_out.plants_eia860()\n",
    "plants_eia860.sample(4)"
   ]
  },
  {
   "cell_type": "code",
   "execution_count": null,
   "metadata": {},
   "outputs": [],
   "source": [
    "# Pull a dataframe describing generators, as reported in EIA 860.\n",
    "gens_eia860 = pudl_out.gens_eia860()\n",
    "gens_eia860.sample(4)"
   ]
  },
  {
   "cell_type": "code",
   "execution_count": null,
   "metadata": {},
   "outputs": [],
   "source": [
    "# Pull a dataframe of generator level ownership data from EIA 860.\n",
    "own_eia860 = pudl_out.own_eia860()\n",
    "own_eia860.sample(4)"
   ]
  },
  {
   "cell_type": "code",
   "execution_count": null,
   "metadata": {},
   "outputs": [],
   "source": [
    "# Pull EIA 923 generation and fuel consumption data.\n",
    "gf_eia923 = pudl_out.gf_eia923()\n",
    "gf_eia923.sample(4)"
   ]
  },
  {
   "cell_type": "code",
   "execution_count": null,
   "metadata": {},
   "outputs": [],
   "source": [
    "# Pull EIA 923 fuel receipts and costs data.\n",
    "frc_eia923 = pudl_out.frc_eia923()\n",
    "frc_eia923.sample(4)"
   ]
  },
  {
   "cell_type": "code",
   "execution_count": null,
   "metadata": {},
   "outputs": [],
   "source": [
    "# Pull EIA 923 boiler fuel consumption data.\n",
    "bf_eia923 = pudl_out.bf_eia923()\n",
    "bf_eia923.sample(4)"
   ]
  },
  {
   "cell_type": "code",
   "execution_count": null,
   "metadata": {},
   "outputs": [],
   "source": [
    "# Pull EIA 923 net generation data by generator.\n",
    "gen_eia923 = pudl_out.gen_eia923()\n",
    "gen_eia923.sample(4)"
   ]
  },
  {
   "cell_type": "markdown",
   "metadata": {},
   "source": [
    "#### FERC Form 1 Tables"
   ]
  },
  {
   "cell_type": "code",
   "execution_count": null,
   "metadata": {},
   "outputs": [],
   "source": [
    "# here are all of the EIA 861 tables\n",
    "tables_ferc1 = [\n",
    "    t for t in methods_pudl_out \n",
    "    if '_ferc1' in t \n",
    "]\n",
    "tables_ferc1"
   ]
  },
  {
   "cell_type": "code",
   "execution_count": null,
   "metadata": {},
   "outputs": [],
   "source": [
    "# Pull the FERC Form 1 steam plants data.\n",
    "plants_steam_ferc1 = pudl_out.plants_steam_ferc1()\n",
    "plants_steam_ferc1.sample(4)"
   ]
  },
  {
   "cell_type": "code",
   "execution_count": null,
   "metadata": {},
   "outputs": [],
   "source": [
    "# Summarize FERC Form 1 fuel usage by plant.\n",
    "fbp_ferc1 = pudl_out.fbp_ferc1()\n",
    "fbp_ferc1.sample(4)"
   ]
  },
  {
   "cell_type": "markdown",
   "metadata": {},
   "source": [
    "### Pull Analysis Tables\n",
    "Catalyst typically does not add calculated fields into the PUDL database, but there are many calculated fields and analyses that are useful and necessary to ask certain questions. One focus of our analysis has been compiling MCOE data. \n"
   ]
  },
  {
   "cell_type": "code",
   "execution_count": null,
   "metadata": {},
   "outputs": [],
   "source": [
    "# Calculate and return generation unit level heat rates.\n",
    "hr_by_unit = pudl_out.hr_by_unit()\n",
    "hr_by_unit.sample(4)"
   ]
  },
  {
   "cell_type": "code",
   "execution_count": null,
   "metadata": {},
   "outputs": [],
   "source": [
    "# Calculate and return generator level heat rates (mmBTU/MWh).\n",
    "hr_by_gen = pudl_out.hr_by_gen()\n",
    "hr_by_gen.sample(4)"
   ]
  },
  {
   "cell_type": "code",
   "execution_count": null,
   "metadata": {},
   "outputs": [],
   "source": [
    "# Calculate and return generator level fuel costs per MWh.\n",
    "fuel_cost = pudl_out.fuel_cost()\n",
    "fuel_cost.sample(4)"
   ]
  },
  {
   "cell_type": "code",
   "execution_count": null,
   "metadata": {},
   "outputs": [],
   "source": [
    "# Calculate and return generator level capacity factors.\n",
    "capacity_factor = pudl_out.capacity_factor()\n",
    "capacity_factor.sample(4)"
   ]
  },
  {
   "cell_type": "code",
   "execution_count": null,
   "metadata": {},
   "outputs": [],
   "source": [
    "# Calculate and return generator level MCOE based on EIA data.\n",
    "mcoe = pudl_out.mcoe()\n",
    "mcoe.sample(4)"
   ]
  },
  {
   "cell_type": "markdown",
   "metadata": {},
   "source": [
    "### Access preliminary tables\n",
    "Integrating new datasets into the PUDL database requires many steps (datastore, extract, transform, load, outputs). Sometimes we need to use tables from new datasets as soon as possible for analysis. The output layer allows us to skip loading tables into the databse. This means we can have access to these data tables in a similar format as we will once the datasets are fully integrated. Although, buyers beware; we make no guarentees that these tables will be exactaly the same when we make that transition.\n",
    "\n",
    "As of December 2020, we have preliminarily integrated EIA 861 and FERC 714 in this format."
   ]
  },
  {
   "cell_type": "markdown",
   "metadata": {},
   "source": [
    "#### Preliminary EIA 861"
   ]
  },
  {
   "cell_type": "code",
   "execution_count": null,
   "metadata": {},
   "outputs": [],
   "source": [
    "# here are all of the EIA 861 tables\n",
    "methods_eia861 = [t for t in methods_pudl_out if '_eia861' in t]\n",
    "methods_eia861"
   ]
  },
  {
   "cell_type": "code",
   "execution_count": null,
   "metadata": {},
   "outputs": [],
   "source": [
    "# The first EIA 861 method runs an ET (extract/transform) process for all EIA 861 tables.\n",
    "# It takes ~2 minutes... but after that they are all cached\n",
    "\n",
    "# grab the balancing authority table\n",
    "ba_eia861 = pudl_out.balancing_authority_eia861()\n",
    "ba_eia861.sample(4)"
   ]
  },
  {
   "cell_type": "code",
   "execution_count": null,
   "metadata": {},
   "outputs": [],
   "source": [
    "# grab the advanced metering infrastructure table\n",
    "ami_eia861 = pudl_out.advanced_metering_infrastructure_eia861()\n",
    "ami_eia861.head()"
   ]
  },
  {
   "cell_type": "markdown",
   "metadata": {},
   "source": [
    "#### Preliminary FERC 714 Tables"
   ]
  },
  {
   "cell_type": "code",
   "execution_count": null,
   "metadata": {},
   "outputs": [],
   "source": [
    "# here are all of the FERC 714 tables\n",
    "methods_ferc714 = [t for t in methods_pudl_out if '_ferc714' in t]\n",
    "methods_ferc714"
   ]
  },
  {
   "cell_type": "code",
   "execution_count": null,
   "metadata": {},
   "outputs": [],
   "source": [
    "# like EIA 861, the first table you try to grad will run the ET (extract/transform) process\n",
    "# it should take ~15 minutes, but all of the 714 tables will then be cached and ready\n",
    "respondent_id_ferc714 = pudl_out.respondent_id_ferc714()\n",
    "respondent_id_ferc714.head()"
   ]
  },
  {
   "cell_type": "code",
   "execution_count": null,
   "metadata": {},
   "outputs": [],
   "source": [
    "demand_hourly_pa_ferc714 = pudl_out.demand_hourly_pa_ferc714()\n",
    "demand_hourly_pa_ferc714.head()"
   ]
  },
  {
   "cell_type": "code",
   "execution_count": null,
   "metadata": {},
   "outputs": [],
   "source": []
  }
 ],
 "metadata": {
  "kernelspec": {
   "display_name": "Python 3",
   "language": "python",
   "name": "python3"
  },
  "language_info": {
   "codemirror_mode": {
    "name": "ipython",
    "version": 3
   },
   "file_extension": ".py",
   "mimetype": "text/x-python",
   "name": "python",
   "nbconvert_exporter": "python",
   "pygments_lexer": "ipython3",
   "version": "3.8.6"
  }
 },
 "nbformat": 4,
 "nbformat_minor": 4
}
