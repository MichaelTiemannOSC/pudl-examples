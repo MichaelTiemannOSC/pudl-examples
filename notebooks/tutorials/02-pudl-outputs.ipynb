{
 "cells": [
  {
   "cell_type": "markdown",
   "metadata": {},
   "source": [
    "## Install PUDL\n",
    "* Until we get our custom Docker image built, PUDL needs to be installed in your user environment each session.\n",
    "* If you are using this notebook on the Catalyst JupyterHub, and this is the first notebook you've used this session, then uncomment the commands in the following cell and run it before anything else."
   ]
  },
  {
   "cell_type": "code",
   "execution_count": null,
   "metadata": {},
   "outputs": [],
   "source": [
    "#!conda install --yes --quiet python-snappy\n",
    "#!pip install --upgrade pip\n",
    "#!pip install --quiet git+https://github.com/catalyst-cooperative/pudl.git@jupyterhub-beta\n",
    "#!cp ~/shared/shared-pudl.yml ~/.pudl.yml"
   ]
  },
  {
   "cell_type": "code",
   "execution_count": null,
   "metadata": {},
   "outputs": [],
   "source": [
    "# import the necessary packages\n",
    "%load_ext autoreload\n",
    "%autoreload 2\n",
    "\n",
    "import logging\n",
    "import os\n",
    "import sys\n",
    "\n",
    "import pandas as pd\n",
    "import sqlalchemy as sa\n",
    "import pudl"
   ]
  },
  {
   "cell_type": "code",
   "execution_count": null,
   "metadata": {},
   "outputs": [],
   "source": [
    "# setup for python logging\n",
    "logger=logging.getLogger()\n",
    "logger.setLevel(logging.INFO)\n",
    "handler = logging.StreamHandler(stream=sys.stdout)\n",
    "formatter = logging.Formatter('%(message)s')\n",
    "handler.setFormatter(formatter)\n",
    "logger.handlers = [handler]"
   ]
  },
  {
   "cell_type": "markdown",
   "metadata": {},
   "source": [
    "## Set your EIA API Key\n",
    "Some of the routines in this notebook pull data from the EIA API to fill in missing fuel cost values. For them to work, you'll need to provide an API KEY. You can [obtain one from EIA here](https://www.eia.gov/opendata/register.php), uncomment the code in the next cell, and use it to set the `API_KEY_EIA` environment variable to be your key. (If you're running this notebook on your own computer and want to set the environment variable outside of the notebook [see this blog post](https://www.twilio.com/blog/2017/01/how-to-set-environment-variables.html))\n",
    "\n",
    "To set your API key in this notebook, uncomment the first line in the next cell and add your key in the quotes"
   ]
  },
  {
   "cell_type": "code",
   "execution_count": null,
   "metadata": {},
   "outputs": [],
   "source": [
    "# os.environ[\"API_KEY_EIA\"] = \"put your API key here\"\n",
    "assert os.environ.get(\"API_KEY_EIA\") is not None\n",
    "os.environ.get(\"API_KEY_EIA\")"
   ]
  },
  {
   "cell_type": "markdown",
   "metadata": {},
   "source": [
    "# Using the PUDL output layer\n",
    "The PUDL database tables are a clean, [normalized](https://en.wikipedia.org/wiki/Database_normalization) version of US electricity data. Normalized tables are great for databases and storage, but for interactive use, we often want a version of the data that includes plant and utility names and other associated info all in a single dataframe. These are \"denormalized\" tables. In addition to the referenced names and attributes like latitude and longitude or state, the denormalized tables often contain frequently calculated derived values (like calcuating `total_fuel_cost` from `total_heat_content_mmbtu` and `fuel_cost_per_mmbtu`). The Catalyst team developed a useful tool to access denormalized tables that we call the PUDL output object."
   ]
  },
  {
   "cell_type": "markdown",
   "metadata": {},
   "source": [
    "## What does the output layer provide?\n",
    "\n",
    "Right now the output layer provides access to three different kinds of things:\n",
    " * denormalized tables\n",
    " * analytical outputs\n",
    " * partially integrated PUDL datasets that aren't in the database yet"
   ]
  },
  {
   "cell_type": "markdown",
   "metadata": {},
   "source": [
    "## Why is the output layer useful?\n",
    "Some benefits of using the output layer:\n",
    " * **Standardized denormalization:** You don't have to manually join the same tables together to get access to common attributes.\n",
    " * **Table caching:** many analyses rely on using the same table multiple times. The PUDL output object caches the tables in memory as pandas dataframes so you don't have to read tables from the database over and over again.\n",
    " * **Time series aggregation:** Some tables are annual, some monthly, some hourly. When you create a PUDL output object you can tell it to aggregate the data to either monthly or annual resolution for analysis.\n",
    " * **Standardized the filling-in of missing data:** There's a ton of missing or incomplete data. If requested, the output objects will use rolling averages and  data from the EIA API try to fill some of that missing data in."
   ]
  },
  {
   "cell_type": "markdown",
   "metadata": {},
   "source": [
    "# Instantiating Output Objects\n",
    "* Grab the `pudl_settings`\n",
    "* Create a connection to the PUDL Database\n",
    "* Instantiate a `PudlTabl` object with that connection"
   ]
  },
  {
   "cell_type": "code",
   "execution_count": null,
   "metadata": {},
   "outputs": [],
   "source": [
    "pudl_settings = pudl.workspace.setup.get_defaults()\n",
    "pudl_settings"
   ]
  },
  {
   "cell_type": "code",
   "execution_count": null,
   "metadata": {},
   "outputs": [],
   "source": [
    "pudl_engine = sa.create_engine(pudl_settings[\"pudl_db\"])\n",
    "pudl_engine"
   ]
  },
  {
   "cell_type": "code",
   "execution_count": null,
   "metadata": {},
   "outputs": [],
   "source": [
    "# this configuration will return tables without aggregating by a time frequency... we'll explore that more below.\n",
    "pudl_out = pudl.output.pudltabl.PudlTabl(pudl_engine=pudl_engine)"
   ]
  },
  {
   "cell_type": "markdown",
   "metadata": {},
   "source": [
    "## List the output object methods\n",
    "* There are dozens of different data access methods within the `PudlTabl` object. If you want to see all of them with their docstrings, you can un-comment and run `help(pudl_out)` in the next cell.\n",
    "* If you type `pudl_out.` and press `Shift` and `Tab` at the same time, you'll see a list of available methods as well."
   ]
  },
  {
   "cell_type": "code",
   "execution_count": null,
   "metadata": {},
   "outputs": [],
   "source": [
    "#help(pudl_out)"
   ]
  },
  {
   "cell_type": "markdown",
   "metadata": {},
   "source": [
    "This cell will print out a simple list of all the available public methods inside the `pudl_out` object"
   ]
  },
  {
   "cell_type": "code",
   "execution_count": null,
   "metadata": {},
   "outputs": [],
   "source": [
    "# this is the master list of all of the methods in the pudl_out object\n",
    "# they all return a table cooresponding to their name\n",
    "methods_pudl_out = [\n",
    "    method_name for method_name in dir(pudl_out)\n",
    "    if callable(getattr(pudl_out, method_name))    # if it is a method\n",
    "    and '__' not in method_name                    # remove the internal methods\n",
    "]\n",
    "methods_pudl_out"
   ]
  },
  {
   "cell_type": "markdown",
   "metadata": {},
   "source": [
    "## Basic Functionality"
   ]
  },
  {
   "cell_type": "markdown",
   "metadata": {},
   "source": [
    "### Read a denormalized table\n",
    "* Each of output object methods will return a Pandas Dataframe.\n",
    "* Most of them correspond to a single database table, and will select all the data in that table, and automatically join it with some other useful information.\n",
    "* Many of the access methods use an abbreviated name for the database table. E.g. the following reads all the data out of the `generators_eia860` table."
   ]
  },
  {
   "cell_type": "code",
   "execution_count": null,
   "metadata": {},
   "outputs": [],
   "source": [
    "%%time\n",
    "gens_eia860 = pudl_out.gens_eia860()\n",
    "gens_eia860.info()"
   ]
  },
  {
   "cell_type": "markdown",
   "metadata": {},
   "source": [
    "### Automatic dataframe caching\n",
    "The `generators_eia860` table is quite long, and the above cell probably took several seconds to read 270,000 records each with 100 columns, creating an 800MB Dataframe. If you run the same output routine again, it will complete almost instantly because that dataframe is already stored inside `pudl_out`:"
   ]
  },
  {
   "cell_type": "code",
   "execution_count": null,
   "metadata": {},
   "outputs": [],
   "source": [
    "%%time\n",
    "gens_again_eia860 = pudl_out.gens_eia860()"
   ]
  },
  {
   "cell_type": "markdown",
   "metadata": {},
   "source": [
    "## Exploring pudl_out Arguments\n",
    "Below, we'll explore the main arguments that are used to customize the PUDL output object. You can mix and match these options.\n",
    "\n",
    "By default, the output object will read data from all available years, do no time aggregation, and not attempt to fill in missing values."
   ]
  },
  {
   "cell_type": "code",
   "execution_count": null,
   "metadata": {},
   "outputs": [],
   "source": [
    "# here are the default arguments for the pudl_out object\n",
    "pudl_out = pudl.output.pudltabl.PudlTabl(\n",
    "    pudl_engine=pudl_engine, # we always need a pudl_engine\n",
    "    freq=None,               # Desired time grouping to aggregate PUDL tables to.\n",
    "    start_date=None,         # Beginning date for data to pull from the PUDL DB.\n",
    "    end_date=None,           # End date for data to pull from the PUDL DB.\n",
    "    fill_fuel_cost=False,    # Whether to fill in missing fuel costs with EIA monthly state-level averages.\n",
    "    roll_fuel_cost=False,    # Whether to fill in monthly missing fuel costs with a 12-month rolling average.\n",
    "    fill_net_gen=False,      # Whether to fill in missing net_generation_mwh by generator based on plant-level generation data.\n",
    ")"
   ]
  },
  {
   "cell_type": "markdown",
   "metadata": {},
   "source": [
    "### Time series aggregation\n",
    "The PUDL output object can aggregate data on a monthly or annual basis, if you set the `freq` argument to `AS` (annual starting at the beginning of the calendar year) or `MS` (monthly starting at the beginning of the month) or [other equivalent frequency abbreviations](https://pandas.pydata.org/pandas-docs/stable/user_guide/timeseries.html#timeseries-offset-aliases).\n",
    "\n",
    "**NOTE:** Not all columns can be aggregated, so you may lose access to some kinds of information in aggregated outputs. If you need to retain information that gets lost in the default aggregation / groupby process, you may need to pull the unaggregated data and do your own aggregation."
   ]
  },
  {
   "cell_type": "code",
   "execution_count": null,
   "metadata": {},
   "outputs": [],
   "source": [
    "pudl_out_as = pudl.output.pudltabl.PudlTabl(\n",
    "    pudl_engine=pudl_engine, # we always need a pudl_engine\n",
    "    freq='AS',               # Aggregate tables annually\n",
    ")"
   ]
  },
  {
   "cell_type": "code",
   "execution_count": null,
   "metadata": {},
   "outputs": [],
   "source": [
    "gen_eia923_as = pudl_out_as.gen_eia923()\n",
    "gen_eia923_as.head()"
   ]
  },
  {
   "cell_type": "code",
   "execution_count": null,
   "metadata": {},
   "outputs": [],
   "source": [
    "pudl_out_ms = pudl.output.pudltabl.PudlTabl(\n",
    "    pudl_engine=pudl_engine, # we always need a pudl_engine\n",
    "    freq='MS',               # Aggregate tables monthly\n",
    ")"
   ]
  },
  {
   "cell_type": "code",
   "execution_count": null,
   "metadata": {},
   "outputs": [],
   "source": [
    "gen_eia923_ms = pudl_out_ms.gen_eia923()\n",
    "gen_eia923_ms.head()"
   ]
  },
  {
   "cell_type": "markdown",
   "metadata": {},
   "source": [
    "### Filling in Missing Fuel Costs\n",
    " * The original EIA data is often incomplete.\n",
    " * Many utilities withold information about their fuel costs.\n",
    " * We have a couple of ways of estimating missing values, if you need complete data.\n",
    "\n",
    "The ouput object created in the next cell will attempt to use all of these methods to fill in missing data.\n",
    "To fill in missing fuel costs, we can pull monthly state-level average fuel costs from EIA, and we can use rolling averages to fill in short gaps in the data.\n",
    "* Set `fill_fuel_cost=True` when creating an output object to pull average monthly fuel costs from the EIA API.\n",
    "* Set `roll_fuel_cost=True` when creating an output object to use a 12-month rolling average based on available data to fill in gaps.\n",
    "* These options can be used together to fill in as many gaps as possible.\n",
    "* **NOTE:** You need to have set the `API_KEY_EIA` environment variable to a valid EIA API key for this to work. See instructions at the top of this notebook."
   ]
  },
  {
   "cell_type": "code",
   "execution_count": null,
   "metadata": {},
   "outputs": [],
   "source": [
    "pudl_out_fill = pudl.output.pudltabl.PudlTabl(\n",
    "    pudl_engine=pudl_engine, # we always need a pudl_engine\n",
    "    freq='MS',               # Aggregate tables monthly\n",
    "    fill_fuel_cost=True,     # Fill in missing fuel cost records with state-level averages from EIA's API\n",
    "    roll_fuel_cost=True,     # Fill in missing fuel cost records with a 12-month rolling average.\n",
    ")"
   ]
  },
  {
   "cell_type": "code",
   "execution_count": null,
   "metadata": {},
   "outputs": [],
   "source": [
    "%%time\n",
    "frc_eia923_filled = pudl_out_fill.frc_eia923()\n",
    "frc_eia923_filled.head()"
   ]
  },
  {
   "cell_type": "markdown",
   "metadata": {},
   "source": [
    "Looking at the filled vs. unfilled monthly data in the Fuel Receipts and Costs data from EIA 923, we can see that there are about 190k possible monthly records. Unfilled, we have fuel costs for about 107k of them. With the state level monthly fuel costs and rolling averages, we can get that up to about 116k records. An improvement, but it's not great. Unfortunately this data simply isn't reported publicly."
   ]
  },
  {
   "cell_type": "code",
   "execution_count": null,
   "metadata": {},
   "outputs": [],
   "source": [
    "frc_eia923_ms = pudl_out_ms.frc_eia923()\n",
    "frc_eia923_ms[[\"plant_id_eia\", \"report_date\", \"fuel_cost_per_mmbtu\"]].info()"
   ]
  },
  {
   "cell_type": "code",
   "execution_count": null,
   "metadata": {},
   "outputs": [],
   "source": [
    "frc_eia923_filled[[\"plant_id_eia\", \"report_date\", \"fuel_cost_per_mmbtu\"]].info()"
   ]
  },
  {
   "cell_type": "markdown",
   "metadata": {},
   "source": [
    "# Denormalized Output Tables\n",
    "Below, we'll extract and show a sample of each of the denormalized PUDL output tables."
   ]
  },
  {
   "cell_type": "code",
   "execution_count": null,
   "metadata": {},
   "outputs": [],
   "source": [
    "pudl_out = pudl.output.pudltabl.PudlTabl(pudl_engine=pudl_engine)"
   ]
  },
  {
   "cell_type": "markdown",
   "metadata": {},
   "source": [
    "## EIA Forms 860 & 923"
   ]
  },
  {
   "cell_type": "code",
   "execution_count": null,
   "metadata": {},
   "outputs": [],
   "source": [
    "# here are all of the EIA tables\n",
    "tables_eia = [\n",
    "    t for t in methods_pudl_out \n",
    "    if '_eia' in t \n",
    "    and '_eia861' not in t       # avoid the EIA 861 tables for now bc it is preliminary\n",
    "]\n",
    "tables_eia"
   ]
  },
  {
   "cell_type": "markdown",
   "metadata": {},
   "source": [
    "### EIA Plant Utility Associations"
   ]
  },
  {
   "cell_type": "code",
   "execution_count": null,
   "metadata": {},
   "outputs": [],
   "source": [
    "pu_assn_eia = pudl_out.pu_eia860()\n",
    "pu_assn_eia.sample(4)"
   ]
  },
  {
   "cell_type": "markdown",
   "metadata": {},
   "source": [
    "### EIA 860 Boiler Generator Associations\n",
    "* **NOTE:** We have filled in many more boiler-generator associations based on additional information. The `bga_source` column indicates where the association came from."
   ]
  },
  {
   "cell_type": "code",
   "execution_count": null,
   "metadata": {},
   "outputs": [],
   "source": [
    "bga_eia860 = pudl_out.bga_eia860()\n",
    "bga_eia860.sample(4)"
   ]
  },
  {
   "cell_type": "markdown",
   "metadata": {},
   "source": [
    "### EIA 860 Plants"
   ]
  },
  {
   "cell_type": "code",
   "execution_count": null,
   "metadata": {},
   "outputs": [],
   "source": [
    "plants_eia860 = pudl_out.plants_eia860()\n",
    "plants_eia860.sample(4)"
   ]
  },
  {
   "cell_type": "markdown",
   "metadata": {},
   "source": [
    "### EIA 860 Generators"
   ]
  },
  {
   "cell_type": "code",
   "execution_count": null,
   "metadata": {},
   "outputs": [],
   "source": [
    "gens_eia860 = pudl_out.gens_eia860()\n",
    "gens_eia860.sample(4)"
   ]
  },
  {
   "cell_type": "markdown",
   "metadata": {},
   "source": [
    "### EIA 860 Generator-level Ownership"
   ]
  },
  {
   "cell_type": "code",
   "execution_count": null,
   "metadata": {},
   "outputs": [],
   "source": [
    "own_eia860 = pudl_out.own_eia860()\n",
    "own_eia860.sample(4)"
   ]
  },
  {
   "cell_type": "markdown",
   "metadata": {},
   "source": [
    "### EIA 923 Generation and Fuel Consumption"
   ]
  },
  {
   "cell_type": "code",
   "execution_count": null,
   "metadata": {},
   "outputs": [],
   "source": [
    "gf_eia923 = pudl_out.gf_eia923()\n",
    "gf_eia923.sample(4)"
   ]
  },
  {
   "cell_type": "markdown",
   "metadata": {},
   "source": [
    "### EIA 923 Fuel Receipts and Costs"
   ]
  },
  {
   "cell_type": "code",
   "execution_count": null,
   "metadata": {},
   "outputs": [],
   "source": [
    "frc_eia923 = pudl_out.frc_eia923()\n",
    "frc_eia923.sample(4)"
   ]
  },
  {
   "cell_type": "markdown",
   "metadata": {},
   "source": [
    "### EIA 923 Boiler Fuel Consumption"
   ]
  },
  {
   "cell_type": "code",
   "execution_count": null,
   "metadata": {},
   "outputs": [],
   "source": [
    "bf_eia923 = pudl_out.bf_eia923()\n",
    "bf_eia923.sample(4)"
   ]
  },
  {
   "cell_type": "markdown",
   "metadata": {},
   "source": [
    "### EIA 923 Net Generation by Generator"
   ]
  },
  {
   "cell_type": "code",
   "execution_count": null,
   "metadata": {},
   "outputs": [],
   "source": [
    "gen_eia923 = pudl_out.gen_eia923()\n",
    "gen_eia923.sample(4)"
   ]
  },
  {
   "cell_type": "markdown",
   "metadata": {},
   "source": [
    "## FERC Form 1\n",
    "* Only a small subset of the 100+ tables that exist in the original FERC Form 1 have been cleaned and included in the PUDL DB.\n",
    "* For tables not included here, you'll need to access the cloned multi-year FERC 1 DB that we produce. See the first tutorial notebook for more information."
   ]
  },
  {
   "cell_type": "code",
   "execution_count": null,
   "metadata": {},
   "outputs": [],
   "source": [
    "# All of the FERC Form 1 tables end with _ferc1\n",
    "tables_ferc1 = [\n",
    "    t for t in methods_pudl_out \n",
    "    if '_ferc1' in t \n",
    "]\n",
    "tables_ferc1"
   ]
  },
  {
   "cell_type": "markdown",
   "metadata": {},
   "source": [
    "### FERC 1 Large Steam Plants\n",
    "The large steam plants report detailed operating expenses in this table, as well as operational characteristics."
   ]
  },
  {
   "cell_type": "code",
   "execution_count": null,
   "metadata": {},
   "outputs": [],
   "source": [
    "plants_steam_ferc1 = pudl_out.plants_steam_ferc1()\n",
    "plants_steam_ferc1.sample(4)"
   ]
  },
  {
   "cell_type": "markdown",
   "metadata": {},
   "source": [
    "### FERC 1 Fuel\n",
    "Fuel consumption by the large steam plants, broken down by plant and fuel type."
   ]
  },
  {
   "cell_type": "code",
   "execution_count": null,
   "metadata": {},
   "outputs": [],
   "source": [
    "fuel_ferc1 = pudl_out.fuel_ferc1()\n",
    "fuel_ferc1.sample(5)"
   ]
  },
  {
   "cell_type": "markdown",
   "metadata": {},
   "source": [
    "### FERC 1 Fuel by Plant\n",
    "Wide-form aggregated fuel totals by plant and year, identifying the relative cost and heat content proportions of different fuels, as well as the primary fuel for the plant."
   ]
  },
  {
   "cell_type": "code",
   "execution_count": null,
   "metadata": {},
   "outputs": [],
   "source": [
    "fbp_ferc1 = pudl_out.fbp_ferc1()\n",
    "fbp_ferc1.sample(4)"
   ]
  },
  {
   "cell_type": "markdown",
   "metadata": {},
   "source": [
    "### FERC 1 Plant in Service\n",
    "An accounting of how much electric plant infrastructure exists in each of the many FERC accounts. This is a very wide form table."
   ]
  },
  {
   "cell_type": "code",
   "execution_count": null,
   "metadata": {},
   "outputs": [],
   "source": [
    "pis_ferc1 = pudl_out.plant_in_service_ferc1()\n",
    "pis_ferc1.sample(5)"
   ]
  },
  {
   "cell_type": "markdown",
   "metadata": {},
   "source": [
    "### FERC 1 Purchased Power\n",
    "A summary of electricity market transactions between utilities. Sadly the sellers are identified only by their names, and not their FERC Utility (Respondent) ID."
   ]
  },
  {
   "cell_type": "code",
   "execution_count": null,
   "metadata": {},
   "outputs": [],
   "source": [
    "purchased_power_ferc1 = pudl_out.purchased_power_ferc1()\n",
    "purchased_power_ferc1.sample(5)"
   ]
  },
  {
   "cell_type": "markdown",
   "metadata": {},
   "source": [
    "# Analysis Outputs\n",
    "* The PUDL Database is mainly meant to standardize the structure of data that's been reported in different ways over different years, so that it can all be used together.\n",
    "* We typically don't include calculated values or big modifications to the original data.\n",
    "* We're compiling a growing library of stock analyses in the `pudl.analysis` subpackage, which operate on data stored in the database.\n",
    "* Some of these analytical outputs are build into the output object so that they can take advantage of the dataframe caching, and for convenient access."
   ]
  },
  {
   "cell_type": "markdown",
   "metadata": {},
   "source": [
    "## The Marginal Cost of Electricity (MCOE)\n",
    "* One of our first analysis modules calculates fuel costs, heat rates, and capacity factors on a generator by generator basis.\n",
    "* The long term goal is for it to provide a comprehensive marginal cost of electricity production (MCOE).\n",
    "* The integration of operating costs from FERC Form 1 is still a work in progress, and hasn't been added in here yet."
   ]
  },
  {
   "cell_type": "markdown",
   "metadata": {},
   "source": [
    "### MCOE Requires Aggregation\n",
    "* Fuel costs and other data need to be aggregated by month or year to calculate MCOE.\n",
    "* This means we need an output object that aggregates by month or year.\n",
    "* Because a single `NA` value can wipe out a whole aggregated category, you'll get more information with a Monthly aggregation."
   ]
  },
  {
   "cell_type": "code",
   "execution_count": null,
   "metadata": {},
   "outputs": [],
   "source": [
    "pudl_out_monthly = pudl.output.pudltabl.PudlTabl(\n",
    "    pudl_engine=pudl_engine,\n",
    "    freq=\"MS\",\n",
    "    fill_fuel_cost=True,\n",
    "    roll_fuel_cost=True,\n",
    ")"
   ]
  },
  {
   "cell_type": "markdown",
   "metadata": {},
   "source": [
    "### Heat Rate by Generation Unit (MMBTU/MWh)\n",
    "* A \"Generation Unit\" (identifyed by `unit_id_pudl` here) is a group of \"boilers\" (where fuel is consumed) and \"generators\" (where electricity is made) which are connected to each other.\n",
    "* Because the fuel inputs and electricity outputs are comingled, this is the most granular level at which a direct heat rate calculation can be done."
   ]
  },
  {
   "cell_type": "code",
   "execution_count": null,
   "metadata": {},
   "outputs": [],
   "source": [
    "hr_by_unit = pudl_out_monthly.hr_by_unit()\n",
    "hr_by_unit.sample(4)"
   ]
  },
  {
   "cell_type": "markdown",
   "metadata": {},
   "source": [
    "### Heat Rate by Generator (mmBTU/MWh)\n",
    "* However, we do need per-generator heat rates to estimate per-generator fuel costs."
   ]
  },
  {
   "cell_type": "code",
   "execution_count": null,
   "metadata": {},
   "outputs": [],
   "source": [
    "hr_by_gen = pudl_out_monthly.hr_by_gen()\n",
    "hr_by_gen.sample(4)"
   ]
  },
  {
   "cell_type": "markdown",
   "metadata": {},
   "source": [
    "### Per-generator Fuel Costs\n",
    "* Calculate per-generator fuel costs based on heat rates and fuel deliveries"
   ]
  },
  {
   "cell_type": "code",
   "execution_count": null,
   "metadata": {},
   "outputs": [],
   "source": [
    "fuel_cost = pudl_out_monthly.fuel_cost()\n",
    "fuel_cost.sample(4)"
   ]
  },
  {
   "cell_type": "markdown",
   "metadata": {},
   "source": [
    "### Per-generator Capacity Factor"
   ]
  },
  {
   "cell_type": "code",
   "execution_count": null,
   "metadata": {},
   "outputs": [],
   "source": [
    "capacity_factor = pudl_out_monthly.capacity_factor()\n",
    "capacity_factor.sample(4)"
   ]
  },
  {
   "cell_type": "markdown",
   "metadata": {},
   "source": [
    "### Per-generator MCOE\n",
    "* This function uses the cached dataframes that were generated above to produce a huge table of per-generator statistics.\n",
    "* If you just called this function alone, all of those other dataframes would be automatically generated, and available within the output object."
   ]
  },
  {
   "cell_type": "code",
   "execution_count": null,
   "metadata": {},
   "outputs": [],
   "source": [
    "mcoe = pudl_out_monthly.mcoe()\n",
    "mcoe.sample(4)"
   ]
  },
  {
   "cell_type": "markdown",
   "metadata": {},
   "source": [
    "# Preliminary Output Tables \n",
    "* Integrating a new dataset into the PUDL database requires many steps (datastore, extract, transform, load, outputs).\n",
    "* Sometimes we need to use tables from new datasets as soon as possible for analysis.\n",
    "* The interim extract and transform steps can be hacked into the output object to run on the fly, prior to DB integration.\n",
    "* The data extraction and transformation can take a while though -- and it will need to be re-run from scratch every time you create a new output object.\n",
    "* **WARNING:** None of this data has been fully validated, and the structure is likely to change. Some of it (especially the FERC 714) is still in a pretty raw state.\n",
    "\n",
    "As of December 2020, we have preliminarily integrated EIA 861 and FERC 714 in this format."
   ]
  },
  {
   "cell_type": "markdown",
   "metadata": {},
   "source": [
    "## EIA Form 861\n",
    "* The interim EIA 861 ETL is set up to automatically run in its entirety as soon as you request any EIA 861 table.\n",
    "* This should take 2-5 minutes if you already have the raw input data avaialble.\n",
    "* If raw input data needs to be downloaded [from our Zenodo archives](https://zenodo.org/record/4127029) first (which should happen automatically), it will take longer."
   ]
  },
  {
   "cell_type": "code",
   "execution_count": null,
   "metadata": {},
   "outputs": [],
   "source": [
    "# here are all of the EIA 861 tables\n",
    "methods_eia861 = [t for t in methods_pudl_out if '_eia861' in t and \"etl\" not in t]\n",
    "methods_eia861"
   ]
  },
  {
   "cell_type": "markdown",
   "metadata": {},
   "source": [
    "### EIA 861 Balancing Authorities"
   ]
  },
  {
   "cell_type": "code",
   "execution_count": null,
   "metadata": {},
   "outputs": [],
   "source": [
    "ba_eia861 = pudl_out.balancing_authority_eia861()\n",
    "ba_eia861.sample(4)"
   ]
  },
  {
   "cell_type": "markdown",
   "metadata": {},
   "source": [
    "### EIA 861 Advanced Metering Infrastructure"
   ]
  },
  {
   "cell_type": "code",
   "execution_count": null,
   "metadata": {},
   "outputs": [],
   "source": [
    "ami_eia861 = pudl_out.advanced_metering_infrastructure_eia861()\n",
    "ami_eia861.sample(5)"
   ]
  },
  {
   "cell_type": "markdown",
   "metadata": {},
   "source": [
    "### EIA 861 Sales\n",
    "How much electricity did utilities report selling to different types of customers in each year by state?"
   ]
  },
  {
   "cell_type": "code",
   "execution_count": null,
   "metadata": {},
   "outputs": [],
   "source": [
    "sales_eia861 = pudl_out.sales_eia861()\n",
    "sales_eia861.sample(5)"
   ]
  },
  {
   "cell_type": "markdown",
   "metadata": {},
   "source": [
    "### EIA 861 Service Territories\n",
    "Which counties (with FIPS codes) each utility reported serving in each year."
   ]
  },
  {
   "cell_type": "code",
   "execution_count": null,
   "metadata": {},
   "outputs": [],
   "source": [
    "st_eia861 = pudl_out.service_territory_eia861()\n",
    "st_eia861.sample(5)"
   ]
  },
  {
   "cell_type": "markdown",
   "metadata": {},
   "source": [
    "## FERC Form 714\n",
    "* **NOTE:** Most of the FERC Form 714 tables have not yet been fully processed.\n",
    "* We have primarily been focused on the historical hourly demand reported by planning areas.\n",
    "* The hourly demand by planning area contains ~10 million rows and so it takes a while to process.\n",
    "* As with the EIA 861, the full interim ETL will be run as soon as you ask for any FERC 714 table.\n",
    "* Also as with the EIA 861, if you don't have the [raw FERC 714 input files](https://zenodo.org/record/4127101) cached locally already, they might take a minute to download.\n",
    "* Currently this whole process takes 10-15 minutes so... you might want to go get a snack."
   ]
  },
  {
   "cell_type": "code",
   "execution_count": null,
   "metadata": {},
   "outputs": [],
   "source": [
    "# here are all of the FERC 714 tables\n",
    "methods_ferc714 = [t for t in methods_pudl_out if '_ferc714' in t and \"etl\" not in t]\n",
    "methods_ferc714"
   ]
  },
  {
   "cell_type": "markdown",
   "metadata": {},
   "source": [
    "### FERC 714 Respondents"
   ]
  },
  {
   "cell_type": "code",
   "execution_count": null,
   "metadata": {},
   "outputs": [],
   "source": [
    "%%time\n",
    "respondent_id_ferc714 = pudl_out.respondent_id_ferc714()\n",
    "respondent_id_ferc714.sample(5)"
   ]
  },
  {
   "cell_type": "markdown",
   "metadata": {},
   "source": [
    "### FERC 714 Hourly Demand by Planning Area"
   ]
  },
  {
   "cell_type": "code",
   "execution_count": null,
   "metadata": {},
   "outputs": [],
   "source": [
    "demand_hourly_pa_ferc714 = pudl_out.demand_hourly_pa_ferc714()\n",
    "demand_hourly_pa_ferc714.sample(20)"
   ]
  },
  {
   "cell_type": "markdown",
   "metadata": {},
   "source": [
    "# Future Analyses\n",
    "The output object contains a lot of different kinds of things, and as we accumulate more and different kinds of analyses in our library, we're looking to break them out into their own reusable classes that access the database directly. Some work in progress here is related to constructing historical service territory geometries for both utilities and balancing authorities, and associating that data usefully with the FERC 714 respondents. Exploring that in detail is beyond the scope of this notebook, but check out the `pudl.output.ferc714` and `pudl.analysis.service_territory` modules for examples."
   ]
  },
  {
   "cell_type": "code",
   "execution_count": null,
   "metadata": {},
   "outputs": [],
   "source": [
    "%%time\n",
    "ferc714_out = pudl.output.ferc714.Respondents(pudl_out)\n",
    "annualized = ferc714_out.annualize()\n",
    "categorized = ferc714_out.categorize()\n",
    "summarized = ferc714_out.summarize_demand()\n",
    "fipsified = ferc714_out.fipsify()\n",
    "counties_gdf = ferc714_out.georef_counties()"
   ]
  },
  {
   "cell_type": "code",
   "execution_count": null,
   "metadata": {},
   "outputs": [],
   "source": []
  }
 ],
 "metadata": {
  "kernelspec": {
   "display_name": "Python 3",
   "language": "python",
   "name": "python3"
  },
  "language_info": {
   "codemirror_mode": {
    "name": "ipython",
    "version": 3
   },
   "file_extension": ".py",
   "mimetype": "text/x-python",
   "name": "python",
   "nbconvert_exporter": "python",
   "pygments_lexer": "ipython3",
   "version": "3.8.6"
  }
 },
 "nbformat": 4,
 "nbformat_minor": 4
}
