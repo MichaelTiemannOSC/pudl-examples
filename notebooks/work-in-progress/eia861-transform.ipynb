{
 "cells": [
  {
   "cell_type": "markdown",
   "metadata": {
    "jupyter": {
     "source_hidden": true
    }
   },
   "source": [
    "# Catalyst Cooperative Jupyter Notebook Template\n",
    "This notebook lays out a standard format and some best practices for creating interactive / exploratory notebooks which can be relatively easily shared between different PUDL users, and turned into reusable Python modules for integration into our underlying Python packages.\n",
    "\n",
    "## Begin with a narrative outline\n",
    "Each notebook should start with a brief explanation (in Markdown) explaining the purpose of the analysis, and outlining the different stages / steps which are taken to accomplish the analysis.\n",
    "As the analysis develops, you can add new sections or details to this section.\n",
    "\n",
    "## Notebooks should be runnable\n",
    "Insofar as it's possible, another PUDL user who has cloned the repository that the notebook is part of should be able to update their `pudl-dev` conda environment, open the notebook, and run all cells successfully.\n",
    "If there are required data or other prerequisites that the notebook cannot manage on its own -- like a file that needs to be downloaded by hand and placed in a particular location -- those steps should be laid out clearly at the beginning of the notebook.\n",
    "\n",
    "## Avoid Troublesome Elements\n",
    "\n",
    "### Don't hardcode passwords or access tokens\n",
    "Most of our work is done in public Github repositories.\n",
    "No authentication information should ever appear in a notebook.\n",
    "These values can be stored in environment variables on your local computer.\n",
    "\n",
    "### Do not hardocde values, especially late in the notebook\n",
    "If the analysis depends on particular choices of input values, those should be called out explicitly at the beginning of the notebook.\n",
    "(NB: We should explore ways to parameterize notebooks, [papermill](https://papermill.readthedocs.io/en/latest/) is one tool that does this).\n",
    "\n",
    "### Don't hardcode absolute file paths\n",
    "If anyone is going to be able to use the notebook, the files it uses will need to be stored somewhere that makes sense on both your and other computers.\n",
    "We assume that anyone using this template has the PUDL package installed, and has a local PUDL data management environment set up.\n",
    "  * Input data that needs to be stored on disk and accessed via a shared location should be saved under `<PUDL_IN>/data/local/<data_source>/`.\n",
    "  * Intermediate saved data products (e.g. a pickled result of a computationally intensive process) and results should be saved to a location relative to the notebook, and within the directory hierarchy of the repository that the notebook is part of.\n",
    "  \n",
    "### Don't require avoidable long-running computations\n",
    "Consider persisting to disk the results of computations that take more than a few minutes, if the outputs are small enough to be checked into the repository and shared with other users.\n",
    "Only require the expensive computation to be run if this pre-computed output is not available.\n",
    "\n",
    "### Don't litter\n",
    "Don't leave lots of additional code laying around, even commented out, \"just in case\" you want to look at it again later.\n",
    "Notebooks need to be relatively linear in the end, even though the thought processes and exploratory analyses that generate them may not be.\n",
    "Once you have a working analysis, either prune those branches, or encapsulate them as options within functions.\n",
    "\n",
    "### Don't load unneccesary libraries\n",
    "Only import libraries which are required by the notebook, to avoid unnecessary dependencies.\n",
    "If your analysis requires a new library that isn't yet part of the shared `pudl-dev` environment, add it to the `devtools/environment.yml` file so that others will get it when they update their environment.\n",
    "\n",
    "## Related Resources:\n",
    "Lots of these guidelines are taken directly from Emily Riederer's post: [RMarkdown Driven Development](https://emilyriederer.netlify.app/post/rmarkdown-driven-development/).\n",
    "For more in depth explanation of the motivations behind this layout, do go check it out!"
   ]
  },
  {
   "cell_type": "markdown",
   "metadata": {
    "jupyter": {
     "source_hidden": true
    }
   },
   "source": [
    "# Import Libraries\n",
    "* Because it's very likely that you will be editing the PUDL Python packages or your own local module under development while working in the notebook, use the %autoreload magic with autoreload level 2 to ensure that any changes you've made in those files are always reflected in the code that's running in the notebook.\n",
    "* Put all import statements at the top of the notebook, so everyone can see what its dependencies are up front, and so that if an import is going to fail, it fails early, before the rest of the notebook is run.\n",
    "* Try to avoid importing individual functions and classes from deep within packages, as it may not be clear to other users where those elements came from, later in the notebook, and also to minimize the chance of namespace collisions."
   ]
  },
  {
   "cell_type": "code",
   "execution_count": 1,
   "metadata": {},
   "outputs": [],
   "source": [
    "%load_ext autoreload\n",
    "%autoreload 2"
   ]
  },
  {
   "cell_type": "code",
   "execution_count": 2,
   "metadata": {},
   "outputs": [],
   "source": [
    "# Standard libraries\n",
    "import logging\n",
    "import os\n",
    "import pathlib\n",
    "import sys\n",
    "\n",
    "# 3rd party libraries\n",
    "import matplotlib.pyplot as plt\n",
    "import matplotlib as mpl\n",
    "import numpy as np\n",
    "import pandas as pd\n",
    "import seaborn as sns\n",
    "import sqlalchemy as sa\n",
    "\n",
    "# Local libraries\n",
    "import pudl"
   ]
  },
  {
   "cell_type": "markdown",
   "metadata": {},
   "source": [
    "# Configure Display Parameters"
   ]
  },
  {
   "cell_type": "code",
   "execution_count": 3,
   "metadata": {},
   "outputs": [],
   "source": [
    "sns.set()\n",
    "%matplotlib inline\n",
    "mpl.rcParams['figure.figsize'] = (10,4)\n",
    "mpl.rcParams['figure.dpi'] = 150\n",
    "pd.options.display.max_columns = 100\n",
    "pd.options.display.max_rows = 100"
   ]
  },
  {
   "cell_type": "markdown",
   "metadata": {},
   "source": [
    "# Use Python Logging facilities\n",
    "* Using a logger from the beginning will make the transition into the PUDL package easier.\n",
    "* Creating a logging handler here will also allow you to see the logging output coming from PUDL and other underlying packages."
   ]
  },
  {
   "cell_type": "code",
   "execution_count": 4,
   "metadata": {},
   "outputs": [],
   "source": [
    "# logger=logging.getLogger()\n",
    "# logger.setLevel(logging.INFO)\n",
    "# handler = logging.StreamHandler(stream=sys.stdout)\n",
    "# formatter = logging.Formatter('%(message)s')\n",
    "# handler.setFormatter(formatter)\n",
    "# logger.handlers = [handler]"
   ]
  },
  {
   "cell_type": "markdown",
   "metadata": {},
   "source": [
    "# Define Functions\n",
    "In many cases, the eventual product of a notebook analysis is going to be the creation of new, reusable functions that are integrated into the underlying PUDL code. You should begin the process of accumulating and organizing those functions as soon as you notice repeated patterns in your code.\n",
    "* Functions should be used to encapsulate any potentially reusable code.\n",
    "* Functions should be defined immediately after the imports, to avoid accidental dependence on zombie variables that are defined further down in the code\n",
    "* While they may evolve over time, having brief docstrings explaining what they do will help others understand them.\n",
    "* If there's a particular type of plot or visualization that is made repeatedly in the notebook, it's good to parameterize and functionalize it here too, so that as you refine the presentation of the data and results, those improvements can be made in a single place, and shown uniformly throughout the notebook.\n",
    "* As these functions mature and become more general purpose tools, you will probably want to start migrating them into their own local module, under a `src` directory in the same directory as the notebook. You will want to import this module "
   ]
  },
  {
   "cell_type": "markdown",
   "metadata": {},
   "source": [
    "## Dummy EIA 861 ETL"
   ]
  },
  {
   "cell_type": "code",
   "execution_count": 5,
   "metadata": {},
   "outputs": [],
   "source": [
    "def test_etl_eia(eia_inputs, pudl_settings):\n",
    "    \"\"\"\n",
    "    This is a dummy function that runs the first part of the EIA ETL\n",
    "    process -- everything up until the entity harvesting begins. For\n",
    "    use in this notebook only.\n",
    "\n",
    "    \"\"\"\n",
    "    eia860_tables = eia_inputs[\"eia860_tables\"]\n",
    "    eia860_years = eia_inputs[\"eia860_years\"]\n",
    "    eia861_tables = eia_inputs[\"eia861_tables\"]\n",
    "    eia861_years = eia_inputs[\"eia861_years\"]\n",
    "    eia923_tables = eia_inputs[\"eia923_tables\"]\n",
    "    eia923_years = eia_inputs[\"eia923_years\"]\n",
    "\n",
    "    # generate CSVs for the static EIA tables, return the list of tables\n",
    "    #static_tables = _load_static_tables_eia(datapkg_dir)\n",
    "\n",
    "    # Extract EIA forms 923, 860\n",
    "    eia860_raw_dfs = pudl.extract.eia860.Extractor().extract(eia860_years, testing=True)\n",
    "    eia861_raw_dfs = pudl.extract.eia861.Extractor().extract(eia861_years, testing=True)\n",
    "    eia923_raw_dfs = pudl.extract.eia923.Extractor().extract(eia923_years, testing=True)\n",
    "\n",
    "    # Transform EIA forms 860, 861, 923\n",
    "    eia860_transformed_dfs = pudl.transform.eia860.transform(eia860_raw_dfs, eia860_tables=eia860_tables)\n",
    "    eia861_transformed_dfs = pudl.transform.eia861.transform(eia861_raw_dfs, eia861_tables=eia861_tables)\n",
    "    eia923_transformed_dfs = pudl.transform.eia923.transform(eia923_raw_dfs, eia923_tables=eia923_tables)\n",
    "\n",
    "    # create an eia transformed dfs dictionary\n",
    "    eia_transformed_dfs = eia860_transformed_dfs.copy()\n",
    "    eia_transformed_dfs.update(eia861_transformed_dfs.copy())\n",
    "    eia_transformed_dfs.update(eia923_transformed_dfs.copy())\n",
    "\n",
    "    # convert types..\n",
    "    eia_transformed_dfs = pudl.helpers.convert_dfs_dict_dtypes(eia_transformed_dfs, 'eia')\n",
    "\n",
    "    return eia860_raw_dfs, eia861_raw_dfs, eia923_raw_dfs, eia_transformed_dfs"
   ]
  },
  {
   "cell_type": "markdown",
   "metadata": {},
   "source": [
    "# Define Notebook Parameters\n",
    "If there are overarching parameters which determine the nature of the analysis -- which US states to look at, which utilities are of interest, a particular start and end date -- state those clearly at the beginning of the analysis, so that they can be referred to by the rest of the notebook and easily changed if need be.\n",
    "* If the analysis depends on local (non-PUDL managed) datasets, define the paths to those data here.\n",
    "* If there are external URLs or other resource locations that will be accessed, define those here as well.\n",
    "* This is also where you should create your `pudl_settings` dictionary and connections to your local PUDL databases"
   ]
  },
  {
   "cell_type": "code",
   "execution_count": 6,
   "metadata": {},
   "outputs": [
    {
     "data": {
      "text/plain": [
       "{'pudl_in': '/Users/aesharpe/Desktop/Work/Catalyst_Coop/PUDL_DIR',\n",
       " 'data_dir': '/Users/aesharpe/Desktop/Work/Catalyst_Coop/PUDL_DIR/data',\n",
       " 'settings_dir': '/Users/aesharpe/Desktop/Work/Catalyst_Coop/PUDL_DIR/settings',\n",
       " 'pudl_out': '/Users/aesharpe/Desktop/Work/Catalyst_Coop/PUDL_DIR',\n",
       " 'sqlite_dir': '/Users/aesharpe/Desktop/Work/Catalyst_Coop/PUDL_DIR/sqlite',\n",
       " 'parquet_dir': '/Users/aesharpe/Desktop/Work/Catalyst_Coop/PUDL_DIR/parquet',\n",
       " 'datapkg_dir': '/Users/aesharpe/Desktop/Work/Catalyst_Coop/PUDL_DIR/datapkg',\n",
       " 'notebook_dir': '/Users/aesharpe/Desktop/Work/Catalyst_Coop/PUDL_DIR/notebook',\n",
       " 'ferc1_db': 'sqlite:////Users/aesharpe/Desktop/Work/Catalyst_Coop/PUDL_DIR/sqlite/ferc1.sqlite',\n",
       " 'pudl_db': 'sqlite:////Users/aesharpe/Desktop/Work/Catalyst_Coop/PUDL_DIR/sqlite/pudl.sqlite'}"
      ]
     },
     "metadata": {},
     "output_type": "display_data"
    },
    {
     "data": {
      "text/plain": [
       "Engine(sqlite:////Users/aesharpe/Desktop/Work/Catalyst_Coop/PUDL_DIR/sqlite/ferc1.sqlite)"
      ]
     },
     "metadata": {},
     "output_type": "display_data"
    },
    {
     "data": {
      "text/plain": [
       "Engine(sqlite:////Users/aesharpe/Desktop/Work/Catalyst_Coop/PUDL_DIR/sqlite/pudl.sqlite)"
      ]
     },
     "metadata": {},
     "output_type": "display_data"
    }
   ],
   "source": [
    "EIA861_YEARS = list(range(2001, 2019))\n",
    "pudl_settings = pudl.workspace.setup.get_defaults()\n",
    "display(pudl_settings)\n",
    "\n",
    "ferc1_engine = sa.create_engine(pudl_settings['ferc1_db'])\n",
    "display(ferc1_engine)\n",
    "\n",
    "pudl_engine = sa.create_engine(pudl_settings['pudl_db'])\n",
    "display(pudl_engine)\n",
    "\n",
    "pudl_out = pudl.output.pudltabl.PudlTabl(pudl_engine)\n",
    "\n",
    "\n",
    "# Is there other external data you need to pull in?\n",
    "# If so, put it in a (relatively) standard place on the filesystem.\n",
    "my_new_data_url = \"https://mynewdata.website.gov/path/to/new/data.csv\"\n",
    "my_new_datadir = pathlib.Path(pudl_settings[\"data_dir\"]) / \"local/new_data_source\"\n",
    "\n",
    "# Store API keys and other secrets in environment variables\n",
    "# and read them in here, if needed:\n",
    "# API_KEY_EIA = os.environ[\"API_KEY_EIA \"]\n",
    "# API_KEY_FRED = os.environ[\"API_KEY_FRED \"]"
   ]
  },
  {
   "cell_type": "markdown",
   "metadata": {},
   "source": [
    "# Load Data\n",
    "* Given the above parameters and functions, it should now be possible to load the required data into local variables for further wrangling, analysis, and visualization.\n",
    "* If the data is not yet present on the machine of the person running the notebook, this step should also acquire the data from its original source, and place it in the appropriate location under `<PUDL_IN>/data/local/`.\n",
    "* If there are steps which have to be done manually here, put them first so that they fail first if the user hasn't read the instructions, and they can fix the situation before a bunch of other work gets done. Try to minimize the amount of work in the filesystem that has to be done manually though.\n",
    "* If this process takes a little while, don't be shy about producing `logging` output.\n",
    "* Using the `%%time` cell magic can also help users understand which pieces of work / data acquisition are hard:"
   ]
  },
  {
   "cell_type": "markdown",
   "metadata": {},
   "source": [
    "## EIA 861 (2010-2018)\n",
    "* Not yet fully integrated into PUDL\n",
    "* Post-transform harvesting process isn't compatible w/ EIA 861 structure\n",
    "* Only getting the `sales_eia861`, `balancing_authority_eia861`, and `service_territory_eia861` tables"
   ]
  },
  {
   "cell_type": "markdown",
   "metadata": {},
   "source": [
    "### Already Transformed EIA 861 DataFrames"
   ]
  },
  {
   "cell_type": "code",
   "execution_count": 20,
   "metadata": {},
   "outputs": [
    {
     "name": "stdout",
     "output_type": "stream",
     "text": [
      "WARNING *** OLE2 inconsistency: SSCS size is 0 but SSAT size is non-zero\n",
      "WARNING *** OLE2 inconsistency: SSCS size is 0 but SSAT size is non-zero\n",
      "WARNING *** OLE2 inconsistency: SSCS size is 0 but SSAT size is non-zero\n",
      "WARNING *** OLE2 inconsistency: SSCS size is 0 but SSAT size is non-zero\n",
      "WARNING *** OLE2 inconsistency: SSCS size is 0 but SSAT size is non-zero\n",
      "WARNING *** OLE2 inconsistency: SSCS size is 0 but SSAT size is non-zero\n",
      "WARNING *** OLE2 inconsistency: SSCS size is 0 but SSAT size is non-zero\n",
      "WARNING *** OLE2 inconsistency: SSCS size is 0 but SSAT size is non-zero\n",
      "WARNING *** OLE2 inconsistency: SSCS size is 0 but SSAT size is non-zero\n",
      "WARNING *** OLE2 inconsistency: SSCS size is 0 but SSAT size is non-zero\n",
      "WARNING *** OLE2 inconsistency: SSCS size is 0 but SSAT size is non-zero\n",
      "WARNING *** OLE2 inconsistency: SSCS size is 0 but SSAT size is non-zero\n",
      "CPU times: user 2min 19s, sys: 4.02 s, total: 2min 23s\n",
      "Wall time: 2min 28s\n"
     ]
    }
   ],
   "source": [
    "%%time\n",
    "eia_inputs = {\n",
    "    \"eia860_years\": [],\n",
    "    \"eia860_tables\": pudl.constants.pudl_tables[\"eia860\"],\n",
    "    \"eia861_years\": EIA861_YEARS,\n",
    "    \"eia861_tables\": pudl.constants.pudl_tables[\"eia861\"],\n",
    "    \"eia923_years\": [],\n",
    "    \"eia923_tables\": pudl.constants.pudl_tables[\"eia923\"],\n",
    "}\n",
    "eia860_raw_dfs, eia861_raw_dfs, eia923_raw_dfs, eia_transformed_dfs = test_etl_eia(eia_inputs=eia_inputs, pudl_settings=pudl_settings)"
   ]
  },
  {
   "cell_type": "markdown",
   "metadata": {},
   "source": [
    "# Sanity Check Data\n",
    "If there's any validation that can be done on the data which you've loaded to flag if/when it is inappropriate for the analysis that follows, do it here. If you find the data is unusable, use `assert` statements or `raise` Exceptions to stop the notebook from proceeding, and indicate what the problem is."
   ]
  },
  {
   "cell_type": "code",
   "execution_count": 620,
   "metadata": {},
   "outputs": [],
   "source": [
    "# SHOULD ALSO MAKE REVENUE A NORMALIZED COLUMN??"
   ]
  },
  {
   "cell_type": "code",
   "execution_count": 8,
   "metadata": {},
   "outputs": [],
   "source": [
    "test_df = eia_transformed_dfs['operational_data_eia861'].copy()\n",
    "raw_df = eia861_raw_dfs['operational_data_eia861'].copy()"
   ]
  },
  {
   "cell_type": "code",
   "execution_count": 19,
   "metadata": {},
   "outputs": [
    {
     "data": {
      "text/plain": [
       "0        [SPP]\n",
       "1    [SPP, RF]\n",
       "dtype: object"
      ]
     },
     "execution_count": 19,
     "metadata": {},
     "output_type": "execute_result"
    }
   ],
   "source": [
    "test_series = pd.Series([['SPP'], ['SPP', 'RF']])\n",
    "test_series.replace(nerc_spellcheck)"
   ]
  },
  {
   "cell_type": "code",
   "execution_count": 10,
   "metadata": {},
   "outputs": [
    {
     "data": {
      "text/plain": [
       "dict_keys(['service_territory_eia861', 'balancing_authority_eia861', 'sales_eia861', 'advanced_metering_infrastructure_eia861', 'demand_response_eia861', 'distribution_systems_eia861', 'dynamic_pricing_eia861', 'green_pricing_eia861', 'mergers_eia861', 'net_metering_eia861', 'non_net_metering_eia861', 'operational_data_eia861', 'balancing_authority_assn_eia861'])"
      ]
     },
     "execution_count": 10,
     "metadata": {},
     "output_type": "execute_result"
    }
   ],
   "source": [
    "eia_transformed_dfs.keys()"
   ]
  },
  {
   "cell_type": "code",
   "execution_count": 12,
   "metadata": {},
   "outputs": [
    {
     "data": {
      "text/html": [
       "<div>\n",
       "<style scoped>\n",
       "    .dataframe tbody tr th:only-of-type {\n",
       "        vertical-align: middle;\n",
       "    }\n",
       "\n",
       "    .dataframe tbody tr th {\n",
       "        vertical-align: top;\n",
       "    }\n",
       "\n",
       "    .dataframe thead th {\n",
       "        text-align: right;\n",
       "    }\n",
       "</style>\n",
       "<table border=\"1\" class=\"dataframe\">\n",
       "  <thead>\n",
       "    <tr style=\"text-align: right;\">\n",
       "      <th></th>\n",
       "      <th>utility_id_eia</th>\n",
       "      <th>state</th>\n",
       "      <th>balancing_authority_code_eia</th>\n",
       "      <th>report_date</th>\n",
       "      <th>customer_class</th>\n",
       "      <th>current_flow_type</th>\n",
       "      <th>utility_name_eia</th>\n",
       "      <th>energy_displaced_mwh</th>\n",
       "      <th>tech_class</th>\n",
       "      <th>capacity_mw</th>\n",
       "      <th>customers</th>\n",
       "      <th>sold_to_utility_mwh</th>\n",
       "      <th>storage_capacity_mw</th>\n",
       "      <th>storage_customers</th>\n",
       "      <th>virtual_capacity_mw</th>\n",
       "      <th>virtual_customers</th>\n",
       "    </tr>\n",
       "  </thead>\n",
       "  <tbody>\n",
       "    <tr>\n",
       "      <th>0</th>\n",
       "      <td>856</td>\n",
       "      <td>TX</td>\n",
       "      <td>UNK</td>\n",
       "      <td>2002-01-01</td>\n",
       "      <td>commercial</td>\n",
       "      <td>NaN</td>\n",
       "      <td>AEP Texas Commercial &amp; Ind</td>\n",
       "      <td>NaN</td>\n",
       "      <td>chpcogen</td>\n",
       "      <td>NaN</td>\n",
       "      <td>&lt;NA&gt;</td>\n",
       "      <td>NaN</td>\n",
       "      <td>NaN</td>\n",
       "      <td>&lt;NA&gt;</td>\n",
       "      <td>NaN</td>\n",
       "      <td>&lt;NA&gt;</td>\n",
       "    </tr>\n",
       "    <tr>\n",
       "      <th>1</th>\n",
       "      <td>856</td>\n",
       "      <td>TX</td>\n",
       "      <td>UNK</td>\n",
       "      <td>2002-01-01</td>\n",
       "      <td>commercial</td>\n",
       "      <td>NaN</td>\n",
       "      <td>AEP Texas Commercial &amp; Ind</td>\n",
       "      <td>NaN</td>\n",
       "      <td>other</td>\n",
       "      <td>NaN</td>\n",
       "      <td>&lt;NA&gt;</td>\n",
       "      <td>NaN</td>\n",
       "      <td>NaN</td>\n",
       "      <td>&lt;NA&gt;</td>\n",
       "      <td>NaN</td>\n",
       "      <td>&lt;NA&gt;</td>\n",
       "    </tr>\n",
       "    <tr>\n",
       "      <th>2</th>\n",
       "      <td>856</td>\n",
       "      <td>TX</td>\n",
       "      <td>UNK</td>\n",
       "      <td>2002-01-01</td>\n",
       "      <td>commercial</td>\n",
       "      <td>NaN</td>\n",
       "      <td>AEP Texas Commercial &amp; Ind</td>\n",
       "      <td>NaN</td>\n",
       "      <td>pv</td>\n",
       "      <td>NaN</td>\n",
       "      <td>&lt;NA&gt;</td>\n",
       "      <td>NaN</td>\n",
       "      <td>NaN</td>\n",
       "      <td>&lt;NA&gt;</td>\n",
       "      <td>NaN</td>\n",
       "      <td>&lt;NA&gt;</td>\n",
       "    </tr>\n",
       "    <tr>\n",
       "      <th>3</th>\n",
       "      <td>856</td>\n",
       "      <td>TX</td>\n",
       "      <td>UNK</td>\n",
       "      <td>2002-01-01</td>\n",
       "      <td>commercial</td>\n",
       "      <td>NaN</td>\n",
       "      <td>AEP Texas Commercial &amp; Ind</td>\n",
       "      <td>NaN</td>\n",
       "      <td>total</td>\n",
       "      <td>NaN</td>\n",
       "      <td>69</td>\n",
       "      <td>NaN</td>\n",
       "      <td>NaN</td>\n",
       "      <td>&lt;NA&gt;</td>\n",
       "      <td>NaN</td>\n",
       "      <td>&lt;NA&gt;</td>\n",
       "    </tr>\n",
       "    <tr>\n",
       "      <th>4</th>\n",
       "      <td>856</td>\n",
       "      <td>TX</td>\n",
       "      <td>UNK</td>\n",
       "      <td>2002-01-01</td>\n",
       "      <td>commercial</td>\n",
       "      <td>NaN</td>\n",
       "      <td>AEP Texas Commercial &amp; Ind</td>\n",
       "      <td>NaN</td>\n",
       "      <td>wind</td>\n",
       "      <td>NaN</td>\n",
       "      <td>&lt;NA&gt;</td>\n",
       "      <td>NaN</td>\n",
       "      <td>NaN</td>\n",
       "      <td>&lt;NA&gt;</td>\n",
       "      <td>NaN</td>\n",
       "      <td>&lt;NA&gt;</td>\n",
       "    </tr>\n",
       "    <tr>\n",
       "      <th>...</th>\n",
       "      <td>...</td>\n",
       "      <td>...</td>\n",
       "      <td>...</td>\n",
       "      <td>...</td>\n",
       "      <td>...</td>\n",
       "      <td>...</td>\n",
       "      <td>...</td>\n",
       "      <td>...</td>\n",
       "      <td>...</td>\n",
       "      <td>...</td>\n",
       "      <td>...</td>\n",
       "      <td>...</td>\n",
       "      <td>...</td>\n",
       "      <td>...</td>\n",
       "      <td>...</td>\n",
       "      <td>...</td>\n",
       "    </tr>\n",
       "    <tr>\n",
       "      <th>222155</th>\n",
       "      <td>99999</td>\n",
       "      <td>WY</td>\n",
       "      <td>PACE</td>\n",
       "      <td>2018-01-01</td>\n",
       "      <td>transportation</td>\n",
       "      <td>NaN</td>\n",
       "      <td>Adjustment 2018</td>\n",
       "      <td>NaN</td>\n",
       "      <td>chpcogen</td>\n",
       "      <td>NaN</td>\n",
       "      <td>&lt;NA&gt;</td>\n",
       "      <td>NaN</td>\n",
       "      <td>NaN</td>\n",
       "      <td>&lt;NA&gt;</td>\n",
       "      <td>NaN</td>\n",
       "      <td>&lt;NA&gt;</td>\n",
       "    </tr>\n",
       "    <tr>\n",
       "      <th>222156</th>\n",
       "      <td>99999</td>\n",
       "      <td>WY</td>\n",
       "      <td>PACE</td>\n",
       "      <td>2018-01-01</td>\n",
       "      <td>transportation</td>\n",
       "      <td>NaN</td>\n",
       "      <td>Adjustment 2018</td>\n",
       "      <td>NaN</td>\n",
       "      <td>other</td>\n",
       "      <td>NaN</td>\n",
       "      <td>&lt;NA&gt;</td>\n",
       "      <td>NaN</td>\n",
       "      <td>NaN</td>\n",
       "      <td>&lt;NA&gt;</td>\n",
       "      <td>NaN</td>\n",
       "      <td>&lt;NA&gt;</td>\n",
       "    </tr>\n",
       "    <tr>\n",
       "      <th>222157</th>\n",
       "      <td>99999</td>\n",
       "      <td>WY</td>\n",
       "      <td>PACE</td>\n",
       "      <td>2018-01-01</td>\n",
       "      <td>transportation</td>\n",
       "      <td>NaN</td>\n",
       "      <td>Adjustment 2018</td>\n",
       "      <td>NaN</td>\n",
       "      <td>pv</td>\n",
       "      <td>0.0</td>\n",
       "      <td>&lt;NA&gt;</td>\n",
       "      <td>NaN</td>\n",
       "      <td>NaN</td>\n",
       "      <td>&lt;NA&gt;</td>\n",
       "      <td>NaN</td>\n",
       "      <td>&lt;NA&gt;</td>\n",
       "    </tr>\n",
       "    <tr>\n",
       "      <th>222158</th>\n",
       "      <td>99999</td>\n",
       "      <td>WY</td>\n",
       "      <td>PACE</td>\n",
       "      <td>2018-01-01</td>\n",
       "      <td>transportation</td>\n",
       "      <td>NaN</td>\n",
       "      <td>Adjustment 2018</td>\n",
       "      <td>NaN</td>\n",
       "      <td>total</td>\n",
       "      <td>0.0</td>\n",
       "      <td>&lt;NA&gt;</td>\n",
       "      <td>NaN</td>\n",
       "      <td>NaN</td>\n",
       "      <td>&lt;NA&gt;</td>\n",
       "      <td>NaN</td>\n",
       "      <td>&lt;NA&gt;</td>\n",
       "    </tr>\n",
       "    <tr>\n",
       "      <th>222159</th>\n",
       "      <td>99999</td>\n",
       "      <td>WY</td>\n",
       "      <td>PACE</td>\n",
       "      <td>2018-01-01</td>\n",
       "      <td>transportation</td>\n",
       "      <td>NaN</td>\n",
       "      <td>Adjustment 2018</td>\n",
       "      <td>NaN</td>\n",
       "      <td>wind</td>\n",
       "      <td>NaN</td>\n",
       "      <td>&lt;NA&gt;</td>\n",
       "      <td>NaN</td>\n",
       "      <td>NaN</td>\n",
       "      <td>&lt;NA&gt;</td>\n",
       "      <td>NaN</td>\n",
       "      <td>&lt;NA&gt;</td>\n",
       "    </tr>\n",
       "  </tbody>\n",
       "</table>\n",
       "<p>222160 rows × 16 columns</p>\n",
       "</div>"
      ],
      "text/plain": [
       "        utility_id_eia state balancing_authority_code_eia report_date  \\\n",
       "0                  856    TX                          UNK  2002-01-01   \n",
       "1                  856    TX                          UNK  2002-01-01   \n",
       "2                  856    TX                          UNK  2002-01-01   \n",
       "3                  856    TX                          UNK  2002-01-01   \n",
       "4                  856    TX                          UNK  2002-01-01   \n",
       "...                ...   ...                          ...         ...   \n",
       "222155           99999    WY                         PACE  2018-01-01   \n",
       "222156           99999    WY                         PACE  2018-01-01   \n",
       "222157           99999    WY                         PACE  2018-01-01   \n",
       "222158           99999    WY                         PACE  2018-01-01   \n",
       "222159           99999    WY                         PACE  2018-01-01   \n",
       "\n",
       "        customer_class current_flow_type            utility_name_eia  \\\n",
       "0           commercial               NaN  AEP Texas Commercial & Ind   \n",
       "1           commercial               NaN  AEP Texas Commercial & Ind   \n",
       "2           commercial               NaN  AEP Texas Commercial & Ind   \n",
       "3           commercial               NaN  AEP Texas Commercial & Ind   \n",
       "4           commercial               NaN  AEP Texas Commercial & Ind   \n",
       "...                ...               ...                         ...   \n",
       "222155  transportation               NaN             Adjustment 2018   \n",
       "222156  transportation               NaN             Adjustment 2018   \n",
       "222157  transportation               NaN             Adjustment 2018   \n",
       "222158  transportation               NaN             Adjustment 2018   \n",
       "222159  transportation               NaN             Adjustment 2018   \n",
       "\n",
       "        energy_displaced_mwh tech_class  capacity_mw  customers  \\\n",
       "0                        NaN   chpcogen          NaN       <NA>   \n",
       "1                        NaN      other          NaN       <NA>   \n",
       "2                        NaN         pv          NaN       <NA>   \n",
       "3                        NaN      total          NaN         69   \n",
       "4                        NaN       wind          NaN       <NA>   \n",
       "...                      ...        ...          ...        ...   \n",
       "222155                   NaN   chpcogen          NaN       <NA>   \n",
       "222156                   NaN      other          NaN       <NA>   \n",
       "222157                   NaN         pv          0.0       <NA>   \n",
       "222158                   NaN      total          0.0       <NA>   \n",
       "222159                   NaN       wind          NaN       <NA>   \n",
       "\n",
       "        sold_to_utility_mwh  storage_capacity_mw  storage_customers  \\\n",
       "0                       NaN                  NaN               <NA>   \n",
       "1                       NaN                  NaN               <NA>   \n",
       "2                       NaN                  NaN               <NA>   \n",
       "3                       NaN                  NaN               <NA>   \n",
       "4                       NaN                  NaN               <NA>   \n",
       "...                     ...                  ...                ...   \n",
       "222155                  NaN                  NaN               <NA>   \n",
       "222156                  NaN                  NaN               <NA>   \n",
       "222157                  NaN                  NaN               <NA>   \n",
       "222158                  NaN                  NaN               <NA>   \n",
       "222159                  NaN                  NaN               <NA>   \n",
       "\n",
       "        virtual_capacity_mw  virtual_customers  \n",
       "0                       NaN               <NA>  \n",
       "1                       NaN               <NA>  \n",
       "2                       NaN               <NA>  \n",
       "3                       NaN               <NA>  \n",
       "4                       NaN               <NA>  \n",
       "...                     ...                ...  \n",
       "222155                  NaN               <NA>  \n",
       "222156                  NaN               <NA>  \n",
       "222157                  NaN               <NA>  \n",
       "222158                  NaN               <NA>  \n",
       "222159                  NaN               <NA>  \n",
       "\n",
       "[222160 rows x 16 columns]"
      ]
     },
     "execution_count": 12,
     "metadata": {},
     "output_type": "execute_result"
    }
   ],
   "source": [
    "eia_transformed_dfs['net_metering_eia861']"
   ]
  },
  {
   "cell_type": "code",
   "execution_count": 15,
   "metadata": {},
   "outputs": [],
   "source": [
    "import numpy as np\n",
    "\n",
    "idx_cols = [\n",
    "    'utility_id_eia',\n",
    "    'state',\n",
    "    'nerc_region',\n",
    "    'report_date',\n",
    "]\n",
    "\n",
    "recognized_nerc_regions = [\n",
    "    'ASCC',\n",
    "    'ECAR',\n",
    "    'ERCOT',\n",
    "    'FRCC',\n",
    "    'HICC',\n",
    "    'MAAC',\n",
    "    'MAIN',\n",
    "    'MAPP',\n",
    "    'MRO',\n",
    "    'NPCC',\n",
    "    'RFC',\n",
    "    'SERC',\n",
    "    'SPP',\n",
    "    'TRE',\n",
    "    'WECC',\n",
    "    'WSCC',  # pre-2002 version of WECC\n",
    "    'MISO',  # unclear whether technically a regional entity, but lots of entries\n",
    "    'AK',  # Alaska\n",
    "    'HI',  # Hawaii\n",
    "    'VI',  # Virgin Islands\n",
    "    'GU',  # Guam\n",
    "    'PR',  # Puerto Rico\n",
    "    'AS',  # American Samoa\n",
    "    'UNK',\n",
    "]\n",
    "\n",
    "nerc_spellcheck = {\n",
    "    'GUSTAVUSAK': 'AK',\n",
    "    'ERCTO': 'ERCOT',\n",
    "    'RFO': 'RFC',\n",
    "    'RF': 'RFC',\n",
    "    'SSP': 'SPP',\n",
    "    'VACAR': 'SERC',  # VACAR is a subregion of SERC\n",
    "    'GATEWAY': 'SERC',  # GATEWAY is a subregion of SERC\n",
    "    'TERR': 'GU',\n",
    "}"
   ]
  },
  {
   "cell_type": "markdown",
   "metadata": {},
   "source": [
    "Version with APPLY"
   ]
  },
  {
   "cell_type": "code",
   "execution_count": 365,
   "metadata": {},
   "outputs": [
    {
     "name": "stderr",
     "output_type": "stream",
     "text": [
      "/Users/aesharpe/miniconda3/envs/pudl-dev/lib/python3.8/site-packages/pandas/core/indexing.py:966: SettingWithCopyWarning: \n",
      "A value is trying to be set on a copy of a slice from a DataFrame.\n",
      "Try using .loc[row_indexer,col_indexer] = value instead\n",
      "\n",
      "See the caveats in the documentation: https://pandas.pydata.org/pandas-docs/stable/user_guide/indexing.html#returning-a-view-versus-a-copy\n",
      "  self.obj[item] = s\n"
     ]
    },
    {
     "name": "stdout",
     "output_type": "stream",
     "text": [
      "CPU times: user 739 ms, sys: 49 ms, total: 788 ms\n",
      "Wall time: 827 ms\n"
     ]
    }
   ],
   "source": [
    "%%time\n",
    "\n",
    "# Create an index list without nerc_region\n",
    "idx_no_nerc = idx_cols.copy()\n",
    "if 'nerc_region' in idx_no_nerc:\n",
    "    idx_no_nerc.remove('nerc_region')\n",
    "\n",
    "# Split raw df into primary keys plus nerc region and other value cols\n",
    "nerc_df = test_df[idx_cols]\n",
    "other_df = test_df.drop('nerc_region', axis=1).set_index(idx_no_nerc)\n",
    "\n",
    "# Backfill the utility with strange numeric nerc region\n",
    "nerc_df.loc[nerc_df.utility_id_eia == 55959, 'nerc_region'] = 'MRO'\n",
    "\n",
    "# Make all values upper-case\n",
    "# Replace all NA values with UNK\n",
    "# Make nerc values into lists to see how many separate values are stuffed into one row (ex: 'SPP & ERCOT' --> ['SPP', 'ERCOT'])\n",
    "nerc_df = (\n",
    "    nerc_df.assign(\n",
    "        nerc_region=(lambda x: (\n",
    "            x.nerc_region\n",
    "            .str.upper()\n",
    "            .fillna('UNK')\n",
    "            .str.findall(r'[A-Z]+')))\n",
    "    )\n",
    ")\n",
    "\n",
    "# Record a list of the reported nerc regions not included in the recognized regions list (these eventually become UNK)\n",
    "nerc_col = nerc_df['nerc_region'].tolist()\n",
    "nerc_list = list(set([item for sublist in nerc_col for item in sublist]))\n",
    "non_nerc_list = [nerc_entity for nerc_entity in nerc_list if nerc_entity not in recognized_nerc_regions + list(nerc_spellcheck.keys())]\n",
    "\n",
    "def remove_unk_multiples(entity_list):\n",
    "    if ((len(entity_list)> 1) & ('UNK' in entity_list)):\n",
    "        entity_list.remove('UNK')\n",
    "    return entity_list\n",
    "\n",
    "\n",
    "# Go through the nerc regions, spellcheck errors, delete those that aren't recognized, and piece them back together\n",
    "# (with _ separator if more than one recognized)\n",
    "nerc_df['nerc_region'] = (\n",
    "    nerc_df['nerc_region']\n",
    "    .apply(lambda x:[i if i not in nerc_spellcheck.keys() else nerc_spellcheck[i] for i in x])\n",
    "    .apply(lambda x: sorted([i if i in recognized_nerc_regions else 'UNK' for i in x]))\n",
    "    .apply(lambda x: remove_unk_multiples(x))\n",
    "    .str.join('_')\n",
    ")\n",
    "\n",
    "full_df = pd.merge(nerc_df, other_df, on=idx_no_nerc)"
   ]
  },
  {
   "cell_type": "markdown",
   "metadata": {},
   "source": [
    "Version with STACK"
   ]
  },
  {
   "cell_type": "code",
   "execution_count": 80,
   "metadata": {
    "jupyter": {
     "source_hidden": true
    }
   },
   "outputs": [
    {
     "name": "stdout",
     "output_type": "stream",
     "text": [
      "CPU times: user 1.09 s, sys: 30.5 ms, total: 1.12 s\n",
      "Wall time: 1.51 s\n"
     ]
    }
   ],
   "source": [
    "%%time\n",
    "\n",
    "# Create an index list without nerc_region\n",
    "idx_no_nerc = idx_cols.copy()\n",
    "if 'nerc_region' in idx_no_nerc:\n",
    "    idx_no_nerc.remove('nerc_region')\n",
    "\n",
    "# Split raw df into primary keys plus nerc region and other value cols\n",
    "nerc_df = test_df[idx_cols]\n",
    "other_df = test_df.drop('nerc_region', axis=1).set_index(idx_no_nerc)\n",
    "\n",
    "# Backfill the utility with strange numeric nerc region\n",
    "nerc_df.loc[nerc_df.utility_id_eia == 55959, 'nerc_region'] = 'MRO'\n",
    "\n",
    "# Make all values upper-case\n",
    "# Replace all NA values with UNK\n",
    "# Make nerc values into lists to see how many separate values are stuffed into one row (ex: SPP & ERCOT)\n",
    "nerc_df = (\n",
    "    nerc_df.assign(\n",
    "        nerc_region=(lambda x: (\n",
    "            x.nerc_region\n",
    "            .str.upper()\n",
    "            .fillna('UNK')\n",
    "            .str.findall(r'[A-Z]+')\n",
    "            .str.join('_')))\n",
    "    )\n",
    ")\n",
    "\n",
    "nerc_df_expanded = (\n",
    "    nerc_df\n",
    "    .set_index(idx_no_nerc)\n",
    "    .stack()\n",
    "    .str.split(',', expand=True)\n",
    "    .stack()\n",
    "    .unstack(-2)\n",
    "    .reset_index(-1, drop=True)\n",
    "    .replace(nerc_spellcheck)\n",
    "    .reset_index()\n",
    ")\n",
    "\n",
    "# list of regions that are turned to UNK:\n",
    "no_nerc_df = nerc_df_expanded[~nerc_df_expanded['nerc_region'].isin(recognized_nerc_regions)].reset_index()\n",
    "no_nerc_list = no_nerc_df.groupby(idx_no_nerc)['nerc_region'].transform(lambda x: '_'.join(x.astype('str'))).drop_duplicates().tolist()\n",
    "#logger.info(f\"The following reported nerc regions: {non_nerc_list} are being converted to UNK\")\n",
    "\n",
    "nerc_df_expanded['nerc_region'] = (\n",
    "    nerc_df_expanded['nerc_region']\n",
    "    .apply(lambda x: x if x in recognized_nerc_regions else 'UNK')\n",
    ")\n",
    "\n",
    "nerc_df_compressed = (\n",
    "    nerc_df_expanded\n",
    "    .drop_duplicates()\n",
    "    .sort_values('nerc_region')\n",
    "    .groupby(idx_no_nerc, observed=True).agg({'nerc_region': lambda x: '_'.join(x)})\n",
    ")"
   ]
  },
  {
   "cell_type": "markdown",
   "metadata": {},
   "source": [
    "# Preliminary Data Wrangling\n",
    "Once all of the data is loaded and looks like it's in good shape, do any initial wrangling that's specific to this particular analysis. This should mostly make use of the higher level functions which were defined above. If this step takes a while, don't be shy about producing `logging` outputs."
   ]
  },
  {
   "cell_type": "code",
   "execution_count": 8,
   "metadata": {},
   "outputs": [],
   "source": [
    "idx_cols = [\n",
    "    'utility_id_eia',\n",
    "    'state',\n",
    "    'balancing_authority_code_eia',\n",
    "    'report_date',\n",
    "]\n",
    "\n",
    "CUSTOMER_CLASSES = [\n",
    "    \"commercial\",\n",
    "    \"dircnct\",  # previously direct_connection\n",
    "    \"industrial\",\n",
    "    \"other\",\n",
    "    \"residential\",\n",
    "    \"total\",\n",
    "    \"transportation\"\n",
    "]\n",
    "\n",
    "# 1495 w/0 ba\n",
    "# 1489 w/ ba"
   ]
  },
  {
   "cell_type": "code",
   "execution_count": 10,
   "metadata": {},
   "outputs": [
    {
     "data": {
      "text/html": [
       "<div>\n",
       "<style scoped>\n",
       "    .dataframe tbody tr th:only-of-type {\n",
       "        vertical-align: middle;\n",
       "    }\n",
       "\n",
       "    .dataframe tbody tr th {\n",
       "        vertical-align: top;\n",
       "    }\n",
       "\n",
       "    .dataframe thead th {\n",
       "        text-align: right;\n",
       "    }\n",
       "</style>\n",
       "<table border=\"1\" class=\"dataframe\">\n",
       "  <thead>\n",
       "    <tr style=\"text-align: right;\">\n",
       "      <th></th>\n",
       "      <th>utility_id_eia</th>\n",
       "      <th>state</th>\n",
       "      <th>balancing_authority_code_eia</th>\n",
       "      <th>report_date</th>\n",
       "      <th>utility_name_eia</th>\n",
       "      <th>customer_class</th>\n",
       "      <th>tech_class</th>\n",
       "      <th>backup_capacity_mw</th>\n",
       "      <th>capacity_mw</th>\n",
       "      <th>current_flow_type</th>\n",
       "      <th>generators_number</th>\n",
       "      <th>utility_owned_capacity_mw</th>\n",
       "    </tr>\n",
       "  </thead>\n",
       "  <tbody>\n",
       "    <tr>\n",
       "      <th>0</th>\n",
       "      <td>55</td>\n",
       "      <td>MS</td>\n",
       "      <td>TVA</td>\n",
       "      <td>2016-01-01</td>\n",
       "      <td>City of Aberdeen - (MS)</td>\n",
       "      <td>commercial</td>\n",
       "      <td>combturb</td>\n",
       "      <td>NaN</td>\n",
       "      <td>NaN</td>\n",
       "      <td>NaN</td>\n",
       "      <td>1.0</td>\n",
       "      <td>NaN</td>\n",
       "    </tr>\n",
       "    <tr>\n",
       "      <th>1</th>\n",
       "      <td>55</td>\n",
       "      <td>MS</td>\n",
       "      <td>TVA</td>\n",
       "      <td>2016-01-01</td>\n",
       "      <td>City of Aberdeen - (MS)</td>\n",
       "      <td>commercial</td>\n",
       "      <td>fcell</td>\n",
       "      <td>NaN</td>\n",
       "      <td>NaN</td>\n",
       "      <td>NaN</td>\n",
       "      <td>1.0</td>\n",
       "      <td>NaN</td>\n",
       "    </tr>\n",
       "    <tr>\n",
       "      <th>2</th>\n",
       "      <td>55</td>\n",
       "      <td>MS</td>\n",
       "      <td>TVA</td>\n",
       "      <td>2016-01-01</td>\n",
       "      <td>City of Aberdeen - (MS)</td>\n",
       "      <td>commercial</td>\n",
       "      <td>hydro</td>\n",
       "      <td>NaN</td>\n",
       "      <td>NaN</td>\n",
       "      <td>NaN</td>\n",
       "      <td>1.0</td>\n",
       "      <td>NaN</td>\n",
       "    </tr>\n",
       "    <tr>\n",
       "      <th>3</th>\n",
       "      <td>55</td>\n",
       "      <td>MS</td>\n",
       "      <td>TVA</td>\n",
       "      <td>2016-01-01</td>\n",
       "      <td>City of Aberdeen - (MS)</td>\n",
       "      <td>commercial</td>\n",
       "      <td>ice</td>\n",
       "      <td>NaN</td>\n",
       "      <td>NaN</td>\n",
       "      <td>NaN</td>\n",
       "      <td>1.0</td>\n",
       "      <td>NaN</td>\n",
       "    </tr>\n",
       "    <tr>\n",
       "      <th>4</th>\n",
       "      <td>55</td>\n",
       "      <td>MS</td>\n",
       "      <td>TVA</td>\n",
       "      <td>2016-01-01</td>\n",
       "      <td>City of Aberdeen - (MS)</td>\n",
       "      <td>commercial</td>\n",
       "      <td>other</td>\n",
       "      <td>NaN</td>\n",
       "      <td>NaN</td>\n",
       "      <td>NaN</td>\n",
       "      <td>1.0</td>\n",
       "      <td>NaN</td>\n",
       "    </tr>\n",
       "    <tr>\n",
       "      <th>...</th>\n",
       "      <td>...</td>\n",
       "      <td>...</td>\n",
       "      <td>...</td>\n",
       "      <td>...</td>\n",
       "      <td>...</td>\n",
       "      <td>...</td>\n",
       "      <td>...</td>\n",
       "      <td>...</td>\n",
       "      <td>...</td>\n",
       "      <td>...</td>\n",
       "      <td>...</td>\n",
       "      <td>...</td>\n",
       "    </tr>\n",
       "    <tr>\n",
       "      <th>90775</th>\n",
       "      <td>99999</td>\n",
       "      <td>WY</td>\n",
       "      <td>PACE</td>\n",
       "      <td>2018-01-01</td>\n",
       "      <td>Adjustment 2018</td>\n",
       "      <td>transportation</td>\n",
       "      <td>pv</td>\n",
       "      <td>NaN</td>\n",
       "      <td>NaN</td>\n",
       "      <td>NaN</td>\n",
       "      <td>NaN</td>\n",
       "      <td>NaN</td>\n",
       "    </tr>\n",
       "    <tr>\n",
       "      <th>90776</th>\n",
       "      <td>99999</td>\n",
       "      <td>WY</td>\n",
       "      <td>PACE</td>\n",
       "      <td>2018-01-01</td>\n",
       "      <td>Adjustment 2018</td>\n",
       "      <td>transportation</td>\n",
       "      <td>steam</td>\n",
       "      <td>NaN</td>\n",
       "      <td>NaN</td>\n",
       "      <td>NaN</td>\n",
       "      <td>NaN</td>\n",
       "      <td>NaN</td>\n",
       "    </tr>\n",
       "    <tr>\n",
       "      <th>90777</th>\n",
       "      <td>99999</td>\n",
       "      <td>WY</td>\n",
       "      <td>PACE</td>\n",
       "      <td>2018-01-01</td>\n",
       "      <td>Adjustment 2018</td>\n",
       "      <td>transportation</td>\n",
       "      <td>storage</td>\n",
       "      <td>NaN</td>\n",
       "      <td>NaN</td>\n",
       "      <td>NaN</td>\n",
       "      <td>NaN</td>\n",
       "      <td>NaN</td>\n",
       "    </tr>\n",
       "    <tr>\n",
       "      <th>90778</th>\n",
       "      <td>99999</td>\n",
       "      <td>WY</td>\n",
       "      <td>PACE</td>\n",
       "      <td>2018-01-01</td>\n",
       "      <td>Adjustment 2018</td>\n",
       "      <td>transportation</td>\n",
       "      <td>total</td>\n",
       "      <td>NaN</td>\n",
       "      <td>NaN</td>\n",
       "      <td>NaN</td>\n",
       "      <td>NaN</td>\n",
       "      <td>NaN</td>\n",
       "    </tr>\n",
       "    <tr>\n",
       "      <th>90779</th>\n",
       "      <td>99999</td>\n",
       "      <td>WY</td>\n",
       "      <td>PACE</td>\n",
       "      <td>2018-01-01</td>\n",
       "      <td>Adjustment 2018</td>\n",
       "      <td>transportation</td>\n",
       "      <td>wind</td>\n",
       "      <td>NaN</td>\n",
       "      <td>NaN</td>\n",
       "      <td>NaN</td>\n",
       "      <td>NaN</td>\n",
       "      <td>NaN</td>\n",
       "    </tr>\n",
       "  </tbody>\n",
       "</table>\n",
       "<p>90780 rows × 12 columns</p>\n",
       "</div>"
      ],
      "text/plain": [
       "       utility_id_eia state balancing_authority_code_eia report_date  \\\n",
       "0                  55    MS                          TVA  2016-01-01   \n",
       "1                  55    MS                          TVA  2016-01-01   \n",
       "2                  55    MS                          TVA  2016-01-01   \n",
       "3                  55    MS                          TVA  2016-01-01   \n",
       "4                  55    MS                          TVA  2016-01-01   \n",
       "...               ...   ...                          ...         ...   \n",
       "90775           99999    WY                         PACE  2018-01-01   \n",
       "90776           99999    WY                         PACE  2018-01-01   \n",
       "90777           99999    WY                         PACE  2018-01-01   \n",
       "90778           99999    WY                         PACE  2018-01-01   \n",
       "90779           99999    WY                         PACE  2018-01-01   \n",
       "\n",
       "              utility_name_eia  customer_class tech_class  backup_capacity_mw  \\\n",
       "0      City of Aberdeen - (MS)      commercial   combturb                 NaN   \n",
       "1      City of Aberdeen - (MS)      commercial      fcell                 NaN   \n",
       "2      City of Aberdeen - (MS)      commercial      hydro                 NaN   \n",
       "3      City of Aberdeen - (MS)      commercial        ice                 NaN   \n",
       "4      City of Aberdeen - (MS)      commercial      other                 NaN   \n",
       "...                        ...             ...        ...                 ...   \n",
       "90775          Adjustment 2018  transportation         pv                 NaN   \n",
       "90776          Adjustment 2018  transportation      steam                 NaN   \n",
       "90777          Adjustment 2018  transportation    storage                 NaN   \n",
       "90778          Adjustment 2018  transportation      total                 NaN   \n",
       "90779          Adjustment 2018  transportation       wind                 NaN   \n",
       "\n",
       "       capacity_mw current_flow_type  generators_number  \\\n",
       "0              NaN               NaN                1.0   \n",
       "1              NaN               NaN                1.0   \n",
       "2              NaN               NaN                1.0   \n",
       "3              NaN               NaN                1.0   \n",
       "4              NaN               NaN                1.0   \n",
       "...            ...               ...                ...   \n",
       "90775          NaN               NaN                NaN   \n",
       "90776          NaN               NaN                NaN   \n",
       "90777          NaN               NaN                NaN   \n",
       "90778          NaN               NaN                NaN   \n",
       "90779          NaN               NaN                NaN   \n",
       "\n",
       "       utility_owned_capacity_mw  \n",
       "0                            NaN  \n",
       "1                            NaN  \n",
       "2                            NaN  \n",
       "3                            NaN  \n",
       "4                            NaN  \n",
       "...                          ...  \n",
       "90775                        NaN  \n",
       "90776                        NaN  \n",
       "90777                        NaN  \n",
       "90778                        NaN  \n",
       "90779                        NaN  \n",
       "\n",
       "[90780 rows x 12 columns]"
      ]
     },
     "execution_count": 10,
     "metadata": {},
     "output_type": "execute_result"
    }
   ],
   "source": [
    "df = eia_transformed_dfs['non_net_metering_eia861'].copy()\n",
    "df2 = eia861_raw_dfs['non_net_metering_eia861'].copy()\n",
    "df = pudl.helpers.organize_cols(df, idx_cols+['utility_name_eia','customer_class', 'tech_class'])\n",
    "#df[df['7'].notnull()]\n",
    "df"
   ]
  },
  {
   "cell_type": "code",
   "execution_count": 14,
   "metadata": {},
   "outputs": [
    {
     "data": {
      "text/plain": [
       "['backup_capacity_mw',\n",
       " 'balancing_authority_code_eia',\n",
       " 'commercial_combturb_capacity_mw',\n",
       " 'commercial_fcell_capacity_mw',\n",
       " 'commercial_hydro_capacity_mw',\n",
       " 'commercial_ice_capacity_mw',\n",
       " 'commercial_other_capacity_mw',\n",
       " 'commercial_pv_capacity_mw',\n",
       " 'commercial_storage_capacity_mw',\n",
       " 'commercial_total_capacity_mw',\n",
       " 'commercial_wind_capacity_mw',\n",
       " 'dircnct_combturb_capacity_mw',\n",
       " 'dircnct_fcell_capacity_mw',\n",
       " 'dircnct_hydro_capacity_mw',\n",
       " 'dircnct_ice_capacity_mw',\n",
       " 'dircnct_other_capacity_mw',\n",
       " 'dircnct_pv_capacity_mw',\n",
       " 'dircnct_steam_capacity_mw',\n",
       " 'dircnct_storage_capacity_mw',\n",
       " 'dircnct_total_capacity_mw',\n",
       " 'dircnct_wind_capacity_mw',\n",
       " 'generators_number',\n",
       " 'industrial_combturb_capacity_mw',\n",
       " 'industrial_fcell_capacity_mw',\n",
       " 'industrial_hydro_capacity_mw',\n",
       " 'industrial_ice_capacity_mw',\n",
       " 'industrial_other_capacity_mw',\n",
       " 'industrial_pv_capacity_mw',\n",
       " 'industrial_steam_capacity_mw',\n",
       " 'industrial_storage_capacity_mw',\n",
       " 'industrial_total_capacity_mw',\n",
       " 'industrial_wind_capacity_mw',\n",
       " 'pv_current_flow_type',\n",
       " 'report_year',\n",
       " 'residential_7',\n",
       " 'residential_combturb_capacity_mw',\n",
       " 'residential_fcell_capacity_mw',\n",
       " 'residential_hydro_capacity_mw',\n",
       " 'residential_ice_capacity_mw',\n",
       " 'residential_other_capacity_mw',\n",
       " 'residential_pv_capacity_mw',\n",
       " 'residential_steam_capacity_mw',\n",
       " 'residential_storage_capacity_mw',\n",
       " 'residential_total_capacity_mw',\n",
       " 'residential_wind_capacity_mw',\n",
       " 'state',\n",
       " 'total_capacity_mw',\n",
       " 'total_combturb_capacity_mw',\n",
       " 'total_fcell_capacity_mw',\n",
       " 'total_hydro_capacity_mw',\n",
       " 'total_ice_capacity_mw',\n",
       " 'total_other_capacity_mw',\n",
       " 'total_pv_capacity_mw',\n",
       " 'total_steam_capacity_mw',\n",
       " 'total_storage_capacity_mw',\n",
       " 'total_total_capacity_mw',\n",
       " 'total_wind_capacity_mw',\n",
       " 'transportation_combturb_capacity_mw',\n",
       " 'transportation_fcell_capacity_mw',\n",
       " 'transportation_hydro_capacity_mw',\n",
       " 'transportation_ice_capacity_mw',\n",
       " 'transportation_other_capacity_mw',\n",
       " 'transportation_pv_capacity_mw',\n",
       " 'transportation_steam_capacity_mw',\n",
       " 'transportation_storage_capacity_mw',\n",
       " 'transportation_total_capacity_mw',\n",
       " 'transportation_wind_capacity_mw',\n",
       " 'utility_id_eia',\n",
       " 'utility_name_eia',\n",
       " 'utility_owned_capacity_mw']"
      ]
     },
     "execution_count": 14,
     "metadata": {},
     "output_type": "execute_result"
    }
   ],
   "source": [
    "df2.columns.tolist()"
   ]
  },
  {
   "cell_type": "code",
   "execution_count": 17,
   "metadata": {},
   "outputs": [],
   "source": [
    "# # Define base comparison df \n",
    "# eia_base_df = (\n",
    "#     pudl_out.utils_eia860()\n",
    "#     #[['report_date', 'utility_id_eia', 'utility_id_pudl', 'utility_name_eia', 'state']]\n",
    "#     .assign(utility_id_eia=lambda x: x.utility_id_eia.astype('Int64'))\n",
    "# )\n",
    "# # Shorten df\n",
    "# #df = df[['utility_id_eia', 'state', 'utility_name_eia', 'report_date']]\n",
    "\n",
    "# # Merge dfs together \n",
    "# df_merge = (\n",
    "#     pd.merge(eia_base_df, df, on=['utility_id_eia', 'state', 'report_date'], how='outer', suffixes=('_base', '_861'))\n",
    "#     .set_index(['utility_id_eia', 'report_date'])\n",
    "#     .assign(utility_name_eia_base=lambda x: x.utility_name_eia_base.astype('string'),\n",
    "#             utility_name_eia_861=lambda x: x.utility_name_eia_861.astype('string'))\n",
    "# )\n",
    "# df_merge"
   ]
  },
  {
   "cell_type": "markdown",
   "metadata": {
    "jupyter": {
     "source_hidden": true
    }
   },
   "source": [
    "## Fuzzy Match Columns"
   ]
  },
  {
   "cell_type": "code",
   "execution_count": 85,
   "metadata": {
    "jupyter": {
     "source_hidden": true
    }
   },
   "outputs": [],
   "source": [
    "from fuzzywuzzy import fuzz\n",
    "\n",
    "def fuzzy_match(df, col1, col2):\n",
    "    # Define base comparison df \n",
    "    eia_base_df = (\n",
    "        pudl_out.utils_eia860()\n",
    "        #[['report_date', 'utility_id_eia', 'utility_id_pudl', 'utility_name_eia', 'state']]\n",
    "        .assign(utility_id_eia=lambda x: x.utility_id_eia.astype('Int64'))\n",
    "    )\n",
    "    # Shorten df\n",
    "    #df = df[['utility_id_eia', 'state', 'utility_name_eia', 'report_date']]\n",
    "    \n",
    "    # Merge dfs together \n",
    "    df_merge = (\n",
    "        pd.merge(eia_base_df, df, on=['utility_id_eia', 'state'], how='outer', suffixes=('_base', '_861'))\n",
    "        .set_index(['utility_id_eia', 'state'])\n",
    "        .assign(utility_name_eia_base=lambda x: x.utility_name_eia_base.astype('string'),\n",
    "                utility_name_eia_861=lambda x: x.utility_name_eia_861.astype('string'))\n",
    "    )\n",
    "    \n",
    "    # Only run where both columns for utility name have values\n",
    "    df_merge_no_null = (\n",
    "        df_merge.loc[\n",
    "            (df_merge[col1].notnull()) \n",
    "            & (df_merge[col2].notnull())].copy()\n",
    "    )\n",
    "    \n",
    "    # Fuzzy match\n",
    "    df_merge_no_null['fuzzy'] = (\n",
    "        df_merge_no_null.apply(lambda x: fuzz.ratio(x.utility_name_eia_base, x.new_parent),axis=1)\n",
    "    )\n",
    "#     df_merge_no_null = (\n",
    "#         df_merge_no_null.assign(fuzzy=lambda x: fuzz.ratio(x[col1], x[col2])))\n",
    "    \n",
    "    #df_merge_no_null.loc[:,'fuzzy'] = fuzzy_series\n",
    "    df_merge_no_null = df_merge_no_null.sort_values('fuzzy')\n",
    "    \n",
    "    return df_merge_no_null"
   ]
  },
  {
   "cell_type": "markdown",
   "metadata": {
    "jupyter": {
     "source_hidden": true
    }
   },
   "source": [
    "# DSM Stuff"
   ]
  },
  {
   "cell_type": "code",
   "execution_count": 37,
   "metadata": {
    "jupyter": {
     "source_hidden": true
    }
   },
   "outputs": [],
   "source": [
    "dsm = eia861_raw_dfs['demand_side_management_eia861'].copy()\n",
    "#dsm.columns.tolist()"
   ]
  },
  {
   "cell_type": "code",
   "execution_count": 50,
   "metadata": {
    "jupyter": {
     "source_hidden": true
    }
   },
   "outputs": [],
   "source": [
    "idx_cols = ['utility_id_eia', 'state', 'ba_code', 'report_year']\n",
    "\n",
    "dsm_test = dsm[['utility_id_eia', 'state', 'ba_code', 'report_year', \n",
    "                'residential_annual_load_management_energy_effects ', \n",
    "                'commercial_annual_load_management_energy_effects ', \n",
    "                'industrial_annual_load_management_energy_effects ',\n",
    "                'transportation_annual_load_management_energy_effects ',\n",
    "                'total_annual_load_management_energy_effects ',\n",
    "]]\n",
    "\n",
    "dr_test = raw_dr_eia861[['utility_id_eia', 'state', 'balancing_authority_code_eia', 'report_year',\n",
    "                         'residential_energy_savings_mwh',\n",
    "                         'commercial_energy_savings_mwh',\n",
    "                         'industrial_energy_savings_mwh',\n",
    "                         'transportation_energy_savings_mwh',\n",
    "                         'total_energy_savings_mwh'\n",
    "]].rename(columns={'balancing_authority_code_eia': 'ba_code'})"
   ]
  },
  {
   "cell_type": "code",
   "execution_count": 84,
   "metadata": {
    "jupyter": {
     "source_hidden": true
    }
   },
   "outputs": [],
   "source": [
    "merge = pd.merge(dsm_test, dr_test, on=idx_cols, how='outer')\n",
    "merge = pudl.helpers.oob_to_nan(merge, \n",
    "                       ['residential_annual_load_management_energy_effects ', \n",
    "                        'commercial_annual_load_management_energy_effects ', \n",
    "                        'industrial_annual_load_management_energy_effects ',\n",
    "                        'transportation_annual_load_management_energy_effects ',\n",
    "                        'residential_energy_savings_mwh',\n",
    "                        'commercial_energy_savings_mwh',\n",
    "                        'industrial_energy_savings_mwh',\n",
    "                        'transportation_energy_savings_mwh',\n",
    "                        'total_energy_savings_mwh',\n",
    "                        'total_annual_load_management_energy_effects '])"
   ]
  },
  {
   "cell_type": "code",
   "execution_count": 71,
   "metadata": {
    "jupyter": {
     "source_hidden": true
    }
   },
   "outputs": [],
   "source": [
    "dr_col = 'residential_energy_savings_mwh'\n",
    "dsm_col = 'residential_annual_load_management_energy_effects '"
   ]
  },
  {
   "cell_type": "code",
   "execution_count": 36,
   "metadata": {
    "collapsed": true,
    "jupyter": {
     "outputs_hidden": true,
     "source_hidden": true
    }
   },
   "outputs": [
    {
     "ename": "NameError",
     "evalue": "name 'merge' is not defined",
     "output_type": "error",
     "traceback": [
      "\u001b[0;31m---------------------------------------------------------------------------\u001b[0m",
      "\u001b[0;31mNameError\u001b[0m                                 Traceback (most recent call last)",
      "\u001b[0;32m<ipython-input-36-b335c7e0fa14>\u001b[0m in \u001b[0;36m<module>\u001b[0;34m\u001b[0m\n\u001b[0;32m----> 1\u001b[0;31m \u001b[0mmerge\u001b[0m \u001b[0;34m=\u001b[0m \u001b[0mmerge\u001b[0m\u001b[0;34m.\u001b[0m\u001b[0mloc\u001b[0m\u001b[0;34m[\u001b[0m\u001b[0mmerge\u001b[0m\u001b[0;34m[\u001b[0m\u001b[0;34m'report_year'\u001b[0m\u001b[0;34m]\u001b[0m\u001b[0;34m.\u001b[0m\u001b[0misin\u001b[0m\u001b[0;34m(\u001b[0m\u001b[0mrange\u001b[0m\u001b[0;34m(\u001b[0m\u001b[0;36m2012\u001b[0m\u001b[0;34m,\u001b[0m\u001b[0;36m2014\u001b[0m\u001b[0;34m)\u001b[0m\u001b[0;34m)\u001b[0m\u001b[0;34m]\u001b[0m\u001b[0;34m\u001b[0m\u001b[0;34m\u001b[0m\u001b[0m\n\u001b[0m\u001b[1;32m      2\u001b[0m \u001b[0mmerge\u001b[0m \u001b[0;34m=\u001b[0m \u001b[0mmerge\u001b[0m\u001b[0;34m.\u001b[0m\u001b[0mloc\u001b[0m\u001b[0;34m[\u001b[0m\u001b[0mmerge\u001b[0m\u001b[0;34m[\u001b[0m\u001b[0mdr_col\u001b[0m\u001b[0;34m]\u001b[0m\u001b[0;34m.\u001b[0m\u001b[0mnotna\u001b[0m\u001b[0;34m(\u001b[0m\u001b[0;34m)\u001b[0m\u001b[0;34m]\u001b[0m\u001b[0;34m\u001b[0m\u001b[0;34m\u001b[0m\u001b[0m\n\u001b[1;32m      3\u001b[0m \u001b[0;31m#merge = merge.loc[merge[dsm_col].notna()]\u001b[0m\u001b[0;34m\u001b[0m\u001b[0;34m\u001b[0m\u001b[0;34m\u001b[0m\u001b[0m\n",
      "\u001b[0;31mNameError\u001b[0m: name 'merge' is not defined"
     ]
    }
   ],
   "source": [
    "merge = merge.loc[merge['report_year'].isin(range(2012,2014))]\n",
    "merge = merge.loc[merge[dr_col].notna()]\n",
    "#merge = merge.loc[merge[dsm_col].notna()]\n"
   ]
  },
  {
   "cell_type": "code",
   "execution_count": 34,
   "metadata": {
    "jupyter": {
     "source_hidden": true
    }
   },
   "outputs": [],
   "source": [
    "#test.plot.scatter('residential_annual_load_management_energy_effects ', 'residential_energy_savings_mwh')"
   ]
  },
  {
   "cell_type": "code",
   "execution_count": 33,
   "metadata": {
    "jupyter": {
     "source_hidden": true
    }
   },
   "outputs": [],
   "source": [
    "#raw_dr_eia861.columns.tolist()"
   ]
  },
  {
   "cell_type": "markdown",
   "metadata": {
    "jupyter": {
     "source_hidden": true
    }
   },
   "source": [
    "# Data Analysis and Visualization\n",
    "* Now that you've got the required data in a usable form, you can tell the story of your analysis through a mix of visualizations, and further data wrangling steps.\n",
    "* This narrative should be readable, with figures that have titles, legends, and labeled axes as appropriate so others can understand what you're showing them.\n",
    "* The code should be concise and make use of the parameters and functions which you've defined above when possible. Functions should contain comprehensible chunks of work that make sense as one step in the story of the analysis."
   ]
  },
  {
   "cell_type": "code",
   "execution_count": null,
   "metadata": {},
   "outputs": [],
   "source": []
  },
  {
   "cell_type": "markdown",
   "metadata": {},
   "source": [
    " "
   ]
  },
  {
   "cell_type": "code",
   "execution_count": null,
   "metadata": {},
   "outputs": [],
   "source": []
  }
 ],
 "metadata": {
  "kernelspec": {
   "display_name": "Python 3",
   "language": "python",
   "name": "python3"
  },
  "language_info": {
   "codemirror_mode": {
    "name": "ipython",
    "version": 3
   },
   "file_extension": ".py",
   "mimetype": "text/x-python",
   "name": "python",
   "nbconvert_exporter": "python",
   "pygments_lexer": "ipython3",
   "version": "3.8.3"
  }
 },
 "nbformat": 4,
 "nbformat_minor": 4
}
