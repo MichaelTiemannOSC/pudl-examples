{
 "cells": [
  {
   "cell_type": "markdown",
   "metadata": {},
   "source": [
    "# Test Old Years"
   ]
  },
  {
   "cell_type": "code",
   "execution_count": 1,
   "metadata": {},
   "outputs": [],
   "source": [
    "%load_ext autoreload\n",
    "%autoreload 2"
   ]
  },
  {
   "cell_type": "code",
   "execution_count": 2,
   "metadata": {},
   "outputs": [],
   "source": [
    "# Standard libraries\n",
    "import logging\n",
    "import os\n",
    "import pathlib\n",
    "import sys\n",
    "\n",
    "# 3rd party libraries\n",
    "import matplotlib.pyplot as plt\n",
    "import matplotlib as mpl\n",
    "import numpy as np\n",
    "import pandas as pd\n",
    "import seaborn as sns\n",
    "import sqlalchemy as sa\n",
    "from functools import reduce\n",
    "\n",
    "# Local libraries\n",
    "import pudl\n",
    "import pudl.constants as pc"
   ]
  },
  {
   "cell_type": "code",
   "execution_count": 3,
   "metadata": {},
   "outputs": [],
   "source": [
    "logger=logging.getLogger()\n",
    "logger.setLevel(logging.INFO)\n",
    "handler = logging.StreamHandler(stream=sys.stdout)\n",
    "formatter = logging.Formatter('%(message)s')\n",
    "handler.setFormatter(formatter)\n",
    "logger.handlers = [handler]"
   ]
  },
  {
   "cell_type": "code",
   "execution_count": 4,
   "metadata": {},
   "outputs": [],
   "source": [
    "pudl_settings = pudl.workspace.setup.get_defaults()\n",
    "pudl_in = pathlib.Path(pudl_settings['pudl_in'])\n",
    "ds = pudl.workspace.datastore.Datastore(pudl_in, sandbox=True)\n",
    "#eia861_raw_dfs = pudl.extract.eia861.Extractor(ds).extract([2019])"
   ]
  },
  {
   "cell_type": "code",
   "execution_count": 5,
   "metadata": {},
   "outputs": [],
   "source": [
    "datapkg_dir = '/Users/aesharpe/Desktop/Work/Catalyst_Coop/PUDL_DIR/datapkg/pudl-2008/eia-example/'"
   ]
  },
  {
   "cell_type": "markdown",
   "metadata": {},
   "source": [
    "## Toggle Settings"
   ]
  },
  {
   "cell_type": "code",
   "execution_count": 6,
   "metadata": {},
   "outputs": [],
   "source": [
    "eia_inputs = {\n",
    "    \"eia860_years\": [2009, 2008],\n",
    "    \"eia860_tables\": pudl.constants.pudl_tables[\"eia860\"],\n",
    "    \"eia861_years\": [],\n",
    "    \"eia861_tables\": pudl.constants.pudl_tables[\"eia861\"],\n",
    "    \"eia923_years\": [2009],\n",
    "    \"eia923_tables\": pudl.constants.pudl_tables[\"eia923\"],\n",
    "}\n",
    "\n",
    "eia860_tables = eia_inputs[\"eia860_tables\"]\n",
    "eia860_years = eia_inputs[\"eia860_years\"]\n",
    "eia861_tables = eia_inputs[\"eia861_tables\"]\n",
    "eia861_years = eia_inputs[\"eia861_years\"]\n",
    "eia923_tables = eia_inputs[\"eia923_tables\"]\n",
    "eia923_years = eia_inputs[\"eia923_years\"]"
   ]
  },
  {
   "cell_type": "code",
   "execution_count": 7,
   "metadata": {},
   "outputs": [
    {
     "name": "stdout",
     "output_type": "stream",
     "text": [
      "Loading Static EIA Tables fuel_type_eia923 dataframe into CSV\n",
      "Loading Static EIA Tables prime_movers_eia923 dataframe into CSV\n",
      "Loading Static EIA Tables fuel_type_aer_eia923 dataframe into CSV\n",
      "Loading Static EIA Tables energy_source_eia923 dataframe into CSV\n",
      "Loading Static EIA Tables transport_modes_eia923 dataframe into CSV\n"
     ]
    }
   ],
   "source": [
    "# generate CSVs for the static EIA tables, return the list of tables\n",
    "static_tables = pudl.etl._load_static_tables_eia(datapkg_dir)"
   ]
  },
  {
   "cell_type": "code",
   "execution_count": 8,
   "metadata": {},
   "outputs": [
    {
     "name": "stdout",
     "output_type": "stream",
     "text": [
      "Extracting eia860 spreadsheet data.\n",
      "Columns for boiler_generator_assn are off: should be 4 but got 6\n",
      "Columns for generator are off: should be 48 but got 50\n",
      "Columns for generator_existing are off: should be 76 but got 77\n",
      "Columns for generator_proposed are off: should be 55 but got 56\n",
      "Columns for generator_retired are off: should be 75 but got 76\n",
      "Columns for ownership are off: should be 14 but got 15\n",
      "Columns for plant are off: should be 45 but got 50\n",
      "Columns for utility are off: should be 20 but got 21\n",
      "Extracting eia923 spreadsheet data.\n"
     ]
    }
   ],
   "source": [
    "# Extract EIA forms 923, 860\n",
    "eia860_raw_dfs = pudl.extract.eia860.Extractor(ds).extract(eia860_years)\n",
    "#eia861_raw_dfs = pudl.extract.eia861.Extractor(ds).extract(eia861_years)\n",
    "eia923_raw_dfs = pudl.extract.eia923.Extractor(ds).extract(eia923_years)"
   ]
  },
  {
   "cell_type": "code",
   "execution_count": 9,
   "metadata": {},
   "outputs": [
    {
     "data": {
      "text/plain": [
       "dict_keys(['boiler_generator_assn', 'generator', 'generator_existing', 'generator_proposed', 'generator_retired', 'ownership', 'plant', 'utility'])"
      ]
     },
     "execution_count": 9,
     "metadata": {},
     "output_type": "execute_result"
    }
   ],
   "source": [
    "eia860_raw_dfs.keys()"
   ]
  },
  {
   "cell_type": "code",
   "execution_count": 10,
   "metadata": {},
   "outputs": [
    {
     "name": "stdout",
     "output_type": "stream",
     "text": [
      "Transforming raw EIA 860 DataFrames for ownership_eia860 concatenated across all years.\n",
      "Transforming raw EIA 860 DataFrames for generators_eia860 concatenated across all years.\n",
      "Transforming raw EIA 860 DataFrames for plants_eia860 concatenated across all years.\n",
      "Transforming raw EIA 860 DataFrames for boiler_generator_assn_eia860 concatenated across all years.\n",
      "Transforming raw EIA 860 DataFrames for utilities_eia860 concatenated across all years.\n",
      "Transforming raw EIA 923 DataFrames for generation_fuel_eia923 concatenated across all years.\n",
      "Transforming raw EIA 923 DataFrames for boiler_fuel_eia923 concatenated across all years.\n",
      "Transforming raw EIA 923 DataFrames for generation_eia923 concatenated across all years.\n",
      "Transforming raw EIA 923 DataFrames for coalmine_eia923 concatenated across all years.\n",
      "Transforming raw EIA 923 DataFrames for fuel_receipts_costs_eia923 concatenated across all years.\n"
     ]
    }
   ],
   "source": [
    "# Transform EIA forms 860, 861, 923\n",
    "eia860_transformed_dfs = pudl.transform.eia860.transform(eia860_raw_dfs, eia860_tables=eia860_tables)\n",
    "#eia861_transformed_dfs = pudl.transform.eia861.transform(eia861_raw_dfs, eia861_tables=eia861_tables)\n",
    "eia923_transformed_dfs = pudl.transform.eia923.transform(eia923_raw_dfs, eia923_tables=eia923_tables)"
   ]
  },
  {
   "cell_type": "code",
   "execution_count": 11,
   "metadata": {},
   "outputs": [],
   "source": [
    "#eia860_transformed_dfs['utilities_eia860'].columns.tolist()"
   ]
  },
  {
   "cell_type": "code",
   "execution_count": 12,
   "metadata": {},
   "outputs": [],
   "source": [
    "# create an eia transformed dfs dictionary\n",
    "eia_transformed_dfs = eia860_transformed_dfs.copy()\n",
    "#eia_transformed_dfs.update(eia861_transformed_dfs.copy())\n",
    "eia_transformed_dfs.update(eia923_transformed_dfs.copy())"
   ]
  },
  {
   "cell_type": "code",
   "execution_count": 13,
   "metadata": {},
   "outputs": [
    {
     "name": "stderr",
     "output_type": "stream",
     "text": [
      "/Users/aesharpe/miniconda3/envs/pudl-dev/lib/python3.8/site-packages/pandas/core/missing.py:49: FutureWarning: elementwise comparison failed; returning scalar instead, but in the future will perform elementwise comparison\n",
      "  mask = arr == x\n",
      "/Users/aesharpe/miniconda3/envs/pudl-dev/lib/python3.8/site-packages/pandas/core/missing.py:49: FutureWarning: elementwise comparison failed; returning scalar instead, but in the future will perform elementwise comparison\n",
      "  mask = arr == x\n"
     ]
    }
   ],
   "source": [
    "# convert types..\n",
    "eia_transformed_dfs = pudl.helpers.convert_dfs_dict_dtypes(eia_transformed_dfs, 'eia')"
   ]
  },
  {
   "cell_type": "code",
   "execution_count": 14,
   "metadata": {},
   "outputs": [
    {
     "name": "stdout",
     "output_type": "stream",
     "text": [
      "Harvesting IDs & consistently static attributes for EIA plants\n",
      "Average consistency of static plants values is 99.94%\n",
      "Harvesting IDs & consistently static attributes for EIA generators\n",
      "Average consistency of static generators values is 99.99%\n",
      "Harvesting IDs & consistently static attributes for EIA utilities\n",
      "Average consistency of static utilities values is 100.00%\n",
      "Harvesting IDs & consistently static attributes for EIA boilers\n",
      "Average consistency of static boilers values is 99.92%\n",
      "Inferring complete EIA boiler-generator associations.\n",
      "Multiple EIA unit codes:plant_id_eia=10725, unit_id_pudl=1, unit_id_eia=['F801' 'F802']\n",
      "Multiple EIA unit codes:plant_id_eia=56309, unit_id_pudl=1, unit_id_eia=['G401' 'G402']\n"
     ]
    }
   ],
   "source": [
    "entities_dfs, eia_transformed_dfs = pudl.transform.eia.transform(\n",
    "    eia_transformed_dfs,\n",
    "    eia860_years=eia860_years,\n",
    "    eia923_years=eia923_years,\n",
    ")"
   ]
  },
  {
   "cell_type": "code",
   "execution_count": 15,
   "metadata": {},
   "outputs": [
    {
     "name": "stderr",
     "output_type": "stream",
     "text": [
      "/Users/aesharpe/miniconda3/envs/pudl-dev/lib/python3.8/site-packages/pandas/core/missing.py:49: FutureWarning: elementwise comparison failed; returning scalar instead, but in the future will perform elementwise comparison\n",
      "  mask = arr == x\n"
     ]
    }
   ],
   "source": [
    "entities_dfs = pudl.helpers.convert_dfs_dict_dtypes(entities_dfs, 'eia')"
   ]
  },
  {
   "cell_type": "code",
   "execution_count": 16,
   "metadata": {},
   "outputs": [],
   "source": [
    "transformed_dfs = {\"Entities\": entities_dfs, \"EIA\": eia_transformed_dfs}"
   ]
  },
  {
   "cell_type": "code",
   "execution_count": 17,
   "metadata": {},
   "outputs": [
    {
     "name": "stdout",
     "output_type": "stream",
     "text": [
      "Loading Entities plants_entity_eia dataframe into CSV\n",
      "Loading Entities generators_entity_eia dataframe into CSV\n",
      "Loading Entities utilities_entity_eia dataframe into CSV\n",
      "Loading Entities boilers_entity_eia dataframe into CSV\n",
      "Loading EIA ownership_eia860 dataframe into CSV\n",
      "Loading EIA generators_eia860 dataframe into CSV\n",
      "Loading EIA plants_eia860 dataframe into CSV\n",
      "Loading EIA boiler_generator_assn_eia860 dataframe into CSV\n",
      "Loading EIA utilities_eia860 dataframe into CSV\n",
      "Loading EIA generation_fuel_eia923 dataframe into CSV\n",
      "Loading EIA boiler_fuel_eia923 dataframe into CSV\n",
      "Loading EIA generation_eia923 dataframe into CSV\n",
      "Loading EIA coalmine_eia923 dataframe into CSV\n",
      "Loading EIA fuel_receipts_costs_eia923 dataframe into CSV\n"
     ]
    }
   ],
   "source": [
    "# LOAD step\n",
    "for data_source, transformed_df in transformed_dfs.items():\n",
    "    pudl.load.csv.dict_dump(transformed_df,\n",
    "                            data_source,\n",
    "                            datapkg_dir=datapkg_dir)\n",
    "# return (\n",
    "#     list(eia_transformed_dfs.keys())\n",
    "#     + list(entities_dfs.keys())\n",
    "#     + static_tables)"
   ]
  },
  {
   "cell_type": "code",
   "execution_count": 18,
   "metadata": {},
   "outputs": [
    {
     "data": {
      "text/plain": [
       "dict_keys(['ownership_eia860', 'generators_eia860', 'plants_eia860', 'boiler_generator_assn_eia860', 'utilities_eia860', 'generation_fuel_eia923', 'boiler_fuel_eia923', 'generation_eia923', 'coalmine_eia923', 'fuel_receipts_costs_eia923'])"
      ]
     },
     "execution_count": 18,
     "metadata": {},
     "output_type": "execute_result"
    }
   ],
   "source": [
    "transformed_dfs['EIA'].keys()"
   ]
  },
  {
   "cell_type": "code",
   "execution_count": null,
   "metadata": {},
   "outputs": [],
   "source": []
  },
  {
   "cell_type": "code",
   "execution_count": null,
   "metadata": {},
   "outputs": [],
   "source": []
  },
  {
   "cell_type": "code",
   "execution_count": null,
   "metadata": {},
   "outputs": [],
   "source": []
  }
 ],
 "metadata": {
  "kernelspec": {
   "display_name": "Python 3",
   "language": "python",
   "name": "python3"
  },
  "language_info": {
   "codemirror_mode": {
    "name": "ipython",
    "version": 3
   },
   "file_extension": ".py",
   "mimetype": "text/x-python",
   "name": "python",
   "nbconvert_exporter": "python",
   "pygments_lexer": "ipython3",
   "version": "3.8.6"
  }
 },
 "nbformat": 4,
 "nbformat_minor": 4
}
