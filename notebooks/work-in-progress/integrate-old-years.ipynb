{
 "cells": [
  {
   "cell_type": "markdown",
   "metadata": {},
   "source": [
    "# Test Old Years"
   ]
  },
  {
   "cell_type": "code",
   "execution_count": 1,
   "metadata": {},
   "outputs": [],
   "source": [
    "%load_ext autoreload\n",
    "%autoreload 2"
   ]
  },
  {
   "cell_type": "code",
   "execution_count": 2,
   "metadata": {},
   "outputs": [],
   "source": [
    "# Standard libraries\n",
    "import logging\n",
    "import os\n",
    "import pathlib\n",
    "import sys\n",
    "\n",
    "# 3rd party libraries\n",
    "import matplotlib.pyplot as plt\n",
    "import matplotlib as mpl\n",
    "import numpy as np\n",
    "import pandas as pd\n",
    "import seaborn as sns\n",
    "import sqlalchemy as sa\n",
    "from functools import reduce\n",
    "\n",
    "# Local libraries\n",
    "import pudl\n",
    "import pudl.constants as pc"
   ]
  },
  {
   "cell_type": "code",
   "execution_count": 3,
   "metadata": {},
   "outputs": [],
   "source": [
    "logger=logging.getLogger()\n",
    "logger.setLevel(logging.INFO)\n",
    "handler = logging.StreamHandler(stream=sys.stdout)\n",
    "formatter = logging.Formatter('%(message)s')\n",
    "handler.setFormatter(formatter)\n",
    "logger.handlers = [handler]"
   ]
  },
  {
   "cell_type": "code",
   "execution_count": 4,
   "metadata": {},
   "outputs": [],
   "source": [
    "pudl_settings = pudl.workspace.setup.get_defaults()\n",
    "pudl_in = pathlib.Path(pudl_settings['pudl_in'])\n",
    "ds = pudl.workspace.datastore.Datastore(pudl_in, sandbox=True)\n",
    "#eia861_raw_dfs = pudl.extract.eia861.Extractor(ds).extract([2019])"
   ]
  },
  {
   "cell_type": "markdown",
   "metadata": {},
   "source": [
    "## Toggle Settings"
   ]
  },
  {
   "cell_type": "code",
   "execution_count": 6,
   "metadata": {},
   "outputs": [],
   "source": [
    "eia_inputs = {\n",
    "    \"eia860_years\": [2019],\n",
    "    \"eia860_tables\": pudl.constants.pudl_tables[\"eia860\"],\n",
    "    \"eia861_years\": [],\n",
    "    \"eia861_tables\": pudl.constants.pudl_tables[\"eia861\"],\n",
    "    \"eia923_years\": [],\n",
    "    \"eia923_tables\": pudl.constants.pudl_tables[\"eia923\"],\n",
    "}\n",
    "\n",
    "eia860_tables = eia_inputs[\"eia860_tables\"]\n",
    "eia860_years = eia_inputs[\"eia860_years\"]\n",
    "eia861_tables = eia_inputs[\"eia861_tables\"]\n",
    "eia861_years = eia_inputs[\"eia861_years\"]\n",
    "eia923_tables = eia_inputs[\"eia923_tables\"]\n",
    "eia923_years = eia_inputs[\"eia923_years\"]"
   ]
  },
  {
   "cell_type": "code",
   "execution_count": 7,
   "metadata": {},
   "outputs": [
    {
     "name": "stdout",
     "output_type": "stream",
     "text": [
      "Extracting eia860 spreadsheet data.\n",
      "Columns for boiler_generator_assn are off: should be 4 but got 8\n",
      "Columns for generator_existing are off: should be 76 but got 77\n",
      "Columns for generator_proposed are off: should be 55 but got 56\n",
      "Columns for generator_retired are off: should be 75 but got 76\n",
      "Columns for ownership are off: should be 14 but got 15\n",
      "Columns for plant are off: should be 46 but got 47\n",
      "Columns for utility are off: should be 20 but got 21\n",
      "No years given. Not extracting eia861 spreadsheet data.\n",
      "No years given. Not extracting eia923 spreadsheet data.\n"
     ]
    }
   ],
   "source": [
    "# Extract EIA forms 923, 860\n",
    "eia860_raw_dfs = pudl.extract.eia860.Extractor(ds).extract(eia860_years)\n",
    "eia861_raw_dfs = pudl.extract.eia861.Extractor(ds).extract(eia861_years)\n",
    "eia923_raw_dfs = pudl.extract.eia923.Extractor(ds).extract(eia923_years)"
   ]
  },
  {
   "cell_type": "code",
   "execution_count": null,
   "metadata": {},
   "outputs": [],
   "source": [
    "# Transform EIA forms 860, 861, 923\n",
    "eia860_transformed_dfs = pudl.transform.eia860.transform(eia860_raw_dfs, eia860_tables=eia860_tables)\n",
    "eia861_transformed_dfs = pudl.transform.eia861.transform(eia861_raw_dfs, eia861_tables=eia861_tables)\n",
    "eia923_transformed_dfs = pudl.transform.eia923.transform(eia923_raw_dfs, eia923_tables=eia923_tables)"
   ]
  },
  {
   "cell_type": "code",
   "execution_count": null,
   "metadata": {},
   "outputs": [],
   "source": [
    "# create an eia transformed dfs dictionary\n",
    "eia_transformed_dfs = eia860_transformed_dfs.copy()\n",
    "eia_transformed_dfs.update(eia861_transformed_dfs.copy())\n",
    "eia_transformed_dfs.update(eia923_transformed_dfs.copy())"
   ]
  },
  {
   "cell_type": "code",
   "execution_count": null,
   "metadata": {},
   "outputs": [],
   "source": [
    "# convert types..\n",
    "eia_transformed_dfs = pudl.helpers.convert_dfs_dict_dtypes(eia_transformed_dfs, 'eia')"
   ]
  }
 ],
 "metadata": {
  "kernelspec": {
   "display_name": "Python 3",
   "language": "python",
   "name": "python3"
  },
  "language_info": {
   "codemirror_mode": {
    "name": "ipython",
    "version": 3
   },
   "file_extension": ".py",
   "mimetype": "text/x-python",
   "name": "python",
   "nbconvert_exporter": "python",
   "pygments_lexer": "ipython3",
   "version": "3.8.6"
  }
 },
 "nbformat": 4,
 "nbformat_minor": 4
}
