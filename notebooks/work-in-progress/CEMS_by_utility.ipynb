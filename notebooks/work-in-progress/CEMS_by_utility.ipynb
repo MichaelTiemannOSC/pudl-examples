{
 "cells": [
  {
   "cell_type": "markdown",
   "metadata": {},
   "source": [
    "## Aggregate CEMS data at the utility-plant level for RMI"
   ]
  },
  {
   "cell_type": "code",
   "execution_count": 1,
   "metadata": {},
   "outputs": [],
   "source": [
    "# Standard libraries\n",
    "import logging\n",
    "import os\n",
    "import pathlib\n",
    "import sys\n",
    "\n",
    "# 3rd party libraries\n",
    "import geopandas as gpd\n",
    "import geoplot as gplt\n",
    "import dask.dataframe as dd\n",
    "from dask.distributed import Client\n",
    "import matplotlib.pyplot as plt\n",
    "import matplotlib as mpl\n",
    "import numpy as np\n",
    "import pandas as pd\n",
    "import seaborn as sns\n",
    "import sqlalchemy as sa\n",
    "\n",
    "\n",
    "# Local libraries\n",
    "import pudl"
   ]
  },
  {
   "cell_type": "code",
   "execution_count": 2,
   "metadata": {},
   "outputs": [],
   "source": [
    "pudl_settings = pudl.workspace.setup.get_defaults()\n",
    "#display(pudl_settings)\n",
    "\n",
    "ferc1_engine = sa.create_engine(pudl_settings['ferc1_db'])\n",
    "#display(ferc1_engine)\n",
    "\n",
    "pudl_engine = sa.create_engine(pudl_settings['pudl_db'])\n",
    "#display(pudl_engine)\n",
    "\n",
    "#pudl_engine.table_names()\n",
    "pudl_out = pudl.output.pudltabl.PudlTabl(pudl_engine)"
   ]
  },
  {
   "cell_type": "code",
   "execution_count": 32,
   "metadata": {},
   "outputs": [],
   "source": [
    "fpl_id = 6452\n",
    "duke_id = 5416\n",
    "\n",
    "util_id = duke_id"
   ]
  },
  {
   "cell_type": "markdown",
   "metadata": {},
   "source": [
    "##### Prep Utility Information (Read from MUL)"
   ]
  },
  {
   "cell_type": "code",
   "execution_count": 15,
   "metadata": {},
   "outputs": [],
   "source": [
    "# Read master unit list\n",
    "mul = pd.read_pickle('/Users/aesharpe/Desktop/Work/Catalyst_Coop/master_unit_list.pkl.gz')"
   ]
  },
  {
   "cell_type": "code",
   "execution_count": 26,
   "metadata": {},
   "outputs": [],
   "source": [
    "# group MUL by plant/generator and ownership\n",
    "plant_mul = mul[(mul['plant_part']=='plant_gen') & (mul['ownership']=='owned')].copy()"
   ]
  },
  {
   "cell_type": "code",
   "execution_count": 27,
   "metadata": {},
   "outputs": [],
   "source": [
    "# Get the ownership fractions at the plant level\n",
    "plant_mul = mul[(mul['plant_part']=='plant_gen') & (mul['ownership']=='owned')].copy()\n",
    "plant_mul = (\n",
    "    plant_mul.rename(columns={'report_year': 'year'})\n",
    "    .reset_index()\n",
    "    [['plant_id_eia', 'generator_id', 'plant_name_eia', 'year', 'fraction_owned', 'utility_id_eia', 'net_generation_mwh', 'capacity_mw']]\n",
    "    .drop_duplicates()\n",
    ")"
   ]
  },
  {
   "cell_type": "code",
   "execution_count": 28,
   "metadata": {},
   "outputs": [],
   "source": [
    "# Calculate the net generation and capacity of each plant by summing the generator-level data.\n",
    "plant_mul['net_gen_plant_sum'] = (\n",
    "    plant_mul.groupby(['utility_id_eia', 'plant_id_eia', 'year'])['net_generation_mwh'].transform('sum')\n",
    ")\n",
    "\n",
    "plant_mul['cap_plant_sum'] = (\n",
    "    plant_mul.groupby(['utility_id_eia', 'plant_id_eia', 'year'])['capacity_mw'].transform('sum')\n",
    ")"
   ]
  },
  {
   "cell_type": "code",
   "execution_count": 29,
   "metadata": {},
   "outputs": [],
   "source": [
    "# Calculate the net generation and capacity owned by the given utility based on the fraction\n",
    "# of the plant that they own.\n",
    "plant_mul_FO_NA = plant_mul[plant_mul['fraction_owned'].isna()].copy()\n",
    "plant_mul_FO = plant_mul[plant_mul['fraction_owned'].notna()].copy()\n",
    "\n",
    "plant_mul_FO['fraction_owned_gen'] = (\n",
    "    plant_mul_FO.net_generation_mwh * plant_mul_FO.fraction_owned / plant_mul_FO.net_gen_plant_sum\n",
    ")\n",
    "plant_mul_FO['fraction_owned_gen'] = plant_mul_FO['fraction_owned_gen'].fillna(0)\n",
    "\n",
    "plant_mul = plant_mul_FO.append(plant_mul_FO_NA)\n",
    "\n",
    "plant_mul['fraction_owned_cap'] = (\n",
    "    plant_mul.capacity_mw * plant_mul.fraction_owned / plant_mul.cap_plant_sum\n",
    ")"
   ]
  },
  {
   "cell_type": "code",
   "execution_count": 33,
   "metadata": {},
   "outputs": [],
   "source": [
    "# Only keeps entries for the given utility\n",
    "util_gen_df = plant_mul[plant_mul['utility_id_eia']==util_id]\n",
    "util_plants = list(set((util_gen_df.plant_id_eia)))"
   ]
  },
  {
   "cell_type": "code",
   "execution_count": 34,
   "metadata": {},
   "outputs": [],
   "source": [
    "util_plant_df = (\n",
    "    util_gen_df.groupby(['plant_id_eia', 'year'])\n",
    "    .agg({'utility_id_eia': 'first',\n",
    "          'plant_name_eia': 'first',\n",
    "          'fraction_owned_gen': 'sum',\n",
    "          'fraction_owned_cap': 'sum',\n",
    "          'net_generation_mwh': 'sum'})\n",
    "    .reset_index()\n",
    ")"
   ]
  },
  {
   "cell_type": "markdown",
   "metadata": {},
   "source": [
    "##### Prep CEMS for Utility integration"
   ]
  },
  {
   "cell_type": "code",
   "execution_count": 36,
   "metadata": {},
   "outputs": [
    {
     "name": "stdout",
     "output_type": "stream",
     "text": [
      "starting calculation for 2009\n",
      "starting calculation for 2010\n",
      "starting calculation for 2011\n",
      "starting calculation for 2012\n",
      "starting calculation for 2013\n",
      "starting calculation for 2014\n",
      "starting calculation for 2015\n",
      "starting calculation for 2016\n",
      "starting calculation for 2017\n",
      "starting calculation for 2018\n",
      "starting calculation for 2019\n"
     ]
    }
   ],
   "source": [
    "# CEMS\n",
    "years = range(2009, 2020)\n",
    "cems_df = pd.DataFrame()\n",
    "client = Client()\n",
    "\n",
    "my_cols = [\n",
    "    'state',\n",
    "    'plant_id_eia', \n",
    "    'unitid',\n",
    "    'gross_load_mw',\n",
    "    'operating_datetime_utc',\n",
    "]\n",
    "\n",
    "for yr in years:\n",
    "    print(f'starting calculation for {yr}')\n",
    "    epacems_path = (pudl_settings['parquet_dir'] + f'/epacems/year={yr}')\n",
    "    cems_dd = (\n",
    "        dd.read_parquet(epacems_path, columns=my_cols)\n",
    "        .assign(state=lambda x: x['state'].astype('string'))\n",
    "    )\n",
    "    cems_dd_util = cems_dd[cems_dd['plant_id_eia'].isin(util_plants)]\n",
    "    \n",
    "    cems_df_util = (\n",
    "        client.compute(cems_dd_util)\n",
    "        .result()\n",
    "        .assign(year=yr))\n",
    "    cems_df = pd.concat([cems_df, cems_df_util])"
   ]
  },
  {
   "cell_type": "code",
   "execution_count": 37,
   "metadata": {},
   "outputs": [],
   "source": [
    "# groupby time and plant\n",
    "cems_plant_df = (\n",
    "    cems_df.groupby(['plant_id_eia', 'operating_datetime_utc']).agg({\n",
    "        'state': 'first',\n",
    "        'year': 'first',\n",
    "        'gross_load_mw': 'sum',\n",
    "    }).reset_index()\n",
    ")"
   ]
  },
  {
   "cell_type": "markdown",
   "metadata": {},
   "source": [
    "##### Combine CEMS and MUL on Utility data"
   ]
  },
  {
   "cell_type": "code",
   "execution_count": 40,
   "metadata": {},
   "outputs": [],
   "source": [
    "cems_util = (\n",
    "    pd.merge(cems_plant_df, util_plant_df, on=['plant_id_eia', 'year'], how='left')\n",
    ")"
   ]
  },
  {
   "cell_type": "code",
   "execution_count": 41,
   "metadata": {},
   "outputs": [],
   "source": [
    "cems_util_final = (\n",
    "    cems_util.assign(\n",
    "        gross_load_mw_fraction_owned_gen=lambda x: x.gross_load_mw * x.fraction_owned_gen\n",
    "    ).rename(columns={'net_generation_mwh': 'net_gen_annual_mwh'})\n",
    ")"
   ]
  },
  {
   "cell_type": "code",
   "execution_count": 46,
   "metadata": {},
   "outputs": [],
   "source": [
    "cems_util_final.to_csv('CEMS_Duke_gross_load.csv')"
   ]
  },
  {
   "cell_type": "code",
   "execution_count": null,
   "metadata": {},
   "outputs": [],
   "source": []
  }
 ],
 "metadata": {
  "kernelspec": {
   "display_name": "Python 3",
   "language": "python",
   "name": "python3"
  },
  "language_info": {
   "codemirror_mode": {
    "name": "ipython",
    "version": 3
   },
   "file_extension": ".py",
   "mimetype": "text/x-python",
   "name": "python",
   "nbconvert_exporter": "python",
   "pygments_lexer": "ipython3",
   "version": "3.8.6"
  }
 },
 "nbformat": 4,
 "nbformat_minor": 4
}
