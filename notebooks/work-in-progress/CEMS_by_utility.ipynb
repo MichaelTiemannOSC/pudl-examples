{
 "cells": [
  {
   "cell_type": "markdown",
   "metadata": {},
   "source": [
    "## Aggregate CEMS data at the utility level for RMI"
   ]
  },
  {
   "cell_type": "code",
   "execution_count": 6,
   "metadata": {},
   "outputs": [],
   "source": [
    "# Standard libraries\n",
    "import logging\n",
    "import os\n",
    "import pathlib\n",
    "import sys\n",
    "\n",
    "# 3rd party libraries\n",
    "import geopandas as gpd\n",
    "import geoplot as gplt\n",
    "import dask.dataframe as dd\n",
    "from dask.distributed import Client\n",
    "import matplotlib.pyplot as plt\n",
    "import matplotlib as mpl\n",
    "import numpy as np\n",
    "import pandas as pd\n",
    "import seaborn as sns\n",
    "import sqlalchemy as sa\n",
    "\n",
    "\n",
    "# Local libraries\n",
    "import pudl"
   ]
  },
  {
   "cell_type": "code",
   "execution_count": 7,
   "metadata": {},
   "outputs": [],
   "source": [
    "pudl_settings = pudl.workspace.setup.get_defaults()\n",
    "#display(pudl_settings)\n",
    "\n",
    "ferc1_engine = sa.create_engine(pudl_settings['ferc1_db'])\n",
    "#display(ferc1_engine)\n",
    "\n",
    "pudl_engine = sa.create_engine(pudl_settings['pudl_db'])\n",
    "#display(pudl_engine)\n",
    "\n",
    "#pudl_engine.table_names()\n",
    "pudl_out = pudl.output.pudltabl.PudlTabl(pudl_engine)"
   ]
  },
  {
   "cell_type": "markdown",
   "metadata": {},
   "source": [
    "##### Prep FPL Information"
   ]
  },
  {
   "cell_type": "code",
   "execution_count": 8,
   "metadata": {},
   "outputs": [],
   "source": [
    "# Read master unit list\n",
    "mul = pd.read_pickle('/Users/aesharpe/Desktop/master_unit_list.pkl.gz')"
   ]
  },
  {
   "cell_type": "code",
   "execution_count": 9,
   "metadata": {},
   "outputs": [],
   "source": [
    "# Get the ownership fractions at the plant level\n",
    "plant_mul = mul[(mul['plant_part']=='plant') & (mul['ownership']=='owned')].copy()\n",
    "plant_mul = (\n",
    "    plant_mul.rename(columns={'report_year': 'year'})\n",
    "    .reset_index()\n",
    "    [['plant_id_eia', 'year', 'fraction_owned', 'utility_id_eia']]\n",
    "    .drop_duplicates()\n",
    ")"
   ]
  },
  {
   "cell_type": "code",
   "execution_count": 10,
   "metadata": {},
   "outputs": [],
   "source": [
    "fpl_eia_id = 6452\n",
    "# Duke EIA ID = \n",
    "\n",
    "fpl_df = plant_mul[plant_mul['utility_id_eia']==fpl_eia_id]\n",
    "fpl_plants = list(set((fpl_df.plant_id_eia)))"
   ]
  },
  {
   "cell_type": "markdown",
   "metadata": {},
   "source": [
    "##### Prep CEMS with FPL data "
   ]
  },
  {
   "cell_type": "code",
   "execution_count": 15,
   "metadata": {},
   "outputs": [
    {
     "name": "stdout",
     "output_type": "stream",
     "text": [
      "starting calculation for 2009\n",
      "starting calculation for 2010\n"
     ]
    },
    {
     "name": "stderr",
     "output_type": "stream",
     "text": [
      "/Users/aesharpe/miniconda3/envs/pudl-dev/lib/python3.8/site-packages/distributed/node.py:151: UserWarning: Port 8787 is already in use.\n",
      "Perhaps you already have a cluster running?\n",
      "Hosting the HTTP server on port 51432 instead\n",
      "  warnings.warn(\n"
     ]
    },
    {
     "name": "stdout",
     "output_type": "stream",
     "text": [
      "starting calculation for 2011\n"
     ]
    },
    {
     "name": "stderr",
     "output_type": "stream",
     "text": [
      "/Users/aesharpe/miniconda3/envs/pudl-dev/lib/python3.8/site-packages/distributed/node.py:151: UserWarning: Port 8787 is already in use.\n",
      "Perhaps you already have a cluster running?\n",
      "Hosting the HTTP server on port 51475 instead\n",
      "  warnings.warn(\n"
     ]
    },
    {
     "name": "stdout",
     "output_type": "stream",
     "text": [
      "starting calculation for 2012\n"
     ]
    },
    {
     "name": "stderr",
     "output_type": "stream",
     "text": [
      "/Users/aesharpe/miniconda3/envs/pudl-dev/lib/python3.8/site-packages/distributed/node.py:151: UserWarning: Port 8787 is already in use.\n",
      "Perhaps you already have a cluster running?\n",
      "Hosting the HTTP server on port 51513 instead\n",
      "  warnings.warn(\n"
     ]
    },
    {
     "name": "stdout",
     "output_type": "stream",
     "text": [
      "starting calculation for 2013\n"
     ]
    },
    {
     "name": "stderr",
     "output_type": "stream",
     "text": [
      "/Users/aesharpe/miniconda3/envs/pudl-dev/lib/python3.8/site-packages/distributed/node.py:151: UserWarning: Port 8787 is already in use.\n",
      "Perhaps you already have a cluster running?\n",
      "Hosting the HTTP server on port 51548 instead\n",
      "  warnings.warn(\n"
     ]
    },
    {
     "name": "stdout",
     "output_type": "stream",
     "text": [
      "starting calculation for 2014\n"
     ]
    },
    {
     "name": "stderr",
     "output_type": "stream",
     "text": [
      "/Users/aesharpe/miniconda3/envs/pudl-dev/lib/python3.8/site-packages/distributed/node.py:151: UserWarning: Port 8787 is already in use.\n",
      "Perhaps you already have a cluster running?\n",
      "Hosting the HTTP server on port 51584 instead\n",
      "  warnings.warn(\n"
     ]
    },
    {
     "name": "stdout",
     "output_type": "stream",
     "text": [
      "starting calculation for 2015\n"
     ]
    },
    {
     "name": "stderr",
     "output_type": "stream",
     "text": [
      "/Users/aesharpe/miniconda3/envs/pudl-dev/lib/python3.8/site-packages/distributed/node.py:151: UserWarning: Port 8787 is already in use.\n",
      "Perhaps you already have a cluster running?\n",
      "Hosting the HTTP server on port 51625 instead\n",
      "  warnings.warn(\n"
     ]
    },
    {
     "name": "stdout",
     "output_type": "stream",
     "text": [
      "starting calculation for 2016\n"
     ]
    },
    {
     "name": "stderr",
     "output_type": "stream",
     "text": [
      "/Users/aesharpe/miniconda3/envs/pudl-dev/lib/python3.8/site-packages/distributed/node.py:151: UserWarning: Port 8787 is already in use.\n",
      "Perhaps you already have a cluster running?\n",
      "Hosting the HTTP server on port 51663 instead\n",
      "  warnings.warn(\n",
      "distributed.comm.tcp - WARNING - Closing dangling stream in <TCP  local=tcp://127.0.0.1:51706 remote=tcp://127.0.0.1:51670>\n"
     ]
    },
    {
     "name": "stdout",
     "output_type": "stream",
     "text": [
      "starting calculation for 2017\n"
     ]
    },
    {
     "name": "stderr",
     "output_type": "stream",
     "text": [
      "/Users/aesharpe/miniconda3/envs/pudl-dev/lib/python3.8/site-packages/distributed/node.py:151: UserWarning: Port 8787 is already in use.\n",
      "Perhaps you already have a cluster running?\n",
      "Hosting the HTTP server on port 51711 instead\n",
      "  warnings.warn(\n"
     ]
    },
    {
     "name": "stdout",
     "output_type": "stream",
     "text": [
      "starting calculation for 2018\n"
     ]
    },
    {
     "name": "stderr",
     "output_type": "stream",
     "text": [
      "/Users/aesharpe/miniconda3/envs/pudl-dev/lib/python3.8/site-packages/distributed/node.py:151: UserWarning: Port 8787 is already in use.\n",
      "Perhaps you already have a cluster running?\n",
      "Hosting the HTTP server on port 51750 instead\n",
      "  warnings.warn(\n"
     ]
    }
   ],
   "source": [
    "# CEMS\n",
    "years = range(2009, 2019)\n",
    "cems_df = pd.DataFrame()\n",
    "\n",
    "my_cols = [\n",
    "    'state',\n",
    "    'plant_id_eia', \n",
    "    'unitid',\n",
    "    'so2_mass_lbs', \n",
    "    'nox_mass_lbs', \n",
    "    'co2_mass_tons',\n",
    "    'operating_datetime_utc',\n",
    "]\n",
    "\n",
    "for yr in years:\n",
    "    print(f'starting calculation for {yr}')\n",
    "    epacems_path = (pudl_settings['parquet_dir'] + f'/epacems/year={yr}')\n",
    "    cems_dd = (\n",
    "        dd.read_parquet(epacems_path, columns=my_cols)\n",
    "        .assign(state=lambda x: x['state'].astype('string'))\n",
    "#         .groupby(['plant_id_eia', 'operating_datetime_utc']).agg({\n",
    "#             'state': 'first',\n",
    "#             'so2_mass_lbs': 'sum',\n",
    "#             'nox_mass_lbs': 'sum',\n",
    "#             'co2_mass_tons': 'sum',\n",
    "#         }).reset_index()\n",
    "    )\n",
    "    cems_dd_fpl = cems_dd[cems_dd['plant_id_eia'].isin(fpl_plants)]\n",
    "    \n",
    "    client = Client()\n",
    "    cems_df_fpl = (\n",
    "        client.compute(cems_dd_fpl)\n",
    "        .result()\n",
    "        .assign(year=yr))\n",
    "    cems_df = pd.concat([cems_df, cems_df_fpl])"
   ]
  },
  {
   "cell_type": "code",
   "execution_count": 16,
   "metadata": {},
   "outputs": [],
   "source": [
    "# groupby time and plant\n",
    "cems_df = (\n",
    "    cems_df.groupby(['plant_id_eia', 'operating_datetime_utc']).agg({\n",
    "        'state': 'first',\n",
    "        'year': 'first',\n",
    "        'so2_mass_lbs': 'sum',\n",
    "        'nox_mass_lbs': 'sum',\n",
    "        'co2_mass_tons': 'sum',\n",
    "    }).reset_index()\n",
    ")"
   ]
  },
  {
   "cell_type": "markdown",
   "metadata": {},
   "source": [
    "##### Prep master unit list by plant percent owned"
   ]
  },
  {
   "cell_type": "code",
   "execution_count": 5,
   "metadata": {},
   "outputs": [],
   "source": [
    "## Read master unit list\n",
    "# mul = pd.read_pickle('/Users/aesharpe/Desktop/master_unit_list.pkl.gz')"
   ]
  },
  {
   "cell_type": "code",
   "execution_count": 289,
   "metadata": {},
   "outputs": [],
   "source": [
    "# # Get the ownership fractions at the plant level\n",
    "# plant_mul = mul[(mul['plant_part']=='plant') & (mul['ownership']=='owned')].copy()\n",
    "# plant_mul = (\n",
    "#     plant_mul.rename(columns={'report_year': 'year'})\n",
    "#     .reset_index()\n",
    "#     [['plant_id_eia', 'year', 'fraction_owned', 'utility_id_eia']]\n",
    "#     .drop_duplicates()\n",
    "# )"
   ]
  },
  {
   "cell_type": "markdown",
   "metadata": {},
   "source": [
    "##### Combine CEMS and MUL on FPL data"
   ]
  },
  {
   "cell_type": "code",
   "execution_count": 17,
   "metadata": {},
   "outputs": [],
   "source": [
    "cems_mul = (\n",
    "    pd.merge(cems_df, plant_mul, on=['plant_id_eia', 'year'], how='left')\n",
    ")\n",
    "\n",
    "# Only get the fractions from FPL\n",
    "cems_fpl = cems_mul[cems_mul['utility_id_eia']==6452]"
   ]
  },
  {
   "cell_type": "code",
   "execution_count": 18,
   "metadata": {},
   "outputs": [],
   "source": [
    "cems_fpl_utility = (\n",
    "    cems_fpl.assign(\n",
    "        so2_mass_lbs=lambda x: x.so2_mass_lbs * x.fraction_owned,\n",
    "        nox_mass_lbs=lambda x: x.nox_mass_lbs * x.fraction_owned,\n",
    "        co2_mass_tons=lambda x: x.co2_mass_tons * x.fraction_owned)\n",
    "    .groupby('operating_datetime_utc').agg({\n",
    "        'utility_id_eia': 'first',\n",
    "        'state': 'first',\n",
    "        'year': 'first',\n",
    "        'so2_mass_lbs': 'sum',\n",
    "        'nox_mass_lbs': 'sum',\n",
    "        'co2_mass_tons': 'sum',\n",
    "    })\n",
    ")"
   ]
  },
  {
   "cell_type": "code",
   "execution_count": 19,
   "metadata": {},
   "outputs": [],
   "source": [
    "cems_fpl_utility.to_csv('CEMS_FPL.csv')"
   ]
  },
  {
   "cell_type": "code",
   "execution_count": 275,
   "metadata": {},
   "outputs": [
    {
     "data": {
      "text/html": [
       "<div>\n",
       "<style scoped>\n",
       "    .dataframe tbody tr th:only-of-type {\n",
       "        vertical-align: middle;\n",
       "    }\n",
       "\n",
       "    .dataframe tbody tr th {\n",
       "        vertical-align: top;\n",
       "    }\n",
       "\n",
       "    .dataframe thead th {\n",
       "        text-align: right;\n",
       "    }\n",
       "</style>\n",
       "<table border=\"1\" class=\"dataframe\">\n",
       "  <thead>\n",
       "    <tr style=\"text-align: right;\">\n",
       "      <th></th>\n",
       "      <th></th>\n",
       "      <th>so2_mass_lbs</th>\n",
       "      <th>nox_mass_lbs</th>\n",
       "      <th>co2_mass_tons</th>\n",
       "      <th>year</th>\n",
       "      <th>fraction_owned</th>\n",
       "      <th>utility_id_eia</th>\n",
       "    </tr>\n",
       "    <tr>\n",
       "      <th>plant_id_eia</th>\n",
       "      <th>operating_datetime_utc</th>\n",
       "      <th></th>\n",
       "      <th></th>\n",
       "      <th></th>\n",
       "      <th></th>\n",
       "      <th></th>\n",
       "      <th></th>\n",
       "    </tr>\n",
       "  </thead>\n",
       "  <tbody>\n",
       "    <tr>\n",
       "      <th rowspan=\"5\" valign=\"top\">207</th>\n",
       "      <th>2009-01-01 05:00:00+00:00</th>\n",
       "      <td>9.083393e+06</td>\n",
       "      <td>7.095893e+06</td>\n",
       "      <td>4576210.00</td>\n",
       "      <td>2009</td>\n",
       "      <td>0.50</td>\n",
       "      <td>6452</td>\n",
       "    </tr>\n",
       "    <tr>\n",
       "      <th>2010-01-01 05:00:00+00:00</th>\n",
       "      <td>0.000000e+00</td>\n",
       "      <td>0.000000e+00</td>\n",
       "      <td>0.00</td>\n",
       "      <td>2010</td>\n",
       "      <td>0.00</td>\n",
       "      <td>6452</td>\n",
       "    </tr>\n",
       "    <tr>\n",
       "      <th>2011-01-01 05:00:00+00:00</th>\n",
       "      <td>1.257438e+07</td>\n",
       "      <td>6.151063e+06</td>\n",
       "      <td>3789954.25</td>\n",
       "      <td>2011</td>\n",
       "      <td>0.50</td>\n",
       "      <td>6452</td>\n",
       "    </tr>\n",
       "    <tr>\n",
       "      <th>2012-01-01 05:00:00+00:00</th>\n",
       "      <td>1.279855e+07</td>\n",
       "      <td>1.286926e+07</td>\n",
       "      <td>3429048.75</td>\n",
       "      <td>2012</td>\n",
       "      <td>0.50</td>\n",
       "      <td>6452</td>\n",
       "    </tr>\n",
       "    <tr>\n",
       "      <th>2013-01-01 05:00:00+00:00</th>\n",
       "      <td>9.961960e+06</td>\n",
       "      <td>8.582538e+06</td>\n",
       "      <td>2553926.55</td>\n",
       "      <td>2013</td>\n",
       "      <td>0.35</td>\n",
       "      <td>6452</td>\n",
       "    </tr>\n",
       "    <tr>\n",
       "      <th>...</th>\n",
       "      <th>...</th>\n",
       "      <td>...</td>\n",
       "      <td>...</td>\n",
       "      <td>...</td>\n",
       "      <td>...</td>\n",
       "      <td>...</td>\n",
       "      <td>...</td>\n",
       "    </tr>\n",
       "    <tr>\n",
       "      <th rowspan=\"5\" valign=\"top\">56407</th>\n",
       "      <th>2014-01-01 05:00:00+00:00</th>\n",
       "      <td>8.239859e+04</td>\n",
       "      <td>1.074593e+06</td>\n",
       "      <td>8157454.00</td>\n",
       "      <td>2014</td>\n",
       "      <td>1.00</td>\n",
       "      <td>6452</td>\n",
       "    </tr>\n",
       "    <tr>\n",
       "      <th>2015-01-01 05:00:00+00:00</th>\n",
       "      <td>8.523717e+04</td>\n",
       "      <td>1.089301e+06</td>\n",
       "      <td>8413140.00</td>\n",
       "      <td>2015</td>\n",
       "      <td>1.00</td>\n",
       "      <td>6452</td>\n",
       "    </tr>\n",
       "    <tr>\n",
       "      <th>2016-01-01 05:00:00+00:00</th>\n",
       "      <td>8.410130e+04</td>\n",
       "      <td>1.148120e+06</td>\n",
       "      <td>8314335.50</td>\n",
       "      <td>2016</td>\n",
       "      <td>1.00</td>\n",
       "      <td>6452</td>\n",
       "    </tr>\n",
       "    <tr>\n",
       "      <th>2017-01-01 05:00:00+00:00</th>\n",
       "      <td>8.278310e+04</td>\n",
       "      <td>1.068876e+06</td>\n",
       "      <td>8191236.50</td>\n",
       "      <td>2017</td>\n",
       "      <td>1.00</td>\n",
       "      <td>6452</td>\n",
       "    </tr>\n",
       "    <tr>\n",
       "      <th>2018-01-01 05:00:00+00:00</th>\n",
       "      <td>8.011652e+04</td>\n",
       "      <td>1.048951e+06</td>\n",
       "      <td>7919667.00</td>\n",
       "      <td>2018</td>\n",
       "      <td>1.00</td>\n",
       "      <td>6452</td>\n",
       "    </tr>\n",
       "  </tbody>\n",
       "</table>\n",
       "<p>128 rows × 6 columns</p>\n",
       "</div>"
      ],
      "text/plain": [
       "                                        so2_mass_lbs  nox_mass_lbs  \\\n",
       "plant_id_eia operating_datetime_utc                                  \n",
       "207          2009-01-01 05:00:00+00:00  9.083393e+06  7.095893e+06   \n",
       "             2010-01-01 05:00:00+00:00  0.000000e+00  0.000000e+00   \n",
       "             2011-01-01 05:00:00+00:00  1.257438e+07  6.151063e+06   \n",
       "             2012-01-01 05:00:00+00:00  1.279855e+07  1.286926e+07   \n",
       "             2013-01-01 05:00:00+00:00  9.961960e+06  8.582538e+06   \n",
       "...                                              ...           ...   \n",
       "56407        2014-01-01 05:00:00+00:00  8.239859e+04  1.074593e+06   \n",
       "             2015-01-01 05:00:00+00:00  8.523717e+04  1.089301e+06   \n",
       "             2016-01-01 05:00:00+00:00  8.410130e+04  1.148120e+06   \n",
       "             2017-01-01 05:00:00+00:00  8.278310e+04  1.068876e+06   \n",
       "             2018-01-01 05:00:00+00:00  8.011652e+04  1.048951e+06   \n",
       "\n",
       "                                        co2_mass_tons  year  fraction_owned  \\\n",
       "plant_id_eia operating_datetime_utc                                           \n",
       "207          2009-01-01 05:00:00+00:00     4576210.00  2009            0.50   \n",
       "             2010-01-01 05:00:00+00:00           0.00  2010            0.00   \n",
       "             2011-01-01 05:00:00+00:00     3789954.25  2011            0.50   \n",
       "             2012-01-01 05:00:00+00:00     3429048.75  2012            0.50   \n",
       "             2013-01-01 05:00:00+00:00     2553926.55  2013            0.35   \n",
       "...                                               ...   ...             ...   \n",
       "56407        2014-01-01 05:00:00+00:00     8157454.00  2014            1.00   \n",
       "             2015-01-01 05:00:00+00:00     8413140.00  2015            1.00   \n",
       "             2016-01-01 05:00:00+00:00     8314335.50  2016            1.00   \n",
       "             2017-01-01 05:00:00+00:00     8191236.50  2017            1.00   \n",
       "             2018-01-01 05:00:00+00:00     7919667.00  2018            1.00   \n",
       "\n",
       "                                        utility_id_eia  \n",
       "plant_id_eia operating_datetime_utc                     \n",
       "207          2009-01-01 05:00:00+00:00            6452  \n",
       "             2010-01-01 05:00:00+00:00            6452  \n",
       "             2011-01-01 05:00:00+00:00            6452  \n",
       "             2012-01-01 05:00:00+00:00            6452  \n",
       "             2013-01-01 05:00:00+00:00            6452  \n",
       "...                                                ...  \n",
       "56407        2014-01-01 05:00:00+00:00            6452  \n",
       "             2015-01-01 05:00:00+00:00            6452  \n",
       "             2016-01-01 05:00:00+00:00            6452  \n",
       "             2017-01-01 05:00:00+00:00            6452  \n",
       "             2018-01-01 05:00:00+00:00            6452  \n",
       "\n",
       "[128 rows x 6 columns]"
      ]
     },
     "execution_count": 275,
     "metadata": {},
     "output_type": "execute_result"
    }
   ],
   "source": [
    "cems_fpl_utility.groupby(['plant_id_eia', 'operating_datetime_utc']).sum()"
   ]
  },
  {
   "cell_type": "code",
   "execution_count": null,
   "metadata": {},
   "outputs": [],
   "source": []
  }
 ],
 "metadata": {
  "kernelspec": {
   "display_name": "Python 3",
   "language": "python",
   "name": "python3"
  },
  "language_info": {
   "codemirror_mode": {
    "name": "ipython",
    "version": 3
   },
   "file_extension": ".py",
   "mimetype": "text/x-python",
   "name": "python",
   "nbconvert_exporter": "python",
   "pygments_lexer": "ipython3",
   "version": "3.8.5"
  }
 },
 "nbformat": 4,
 "nbformat_minor": 4
}
