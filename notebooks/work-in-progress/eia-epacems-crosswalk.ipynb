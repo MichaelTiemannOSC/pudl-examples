{
 "cells": [
  {
   "cell_type": "markdown",
   "metadata": {},
   "source": [
    "# Transform EPA's EIA-EPA Crosswalk CSV"
   ]
  },
  {
   "cell_type": "code",
   "execution_count": 1,
   "metadata": {},
   "outputs": [],
   "source": [
    "import pandas as pd\n",
    "from pathlib import Path\n",
    "import sqlalchemy as sa\n",
    "import importlib.resources\n",
    "\n",
    "# local imports\n",
    "import pudl\n",
    "import pudl.transform.eia as pte"
   ]
  },
  {
   "cell_type": "code",
   "execution_count": 2,
   "metadata": {},
   "outputs": [],
   "source": [
    "pudl_settings = pudl.workspace.setup.get_defaults()\n",
    "pudl_in = Path(pudl_settings['pudl_in'])\n",
    "ds = pudl.workspace.datastore.Datastore(pudl_in, sandbox=True)\n",
    "pudl_engine = sa.create_engine(pudl_settings['pudl_db'])\n",
    "pudl_out = pudl.output.pudltabl.PudlTabl(pudl_engine) # freq='monthly'/'annual' (maybe other abr.)"
   ]
  },
  {
   "cell_type": "code",
   "execution_count": 25,
   "metadata": {},
   "outputs": [],
   "source": [
    "eia_epacems_crosswalk_csv = (\n",
    "    importlib.resources.open_text(\n",
    "        'pudl.package_data.glue', \n",
    "        'epa_eia_crosswalk_from_epa.csv')\n",
    ")\n",
    "\n",
    "eia_epacems_crosswalk = (\n",
    "    pd.read_csv(eia_epacems_crosswalk_csv)\n",
    "    .pipe(pudl.helpers.simplify_columns)\n",
    "    .rename(columns={\n",
    "        'oris_code': 'plant_id_epa',\n",
    "        'eia_oris': 'plant_id_eia',\n",
    "        'unit_id': 'epa_point_source_unit',\n",
    "        'facility_name': 'plant_name_eia',\n",
    "        'unit_type': 'prime_mover_code'})\n",
    "    .drop([\n",
    "        'fuel_type_primary', \n",
    "        'edat_mw_cap', \n",
    "        'way_gen_id_matched', \n",
    "        'unit_op_status_date', \n",
    "        'notes',\n",
    "        'annual_heat_input',\n",
    "        'op_status'], axis=1)\n",
    ")"
   ]
  },
  {
   "cell_type": "markdown",
   "metadata": {},
   "source": [
    "### Fill in plant id mapping gaps\n",
    "\n",
    "1. Attempt to match based on **plant name strings**\n"
   ]
  },
  {
   "cell_type": "code",
   "execution_count": 31,
   "metadata": {},
   "outputs": [],
   "source": [
    "# Prepare EIA plant tables for integration\n",
    "eia_plants = pudl_out.plants_eia860().copy()\n",
    "eia_plants = eia_plants.filter(['plant_id_eia','plant_name_eia']).copy()"
   ]
  },
  {
   "cell_type": "code",
   "execution_count": 32,
   "metadata": {},
   "outputs": [],
   "source": [
    "# Make subset df of EPA-EIA crosswalk *WITH* EIA ids\n",
    "pre_matched_plant_eia = eia_epacems_crosswalk[eia_epacems_crosswalk['plant_id_eia'].notna()]\n",
    "\n",
    "# Make subset df of EPA-EIA crosswalk *WITHOUT* EIA ids\n",
    "missing_plant_eia = (\n",
    "    eia_epacems_crosswalk\n",
    "    .query(\"plant_id_eia.isna()\")\n",
    "    .drop('plant_id_eia', axis=1)\n",
    "    .reset_index()\n",
    ")"
   ]
  },
  {
   "cell_type": "code",
   "execution_count": 35,
   "metadata": {},
   "outputs": [],
   "source": [
    "# Merge missing data on plant name\n",
    "missing_merge = (\n",
    "    pd.merge(\n",
    "        missing_plant_eia, \n",
    "        eia_plants, \n",
    "        on='plant_name_eia', \n",
    "        how='left')\n",
    "    .drop_duplicates(subset='index')\n",
    ")\n",
    "\n",
    "# Plants with a match\n",
    "merge_match = missing_merge[missing_merge['plant_id_eia'].notna()]\n",
    "\n",
    "# Plant ids that are still missing\n",
    "missing_plant_eia2 = (\n",
    "    missing_merge[missing_merge['plant_id_eia'].isna()]\n",
    "    .drop('plant_id_eia', axis=1)\n",
    ")"
   ]
  },
  {
   "cell_type": "markdown",
   "metadata": {},
   "source": [
    "2. In most cases, the EPA has already associated an EIA generator_id with each EPA unit_id. In this case, if we are able to find an **EIA plant_id generator_id pair that matches an EPA plant_id generator_id pair**, we will assume that the EPA and EIA plant_ids are identical."
   ]
  },
  {
   "cell_type": "code",
   "execution_count": 37,
   "metadata": {},
   "outputs": [],
   "source": [
    "# Prepare EIA generator table for integration\n",
    "eia_gen = pudl_out.gens_eia860().copy()\n",
    "eia_gen = eia_gen.filter(['plant_id_eia', 'generator_id']).copy()"
   ]
  },
  {
   "cell_type": "code",
   "execution_count": 38,
   "metadata": {},
   "outputs": [],
   "source": [
    "# Merge missing data on plant id and generator id\n",
    "missing_merge2 = (\n",
    "    pd.merge(\n",
    "        missing_plant_eia2,\n",
    "        eia_gen,\n",
    "        left_on=['plant_id_epa', 'generator_id'],\n",
    "        right_on=['plant_id_eia', 'generator_id'],\n",
    "        how='left')\n",
    "    .drop_duplicates(subset='index')\n",
    ")\n",
    "\n",
    "# Plants with a match\n",
    "merge_match2 = missing_merge2[missing_merge2['plant_id_eia'].notna()]\n",
    "\n",
    "# Plant ids that are still missing\n",
    "missing_plant_eia3 = (\n",
    "    missing_merge2[missing_merge2['plant_id_eia'].isna()]\n",
    "    .drop('plant_id_eia', axis=1)\n",
    ")"
   ]
  },
  {
   "cell_type": "markdown",
   "metadata": {},
   "source": [
    "3. For whatever is left, we will simply look for instances where there is an **EIA plant_id that matches an EPA plant_id**. By comparing the plant names, we should be able to identify if these plants are the same."
   ]
  },
  {
   "cell_type": "code",
   "execution_count": 39,
   "metadata": {},
   "outputs": [],
   "source": [
    "# Merge missing data on plant_id_eia and plant_id_epa\n",
    "missing_merge3 = (\n",
    "    pd.merge(\n",
    "        missing_plant_eia3,\n",
    "        eia_plants,\n",
    "        left_on='plant_id_epa',\n",
    "        right_on='plant_id_eia',\n",
    "        how='left',\n",
    "        suffixes=['_epa', '_eia'])\n",
    "    .drop_duplicates(subset='index')\n",
    ")\n",
    "\n",
    "# Plants with a match\n",
    "merge_match3 = missing_merge3[missing_merge3['plant_id_eia'].notna()]\n",
    "\n",
    "# Plant ids that are still missing\n",
    "missing_plant_eia4 = missing_merge3[missing_merge3['plant_id_eia'].isna()]"
   ]
  },
  {
   "cell_type": "code",
   "execution_count": 40,
   "metadata": {},
   "outputs": [],
   "source": [
    "# Combine all pre-matched plants with all found matches and leftovers without a match\n",
    "cleaned_eia_epacems_crosswalk = (\n",
    "    pd.concat([\n",
    "        pre_matched_plant_eia,\n",
    "        merge_match,\n",
    "        merge_match2,\n",
    "        merge_match3,\n",
    "        missing_plant_eia4\n",
    "    ])\n",
    "    .drop(['index', 'plant_name_eia_eia', 'plant_name_eia_epa'], axis=1)\n",
    ")"
   ]
  },
  {
   "cell_type": "code",
   "execution_count": 42,
   "metadata": {},
   "outputs": [
    {
     "data": {
      "text/html": [
       "<div>\n",
       "<style scoped>\n",
       "    .dataframe tbody tr th:only-of-type {\n",
       "        vertical-align: middle;\n",
       "    }\n",
       "\n",
       "    .dataframe tbody tr th {\n",
       "        vertical-align: top;\n",
       "    }\n",
       "\n",
       "    .dataframe thead th {\n",
       "        text-align: right;\n",
       "    }\n",
       "</style>\n",
       "<table border=\"1\" class=\"dataframe\">\n",
       "  <thead>\n",
       "    <tr style=\"text-align: right;\">\n",
       "      <th></th>\n",
       "      <th>plant_name_eia</th>\n",
       "      <th>plant_id_epa</th>\n",
       "      <th>plant_id_eia</th>\n",
       "      <th>epa_point_source_unit</th>\n",
       "      <th>generator_id</th>\n",
       "      <th>boiler_id</th>\n",
       "      <th>prime_mover_code</th>\n",
       "    </tr>\n",
       "  </thead>\n",
       "  <tbody>\n",
       "    <tr>\n",
       "      <th>0</th>\n",
       "      <td>NaN</td>\n",
       "      <td>1594</td>\n",
       "      <td>&lt;NA&gt;</td>\n",
       "      <td>11</td>\n",
       "      <td>Plant not in EIA</td>\n",
       "      <td>NaN</td>\n",
       "      <td>ST</td>\n",
       "    </tr>\n",
       "    <tr>\n",
       "      <th>1</th>\n",
       "      <td>NaN</td>\n",
       "      <td>1594</td>\n",
       "      <td>&lt;NA&gt;</td>\n",
       "      <td>12</td>\n",
       "      <td>Plant not in EIA</td>\n",
       "      <td>NaN</td>\n",
       "      <td>ST</td>\n",
       "    </tr>\n",
       "    <tr>\n",
       "      <th>2</th>\n",
       "      <td>NaN</td>\n",
       "      <td>2440</td>\n",
       "      <td>&lt;NA&gt;</td>\n",
       "      <td>001</td>\n",
       "      <td>Plant not in EIA</td>\n",
       "      <td>NaN</td>\n",
       "      <td>ST</td>\n",
       "    </tr>\n",
       "    <tr>\n",
       "      <th>125</th>\n",
       "      <td>NaN</td>\n",
       "      <td>50044</td>\n",
       "      <td>&lt;NA&gt;</td>\n",
       "      <td>B132</td>\n",
       "      <td>Plant not in EIA</td>\n",
       "      <td>NaN</td>\n",
       "      <td>ST</td>\n",
       "    </tr>\n",
       "    <tr>\n",
       "      <th>198</th>\n",
       "      <td>NaN</td>\n",
       "      <td>50607</td>\n",
       "      <td>&lt;NA&gt;</td>\n",
       "      <td>23</td>\n",
       "      <td>Plant not in EIA</td>\n",
       "      <td>NaN</td>\n",
       "      <td>ST</td>\n",
       "    </tr>\n",
       "    <tr>\n",
       "      <th>199</th>\n",
       "      <td>NaN</td>\n",
       "      <td>50607</td>\n",
       "      <td>&lt;NA&gt;</td>\n",
       "      <td>24</td>\n",
       "      <td>Plant not in EIA</td>\n",
       "      <td>NaN</td>\n",
       "      <td>ST</td>\n",
       "    </tr>\n",
       "    <tr>\n",
       "      <th>200</th>\n",
       "      <td>NaN</td>\n",
       "      <td>50607</td>\n",
       "      <td>&lt;NA&gt;</td>\n",
       "      <td>26</td>\n",
       "      <td>Plant not in EIA</td>\n",
       "      <td>NaN</td>\n",
       "      <td>ST</td>\n",
       "    </tr>\n",
       "    <tr>\n",
       "      <th>201</th>\n",
       "      <td>NaN</td>\n",
       "      <td>50607</td>\n",
       "      <td>&lt;NA&gt;</td>\n",
       "      <td>RSB1</td>\n",
       "      <td>Plant not in EIA</td>\n",
       "      <td>NaN</td>\n",
       "      <td>ST</td>\n",
       "    </tr>\n",
       "    <tr>\n",
       "      <th>202</th>\n",
       "      <td>NaN</td>\n",
       "      <td>50607</td>\n",
       "      <td>&lt;NA&gt;</td>\n",
       "      <td>RSB2</td>\n",
       "      <td>Plant not in EIA</td>\n",
       "      <td>NaN</td>\n",
       "      <td>ST</td>\n",
       "    </tr>\n",
       "    <tr>\n",
       "      <th>454</th>\n",
       "      <td>NaN</td>\n",
       "      <td>55703</td>\n",
       "      <td>&lt;NA&gt;</td>\n",
       "      <td>P049</td>\n",
       "      <td>Plant not in EIA</td>\n",
       "      <td>NaN</td>\n",
       "      <td>ST</td>\n",
       "    </tr>\n",
       "  </tbody>\n",
       "</table>\n",
       "</div>"
      ],
      "text/plain": [
       "    plant_name_eia  plant_id_epa plant_id_eia epa_point_source_unit  \\\n",
       "0              NaN          1594         <NA>                    11   \n",
       "1              NaN          1594         <NA>                    12   \n",
       "2              NaN          2440         <NA>                   001   \n",
       "125            NaN         50044         <NA>                  B132   \n",
       "198            NaN         50607         <NA>                    23   \n",
       "199            NaN         50607         <NA>                    24   \n",
       "200            NaN         50607         <NA>                    26   \n",
       "201            NaN         50607         <NA>                  RSB1   \n",
       "202            NaN         50607         <NA>                  RSB2   \n",
       "454            NaN         55703         <NA>                  P049   \n",
       "\n",
       "         generator_id boiler_id prime_mover_code  \n",
       "0    Plant not in EIA       NaN               ST  \n",
       "1    Plant not in EIA       NaN               ST  \n",
       "2    Plant not in EIA       NaN               ST  \n",
       "125  Plant not in EIA       NaN               ST  \n",
       "198  Plant not in EIA       NaN               ST  \n",
       "199  Plant not in EIA       NaN               ST  \n",
       "200  Plant not in EIA       NaN               ST  \n",
       "201  Plant not in EIA       NaN               ST  \n",
       "202  Plant not in EIA       NaN               ST  \n",
       "454  Plant not in EIA       NaN               ST  "
      ]
     },
     "execution_count": 42,
     "metadata": {},
     "output_type": "execute_result"
    }
   ],
   "source": [
    "cleaned_eia_epacems_crosswalk[cleaned_eia_epacems_crosswalk['plant_id_eia'].isna()]"
   ]
  },
  {
   "cell_type": "markdown",
   "metadata": {},
   "source": [
    "# Fill Missing Boiler-Generator Associations (TODO)"
   ]
  },
  {
   "cell_type": "code",
   "execution_count": null,
   "metadata": {},
   "outputs": [],
   "source": []
  },
  {
   "cell_type": "markdown",
   "metadata": {},
   "source": [
    "# Add FRS Registry IDs "
   ]
  },
  {
   "cell_type": "code",
   "execution_count": 171,
   "metadata": {},
   "outputs": [],
   "source": [
    "#eia_epacems_crosswalk"
   ]
  },
  {
   "cell_type": "code",
   "execution_count": 168,
   "metadata": {},
   "outputs": [],
   "source": [
    "from json import JSONDecodeError\n",
    "from functools import lru_cache\n",
    "import requests\n",
    "import pandas as pd\n",
    "import numpy as np\n",
    "import time\n",
    "import progressbar\n",
    "\n",
    "# Cache this so we don't have to keep loading the same page\n",
    "@lru_cache(512)\n",
    "def download(url):\n",
    "    return requests.get(url)\n",
    "\n",
    "def one_plant_reg_id(plant_id_eia):\n",
    "    url_template = \"https://ofmpub.epa.gov/enviro/frs_rest_services.get_facilities?pgm_sys_acrnm=EIA-860&output=JSON&pgm_sys_id={}\"\n",
    "    url = url_template.format(plant_id_eia)\n",
    "    request = download(url)\n",
    "    if request.status_code > 399:\n",
    "        #print(\"Failed to retrieve data for \", plant_id_eia)\n",
    "        return np.nan\n",
    "    try:\n",
    "        json_data = request.json()[\"Results\"][\"FRSFacility\"]\n",
    "    except (JSONDecodeError, KeyError):\n",
    "        #print(\"Failed to parse json info for \", plant_id_eia)\n",
    "        return np.nan\n",
    "    if not json_data:\n",
    "        return np.nan\n",
    "    plant_info = pd.json_normalize(json_data)\n",
    "    reg_id = plant_info.iloc[0]['RegistryId']\n",
    "    return reg_id"
   ]
  },
  {
   "cell_type": "code",
   "execution_count": 170,
   "metadata": {},
   "outputs": [],
   "source": [
    "# HOW TO RUN THIS WITHOUT APPLY BECAUSE IT TAKES TOO LONG\n",
    "\n",
    "#%%time\n",
    "#test['FRS_regional_id'] = test['plant_id_eia'].apply(one_plant_reg_id)\n",
    "\n",
    "#test_reg = test.assign(reg_id=lambda x: one_plant_reg_id(x.plant_id_eia))\n",
    "\n",
    "#fill_reg_ids(eia_epacems_crosswalk)"
   ]
  }
 ],
 "metadata": {
  "kernelspec": {
   "display_name": "Python 3",
   "language": "python",
   "name": "python3"
  },
  "language_info": {
   "codemirror_mode": {
    "name": "ipython",
    "version": 3
   },
   "file_extension": ".py",
   "mimetype": "text/x-python",
   "name": "python",
   "nbconvert_exporter": "python",
   "pygments_lexer": "ipython3",
   "version": "3.8.6"
  }
 },
 "nbformat": 4,
 "nbformat_minor": 4
}
