{
 "cells": [
  {
   "cell_type": "markdown",
   "metadata": {},
   "source": [
    "# Transform EPA's EIA-EPA Crosswalk CSV"
   ]
  },
  {
   "cell_type": "code",
   "execution_count": 14,
   "metadata": {},
   "outputs": [],
   "source": [
    "import pandas as pd\n",
    "from pathlib import Path\n",
    "import sqlalchemy as sa\n",
    "import importlib.resources\n",
    "\n",
    "# local imports\n",
    "import pudl\n",
    "import pudl.transform.eia as pte"
   ]
  },
  {
   "cell_type": "code",
   "execution_count": 15,
   "metadata": {},
   "outputs": [],
   "source": [
    "pudl_settings = pudl.workspace.setup.get_defaults()\n",
    "pudl_in = Path(pudl_settings['pudl_in'])\n",
    "ds = pudl.workspace.datastore.Datastore(pudl_in, sandbox=True)\n",
    "pudl_engine = sa.create_engine(pudl_settings['pudl_db'])\n",
    "pudl_out = pudl.output.pudltabl.PudlTabl(pudl_engine) # freq='monthly'/'annual' (maybe other abr.)"
   ]
  },
  {
   "cell_type": "code",
   "execution_count": 23,
   "metadata": {},
   "outputs": [],
   "source": [
    "eia_epacems_crosswalk = importlib.resources.open_text(\n",
    "    'pudl.package_data.glue', 'epa_eia_crosswalk_from_epa.csv'\n",
    ").readlines()\n",
    "\n",
    "#eia_epacems_crosswalk = pd.read_csv(eia_epacems_crosswalk)"
   ]
  },
  {
   "cell_type": "code",
   "execution_count": 21,
   "metadata": {},
   "outputs": [
    {
     "data": {
      "text/html": [
       "<div>\n",
       "<style scoped>\n",
       "    .dataframe tbody tr th:only-of-type {\n",
       "        vertical-align: middle;\n",
       "    }\n",
       "\n",
       "    .dataframe tbody tr th {\n",
       "        vertical-align: top;\n",
       "    }\n",
       "\n",
       "    .dataframe thead th {\n",
       "        text-align: right;\n",
       "    }\n",
       "</style>\n",
       "<table border=\"1\" class=\"dataframe\">\n",
       "  <thead>\n",
       "    <tr style=\"text-align: right;\">\n",
       "      <th></th>\n",
       "      <th>0</th>\n",
       "    </tr>\n",
       "  </thead>\n",
       "  <tbody>\n",
       "    <tr>\n",
       "      <th>0</th>\n",
       "      <td>Facility Name,ORIS Code,EIA ORIS,Unit ID,Gener...</td>\n",
       "    </tr>\n",
       "    <tr>\n",
       "      <th>1</th>\n",
       "      <td>Barry,3,,1,1,1,Pipeline Natural Gas,ST,180,184...</td>\n",
       "    </tr>\n",
       "    <tr>\n",
       "      <th>2</th>\n",
       "      <td>Barry,3,,2,2,2,Pipeline Natural Gas,ST,180,188...</td>\n",
       "    </tr>\n",
       "    <tr>\n",
       "      <th>3</th>\n",
       "      <td>Barry,3,,4,4,4,Coal,ST,400,12242519.45,X-walk ...</td>\n",
       "    </tr>\n",
       "    <tr>\n",
       "      <th>4</th>\n",
       "      <td>Barry,3,,5,5,5,Coal,ST,800,33224781.5,X-walk f...</td>\n",
       "    </tr>\n",
       "    <tr>\n",
       "      <th>...</th>\n",
       "      <td>...</td>\n",
       "    </tr>\n",
       "    <tr>\n",
       "      <th>6859</th>\n",
       "      <td>Salem Harbor Station NGCC,60903,,1,1,,,,,,X-wa...</td>\n",
       "    </tr>\n",
       "    <tr>\n",
       "      <th>6860</th>\n",
       "      <td>Salem Harbor Station NGCC,60903,,2,2,,,,,,X-wa...</td>\n",
       "    </tr>\n",
       "    <tr>\n",
       "      <th>6861</th>\n",
       "      <td>Salem Harbor Station NGCC,60903,,2,4,,,,,,X-wa...</td>\n",
       "    </tr>\n",
       "    <tr>\n",
       "      <th>6862</th>\n",
       "      <td>Hartwell Energy Facility,70454,54538,MAG1,MAG1...</td>\n",
       "    </tr>\n",
       "    <tr>\n",
       "      <th>6863</th>\n",
       "      <td>Hartwell Energy Facility,70454,54538,MAG2,MAG2...</td>\n",
       "    </tr>\n",
       "  </tbody>\n",
       "</table>\n",
       "<p>6864 rows × 1 columns</p>\n",
       "</div>"
      ],
      "text/plain": [
       "                                                      0\n",
       "0     Facility Name,ORIS Code,EIA ORIS,Unit ID,Gener...\n",
       "1     Barry,3,,1,1,1,Pipeline Natural Gas,ST,180,184...\n",
       "2     Barry,3,,2,2,2,Pipeline Natural Gas,ST,180,188...\n",
       "3     Barry,3,,4,4,4,Coal,ST,400,12242519.45,X-walk ...\n",
       "4     Barry,3,,5,5,5,Coal,ST,800,33224781.5,X-walk f...\n",
       "...                                                 ...\n",
       "6859  Salem Harbor Station NGCC,60903,,1,1,,,,,,X-wa...\n",
       "6860  Salem Harbor Station NGCC,60903,,2,2,,,,,,X-wa...\n",
       "6861  Salem Harbor Station NGCC,60903,,2,4,,,,,,X-wa...\n",
       "6862  Hartwell Energy Facility,70454,54538,MAG1,MAG1...\n",
       "6863  Hartwell Energy Facility,70454,54538,MAG2,MAG2...\n",
       "\n",
       "[6864 rows x 1 columns]"
      ]
     },
     "execution_count": 21,
     "metadata": {},
     "output_type": "execute_result"
    }
   ],
   "source": [
    "eia_epacems_crosswalk"
   ]
  },
  {
   "cell_type": "code",
   "execution_count": 5,
   "metadata": {},
   "outputs": [],
   "source": [
    "# Load raw EPA csv\n",
    "path = Path.cwd().parent.parent / 'src/pudl/package_data/glue/epa_eia_crosswalk_from_epa.csv'\n",
    "eia_epacems_crosswalk = pd.read_csv(path)"
   ]
  },
  {
   "cell_type": "code",
   "execution_count": 6,
   "metadata": {},
   "outputs": [],
   "source": [
    "# Transform column headers\n",
    "new_cols = eia_epacems_crosswalk.columns.str.lower()\n",
    "new_cols = [col.replace(' ', '_') for col in new_cols]\n",
    "eia_epacems_crosswalk.columns = new_cols\n",
    "eia_epacems_crosswalk = eia_epacems_crosswalk.rename(\n",
    "    columns={'oris_code': 'plant_id_epa',\n",
    "             'eia_oris': 'plant_id_eia',\n",
    "             'unit_id': 'epa_point_source_unit',\n",
    "             'facility_name': 'plant_name_eia',\n",
    "             'unit_type': 'prime_mover_code'}\n",
    ")[['plant_name_eia', 'plant_id_eia', 'plant_id_epa', 'epa_point_source_unit', 'generator_id', 'boiler_id', 'prime_mover_code']]"
   ]
  },
  {
   "cell_type": "markdown",
   "metadata": {},
   "source": [
    "### Fill in plant id mapping gaps\n",
    "\n",
    "1. Attempt to match based on **plant name strings**# Prepare EIA plant tables for integration\n",
    "eia_plants = pudl_out.plants_eia860().copy()\n",
    "eia_plants = eia_plants.filter(['plant_id_eia','plant_name_eia']).copy() from EIA and EPA"
   ]
  },
  {
   "cell_type": "code",
   "execution_count": 7,
   "metadata": {},
   "outputs": [],
   "source": [
    "# Prepare EIA plant tables for integration\n",
    "eia_plants = pudl_out.plants_eia860().copy()\n",
    "eia_plants = eia_plants.filter(['plant_id_eia','plant_name_eia']).copy()"
   ]
  },
  {
   "cell_type": "code",
   "execution_count": 8,
   "metadata": {},
   "outputs": [],
   "source": [
    "# Establish subset of EPA-EIA crosswalk EIA ids\n",
    "pre_matched_plant_eia = eia_epacems_crosswalk[eia_epacems_crosswalk['plant_id_eia'].notna()]\n",
    "\n",
    "# Establish subset of EPA-EIA crosswalk with no EIA id\n",
    "missing_plant_eia = (\n",
    "    eia_epacems_crosswalk\n",
    "    .query(\"plant_id_eia == 'NaN'\")\n",
    "    .drop('plant_id_eia', axis=1)\n",
    "    .reset_index()\n",
    ")"
   ]
  },
  {
   "cell_type": "code",
   "execution_count": 9,
   "metadata": {},
   "outputs": [],
   "source": [
    "# Merge missing data on plant name\n",
    "missing_merge = (\n",
    "    pd.merge(\n",
    "        missing_plant_eia, \n",
    "        eia_plants, \n",
    "        on='plant_name_eia', \n",
    "        how='left')\n",
    "    .drop_duplicates(subset='index')\n",
    ")\n",
    "\n",
    "# Plants with a match\n",
    "merge_match = missing_merge[missing_merge['plant_id_eia'].notna()]\n",
    "\n",
    "# Plant ids that are still missing\n",
    "missing_plant_eia2 = (\n",
    "    missing_merge[missing_merge['plant_id_eia'].isna()]\n",
    "    .drop('plant_id_eia', axis=1)\n",
    ")"
   ]
  },
  {
   "cell_type": "markdown",
   "metadata": {},
   "source": [
    "2. In most cases, the EPA has already associated an EIA generator_id with each EPA unit_id. In this case, if we are able to find an **EIA plant_id generator_id pair that matches an EPA plant_id generator_id pair**, we will assume that the EPA and EIA plant_ids are identical."
   ]
  },
  {
   "cell_type": "code",
   "execution_count": 10,
   "metadata": {},
   "outputs": [],
   "source": [
    "# Prepare EIA generator table for integration\n",
    "eia_gen = pudl_out.gens_eia860().copy()\n",
    "eia_gen = eia_gen.filter(['plant_id_eia', 'generator_id']).copy()"
   ]
  },
  {
   "cell_type": "code",
   "execution_count": 11,
   "metadata": {},
   "outputs": [],
   "source": [
    "# Merge missing data on plant id and generator id\n",
    "missing_merge2 = (\n",
    "    pd.merge(\n",
    "        missing_plant_eia2,\n",
    "        eia_gen,\n",
    "        left_on=['plant_id_epa', 'generator_id'],\n",
    "        right_on=['plant_id_eia', 'generator_id'],\n",
    "        how='left')\n",
    "    .drop_duplicates(subset='index')\n",
    ")\n",
    "\n",
    "# Plants with a match\n",
    "merge_match2 = missing_merge2[missing_merge2['plant_id_eia'].notna()]\n",
    "\n",
    "# Plant ids that are still missing\n",
    "missing_plant_eia3 = (\n",
    "    missing_merge2[missing_merge2['plant_id_eia'].isna()]\n",
    "    .drop('plant_id_eia', axis=1)\n",
    ")"
   ]
  },
  {
   "cell_type": "markdown",
   "metadata": {},
   "source": [
    "3. For whatever is left, we will simply look for instances where there is an **EIA plant_id that matches an EPA plant_id**. By comparing the plant names, we should be able to identify if these plants are the same."
   ]
  },
  {
   "cell_type": "code",
   "execution_count": 10,
   "metadata": {},
   "outputs": [],
   "source": [
    "# Merge missing data on plant_id_eia and plant_id_epa\n",
    "missing_merge3 = (\n",
    "    pd.merge(\n",
    "        missing_plant_eia3,\n",
    "        eia_plants,\n",
    "        left_on='plant_id_epa',\n",
    "        right_on='plant_id_eia',\n",
    "        how='left',\n",
    "        suffixes=['_epa', '_eia'])\n",
    "    .drop_duplicates(subset='index')\n",
    ")\n",
    "\n",
    "# Plants with a match\n",
    "merge_match3 = missing_merge3[missing_merge3['plant_id_eia'].notna()]\n",
    "\n",
    "# Plant ids that are still missing\n",
    "missing_plant_eia4 = missing_merge3[missing_merge3['plant_id_eia'].isna()]"
   ]
  },
  {
   "cell_type": "code",
   "execution_count": 17,
   "metadata": {},
   "outputs": [],
   "source": [
    "# Combine all pre-matched plants with all found matches and leftovers without a match\n",
    "cleaned_eia_epacems_crosswalk = (\n",
    "    pd.concat([\n",
    "        pre_matched_plant_eia,\n",
    "        merge_match,\n",
    "        merge_match2,\n",
    "        merge_match3,\n",
    "        missing_plant_eia4\n",
    "    ])\n",
    "    .drop(['index', 'plant_name_eia_eia', 'plant_name_eia_epa'], axis=1)\n",
    ")"
   ]
  },
  {
   "cell_type": "code",
   "execution_count": 20,
   "metadata": {},
   "outputs": [
    {
     "data": {
      "text/plain": [
       "array(['CT', 'GT', 'ST', nan, 'OT'], dtype=object)"
      ]
     },
     "execution_count": 20,
     "metadata": {},
     "output_type": "execute_result"
    }
   ],
   "source": [
    "cleaned_eia_epacems_crosswalk['unit_type'].unique()"
   ]
  },
  {
   "cell_type": "markdown",
   "metadata": {},
   "source": [
    "# Fill Missing Boiler-Generator Associations (TODO)"
   ]
  },
  {
   "cell_type": "code",
   "execution_count": null,
   "metadata": {},
   "outputs": [],
   "source": []
  },
  {
   "cell_type": "code",
   "execution_count": null,
   "metadata": {},
   "outputs": [],
   "source": []
  }
 ],
 "metadata": {
  "kernelspec": {
   "display_name": "Python 3",
   "language": "python",
   "name": "python3"
  },
  "language_info": {
   "codemirror_mode": {
    "name": "ipython",
    "version": 3
   },
   "file_extension": ".py",
   "mimetype": "text/x-python",
   "name": "python",
   "nbconvert_exporter": "python",
   "pygments_lexer": "ipython3",
   "version": "3.8.6"
  }
 },
 "nbformat": 4,
 "nbformat_minor": 4
}
