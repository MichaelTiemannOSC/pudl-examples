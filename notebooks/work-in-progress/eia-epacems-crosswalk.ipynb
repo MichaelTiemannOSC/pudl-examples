{
 "cells": [
  {
   "cell_type": "markdown",
   "metadata": {},
   "source": [
    "# Transform EPA's EIA-EPA Crosswalk CSV"
   ]
  },
  {
   "cell_type": "code",
   "execution_count": 19,
   "metadata": {},
   "outputs": [],
   "source": [
    "import pandas as pd\n",
    "from pathlib import Path\n",
    "import sqlalchemy as sa\n",
    "\n",
    "# local imports\n",
    "import pudl\n",
    "import pudl.transform.eia as pte\n"
   ]
  },
  {
   "cell_type": "code",
   "execution_count": 2,
   "metadata": {},
   "outputs": [],
   "source": [
    "pudl_settings = pudl.workspace.setup.get_defaults()\n",
    "pudl_in = Path(pudl_settings['pudl_in'])\n",
    "ds = pudl.workspace.datastore.Datastore(pudl_in, sandbox=True)\n",
    "pudl_engine = sa.create_engine(pudl_settings['pudl_db'])\n",
    "pudl_out = pudl.output.pudltabl.PudlTabl(pudl_engine) # freq='monthly'/'annual' (maybe other abr.)"
   ]
  },
  {
   "cell_type": "markdown",
   "metadata": {},
   "source": [
    "### Get raw EPA-EIA mapping data"
   ]
  },
  {
   "cell_type": "code",
   "execution_count": 3,
   "metadata": {},
   "outputs": [],
   "source": [
    "# Load raw EPA csv\n",
    "path = Path.cwd().parent.parent / 'src/pudl/package_data/glue/epa_eia_crosswalk_from_epa.csv'\n",
    "eia_epacems_crosswalk = pd.read_csv(path)"
   ]
  },
  {
   "cell_type": "code",
   "execution_count": 4,
   "metadata": {},
   "outputs": [],
   "source": [
    "# Transform column headers\n",
    "new_cols = eia_epacems_crosswalk.columns.str.lower()\n",
    "new_cols = [col.replace(' ', '_') for col in new_cols]\n",
    "eia_epacems_crosswalk.columns = new_cols\n",
    "eia_epacems_crosswalk = eia_epacems_crosswalk.rename(\n",
    "    columns={'oris_code': 'plant_id_epa',\n",
    "             'eia_oris': 'plant_id_eia',\n",
    "             'unit_id': 'epa_point_source_unit',\n",
    "             'facility_name': 'plant_name_eia'}\n",
    ")[['plant_name_eia', 'plant_id_eia', 'plant_id_epa', 'epa_point_source_unit', 'generator_id', 'boiler_id', 'unit_type']]"
   ]
  },
  {
   "cell_type": "markdown",
   "metadata": {},
   "source": [
    "### Fill in plant id mapping gaps\n",
    "\n",
    "1. Attempt to match based on **plant name strings**# Prepare EIA plant tables for integration\n",
    "eia_plants = pudl_out.plants_eia860().copy()\n",
    "eia_plants = eia_plants.filter(['plant_id_eia','plant_name_eia']).copy() from EIA and EPA"
   ]
  },
  {
   "cell_type": "code",
   "execution_count": 5,
   "metadata": {},
   "outputs": [],
   "source": [
    "# Prepare EIA plant tables for integration\n",
    "eia_plants = pudl_out.plants_eia860().copy()\n",
    "eia_plants = eia_plants.filter(['plant_id_eia','plant_name_eia']).copy()"
   ]
  },
  {
   "cell_type": "code",
   "execution_count": 6,
   "metadata": {},
   "outputs": [],
   "source": [
    "# Establish subset of EPA-EIA crosswalk EIA ids\n",
    "pre_matched_plant_eia = eia_epacems_crosswalk[eia_epacems_crosswalk['plant_id_eia'].notna()]\n",
    "\n",
    "# Establish subset of EPA-EIA crosswalk with no EIA id\n",
    "missing_plant_eia = (\n",
    "    eia_epacems_crosswalk\n",
    "    .query(\"plant_id_eia == 'NaN'\")\n",
    "    .drop('plant_id_eia', axis=1)\n",
    "    .reset_index()\n",
    ")"
   ]
  },
  {
   "cell_type": "code",
   "execution_count": 7,
   "metadata": {},
   "outputs": [],
   "source": [
    "# Merge missing data on plant name\n",
    "missing_merge = (\n",
    "    pd.merge(\n",
    "        missing_plant_eia, \n",
    "        eia_plants, \n",
    "        on='plant_name_eia', \n",
    "        how='left')\n",
    "    .drop_duplicates(subset='index')\n",
    ")\n",
    "\n",
    "# Plants with a match\n",
    "merge_match = missing_merge[missing_merge['plant_id_eia'].notna()]\n",
    "\n",
    "# Plant ids that are still missing\n",
    "missing_plant_eia2 = (\n",
    "    missing_merge[missing_merge['plant_id_eia'].isna()]\n",
    "    .drop('plant_id_eia', axis=1)\n",
    ")"
   ]
  },
  {
   "cell_type": "markdown",
   "metadata": {},
   "source": [
    "2. In most cases, the EPA has already associated an EIA generator_id with each EPA unit_id. In this case, if we are able to find an **EIA plant_id generator_id pair that matches an EPA plant_id generator_id pair**, we will assume that the EPA and EIA plant_ids are identical."
   ]
  },
  {
   "cell_type": "code",
   "execution_count": 8,
   "metadata": {},
   "outputs": [],
   "source": [
    "# Prepare EIA generator table for integration\n",
    "eia_gen = pudl_out.gens_eia860().copy()\n",
    "eia_gen = eia_gen.filter(['plant_id_eia', 'generator_id']).copy()"
   ]
  },
  {
   "cell_type": "code",
   "execution_count": 9,
   "metadata": {},
   "outputs": [],
   "source": [
    "# Merge missing data on plant id and generator id\n",
    "missing_merge2 = (\n",
    "    pd.merge(\n",
    "        missing_plant_eia2,\n",
    "        eia_gen,\n",
    "        left_on=['plant_id_epa', 'generator_id'],\n",
    "        right_on=['plant_id_eia', 'generator_id'],\n",
    "        how='left')\n",
    "    .drop_duplicates(subset='index')\n",
    ")\n",
    "\n",
    "# Plants with a match\n",
    "merge_match2 = missing_merge2[missing_merge2['plant_id_eia'].notna()]\n",
    "\n",
    "# Plant ids that are still missing\n",
    "missing_plant_eia3 = (\n",
    "    missing_merge2[missing_merge2['plant_id_eia'].isna()]\n",
    "    .drop('plant_id_eia', axis=1)\n",
    ")"
   ]
  },
  {
   "cell_type": "markdown",
   "metadata": {},
   "source": [
    "3. For whatever is left, we will simply look for instances where there is an **EIA plant_id that matches an EPA plant_id**. By comparing the plant names, we should be able to identify if these plants are the same."
   ]
  },
  {
   "cell_type": "code",
   "execution_count": 10,
   "metadata": {},
   "outputs": [],
   "source": [
    "# Merge missing data on plant_id_eia and plant_id_epa\n",
    "missing_merge3 = (\n",
    "    pd.merge(\n",
    "        missing_plant_eia3,\n",
    "        eia_plants,\n",
    "        left_on='plant_id_epa',\n",
    "        right_on='plant_id_eia',\n",
    "        how='left',\n",
    "        suffixes=['_epa', '_eia'])\n",
    "    .drop_duplicates(subset='index')\n",
    ")\n",
    "\n",
    "# Plants with a match\n",
    "merge_match3 = missing_merge3[missing_merge3['plant_id_eia'].notna()]\n",
    "\n",
    "# Plant ids that are still missing\n",
    "missing_plant_eia4 = missing_merge3[missing_merge3['plant_id_eia'].isna()]"
   ]
  },
  {
   "cell_type": "code",
   "execution_count": 17,
   "metadata": {},
   "outputs": [],
   "source": [
    "# Combine all pre-matched plants with all found matches and leftovers without a match\n",
    "cleaned_eia_epacems_crosswalk = (\n",
    "    pd.concat([\n",
    "        pre_matched_plant_eia,\n",
    "        merge_match,\n",
    "        merge_match2,\n",
    "        merge_match3,\n",
    "        missing_plant_eia4\n",
    "    ])\n",
    "    .drop(['index', 'plant_name_eia_eia', 'plant_name_eia_epa'], axis=1)\n",
    ")"
   ]
  },
  {
   "cell_type": "code",
   "execution_count": 20,
   "metadata": {},
   "outputs": [
    {
     "data": {
      "text/plain": [
       "array(['CT', 'GT', 'ST', nan, 'OT'], dtype=object)"
      ]
     },
     "execution_count": 20,
     "metadata": {},
     "output_type": "execute_result"
    }
   ],
   "source": [
    "cleaned_eia_epacems_crosswalk['unit_type'].unique()"
   ]
  },
  {
   "cell_type": "markdown",
   "metadata": {},
   "source": [
    "# Fill Missing Boiler-Generator Associations (TODO)"
   ]
  },
  {
   "cell_type": "code",
   "execution_count": null,
   "metadata": {},
   "outputs": [],
   "source": []
  },
  {
   "cell_type": "code",
   "execution_count": null,
   "metadata": {},
   "outputs": [],
   "source": []
  }
 ],
 "metadata": {
  "kernelspec": {
   "display_name": "Python 3",
   "language": "python",
   "name": "python3"
  },
  "language_info": {
   "codemirror_mode": {
    "name": "ipython",
    "version": 3
   },
   "file_extension": ".py",
   "mimetype": "text/x-python",
   "name": "python",
   "nbconvert_exporter": "python",
   "pygments_lexer": "ipython3",
   "version": "3.8.6"
  }
 },
 "nbformat": 4,
 "nbformat_minor": 4
}
