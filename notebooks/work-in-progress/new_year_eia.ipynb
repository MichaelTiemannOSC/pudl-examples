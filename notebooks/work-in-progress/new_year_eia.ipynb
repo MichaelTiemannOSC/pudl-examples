{
 "cells": [
  {
   "cell_type": "code",
   "execution_count": 1,
   "metadata": {},
   "outputs": [],
   "source": [
    "%load_ext autoreload\n",
    "%autoreload 2\n",
    "import pudl\n",
    "from pudl import constants as pc\n",
    "import logging\n",
    "import sys\n",
    "from pathlib import Path\n",
    "import pandas as pd\n",
    "pd.options.display.max_columns = None"
   ]
  },
  {
   "cell_type": "code",
   "execution_count": 2,
   "metadata": {},
   "outputs": [],
   "source": [
    "logger = logging.getLogger()\n",
    "logger.setLevel(logging.INFO)\n",
    "handler = logging.StreamHandler(stream=sys.stdout)\n",
    "formatter = logging.Formatter('%(message)s')\n",
    "handler.setFormatter(formatter)\n",
    "logger.handlers = [handler]"
   ]
  },
  {
   "cell_type": "code",
   "execution_count": 3,
   "metadata": {},
   "outputs": [],
   "source": [
    "pudl_settings = pudl.workspace.setup.get_defaults()\n",
    "eia923_tables = pc.pudl_tables['eia923']\n",
    "eia923_years = [2018, 2019]\n",
    "eia860_tables = pc.pudl_tables['eia860']\n",
    "eia860_years = [2018, 2019]\n",
    "sandbox = True"
   ]
  },
  {
   "cell_type": "code",
   "execution_count": null,
   "metadata": {},
   "outputs": [],
   "source": [
    "ds = pudl.workspace.datastore.Datastore(\n",
    "    Path(pudl_settings[\"pudl_in\"]),\n",
    "    sandbox=sandbox)\n",
    "# Extract EIA forms 923, 860\n",
    "eia923_raw_dfs = pudl.extract.eia923.Extractor(ds).extract(eia923_years)\n",
    "eia860_raw_dfs = pudl.extract.eia860.Extractor(ds).extract(eia860_years)\n",
    "\n",
    "# Transform EIA forms 923, 860\n",
    "eia860_transformed_dfs = pudl.transform.eia860.transform(\n",
    "    eia860_raw_dfs, eia860_tables=eia860_tables)\n",
    "eia923_transformed_dfs = pudl.transform.eia923.transform(\n",
    "    eia923_raw_dfs, eia923_tables=eia923_tables)"
   ]
  },
  {
   "cell_type": "code",
   "execution_count": null,
   "metadata": {},
   "outputs": [],
   "source": [
    "# create an eia transformed dfs dictionary\n",
    "eia_transformed_dfs = eia923_transformed_dfs.copy()\n",
    "eia_transformed_dfs.update(eia860_transformed_dfs.copy())\n",
    "# convert types..\n",
    "eia_transformed_dfs = pudl.helpers.convert_dfs_dict_dtypes(\n",
    "    eia_transformed_dfs, 'eia')\n",
    "\n",
    "entities_dfs, eia_transformed_dfs = pudl.transform.eia.transform(\n",
    "    eia_transformed_dfs,\n",
    "    eia860_years=eia860_years,\n",
    "    eia923_years=eia923_years,\n",
    ")"
   ]
  },
  {
   "cell_type": "code",
   "execution_count": null,
   "metadata": {},
   "outputs": [],
   "source": [
    "list(eia_transformed_dfs.keys())"
   ]
  },
  {
   "cell_type": "code",
   "execution_count": null,
   "metadata": {},
   "outputs": [],
   "source": [
    "eia_transformed_dfs['generation_fuel_eia923'].sort_values('report_date', ascending=False)"
   ]
  },
  {
   "cell_type": "code",
   "execution_count": null,
   "metadata": {},
   "outputs": [],
   "source": []
  }
 ],
 "metadata": {
  "kernelspec": {
   "display_name": "Python 3",
   "language": "python",
   "name": "python3"
  },
  "language_info": {
   "codemirror_mode": {
    "name": "ipython",
    "version": 3
   },
   "file_extension": ".py",
   "mimetype": "text/x-python",
   "name": "python",
   "nbconvert_exporter": "python",
   "pygments_lexer": "ipython3",
   "version": "3.8.5"
  }
 },
 "nbformat": 4,
 "nbformat_minor": 4
}
