{
 "cells": [
  {
   "cell_type": "code",
   "execution_count": 1,
   "metadata": {},
   "outputs": [],
   "source": [
    "%load_ext autoreload\n",
    "%autoreload 2\n",
    "import pudl\n",
    "from pudl import constants as pc\n",
    "import logging\n",
    "import sys\n",
    "from pathlib import Path\n",
    "import pandas as pd\n",
    "pd.options.display.max_columns = None"
   ]
  },
  {
   "cell_type": "code",
   "execution_count": 2,
   "metadata": {},
   "outputs": [],
   "source": [
    "logger = logging.getLogger()\n",
    "logger.setLevel(logging.INFO)\n",
    "handler = logging.StreamHandler(stream=sys.stdout)\n",
    "formatter = logging.Formatter('%(message)s')\n",
    "handler.setFormatter(formatter)\n",
    "logger.handlers = [handler]"
   ]
  },
  {
   "cell_type": "code",
   "execution_count": 3,
   "metadata": {},
   "outputs": [],
   "source": [
    "pudl_settings = pudl.workspace.setup.get_defaults()\n",
    "eia923_tables = pc.pudl_tables['eia923']\n",
    "eia923_years = []\n",
    "eia860_tables = pc.pudl_tables['eia860']\n",
    "eia860_years = [2019]\n",
    "sandbox = True"
   ]
  },
  {
   "cell_type": "code",
   "execution_count": 4,
   "metadata": {},
   "outputs": [
    {
     "name": "stdout",
     "output_type": "stream",
     "text": [
      "No years given. Not extracting eia923 spreadsheet data.\n",
      "Extracting eia860 spreadsheet data.\n",
      "Columns for boiler_generator_assn are off: should be 4 but got 8\n",
      "Columns for generator_existing are off: should be 76 but got 77\n",
      "Columns for generator_proposed are off: should be 55 but got 56\n",
      "Columns for generator_retired are off: should be 75 but got 76\n",
      "Columns for ownership are off: should be 14 but got 15\n",
      "Columns for plant are off: should be 46 but got 47\n",
      "Columns for utility are off: should be 20 but got 21\n",
      "Transforming raw EIA 860 DataFrames for ownership_eia860 concatenated across all years.\n",
      "Transforming raw EIA 860 DataFrames for generators_eia860 concatenated across all years.\n",
      "Transforming raw EIA 860 DataFrames for plants_eia860 concatenated across all years.\n",
      "Transforming raw EIA 860 DataFrames for boiler_generator_assn_eia860 concatenated across all years.\n",
      "Transforming raw EIA 860 DataFrames for utilities_eia860 concatenated across all years.\n",
      "No raw EIA 923 DataFrames found. Not transforming EIA 923.\n"
     ]
    }
   ],
   "source": [
    "ds = pudl.workspace.datastore.Datastore(\n",
    "    Path(pudl_settings[\"pudl_in\"]),\n",
    "    sandbox=sandbox)\n",
    "# Extract EIA forms 923, 860\n",
    "eia923_raw_dfs = pudl.extract.eia923.Extractor(ds).extract(eia923_years)\n",
    "eia860_raw_dfs = pudl.extract.eia860.Extractor(ds).extract(eia860_years)\n",
    "\n",
    "# Transform EIA forms 923, 860\n",
    "eia860_transformed_dfs = pudl.transform.eia860.transform(\n",
    "    eia860_raw_dfs, eia860_tables=eia860_tables)\n",
    "eia923_transformed_dfs = pudl.transform.eia923.transform(\n",
    "    eia923_raw_dfs, eia923_tables=eia923_tables)"
   ]
  },
  {
   "cell_type": "code",
   "execution_count": 5,
   "metadata": {},
   "outputs": [
    {
     "name": "stderr",
     "output_type": "stream",
     "text": [
      "/Users/christinagosnell/miniconda3/envs/pudl-dev/lib/python3.8/site-packages/pandas/core/missing.py:49: FutureWarning: elementwise comparison failed; returning scalar instead, but in the future will perform elementwise comparison\n",
      "  mask = arr == x\n"
     ]
    }
   ],
   "source": [
    "# create an eia transformed dfs dictionary\n",
    "eia_transformed_dfs = eia860_transformed_dfs.copy()\n",
    "eia_transformed_dfs.update(eia923_transformed_dfs.copy())\n",
    "# convert types..\n",
    "eia_transformed_dfs = pudl.helpers.convert_dfs_dict_dtypes(\n",
    "    eia_transformed_dfs, 'eia')\n",
    "\n",
    "#entities_dfs, eia_transformed_dfs = pudl.transform.eia.transform(\n",
    "#    eia_transformed_dfs,\n",
    "#    eia860_years=eia860_years,\n",
    "#    eia923_years=eia923_years,\n",
    "#)"
   ]
  },
  {
   "cell_type": "code",
   "execution_count": null,
   "metadata": {},
   "outputs": [],
   "source": []
  }
 ],
 "metadata": {
  "kernelspec": {
   "display_name": "Python 3",
   "language": "python",
   "name": "python3"
  },
  "language_info": {
   "codemirror_mode": {
    "name": "ipython",
    "version": 3
   },
   "file_extension": ".py",
   "mimetype": "text/x-python",
   "name": "python",
   "nbconvert_exporter": "python",
   "pygments_lexer": "ipython3",
   "version": "3.8.5"
  }
 },
 "nbformat": 4,
 "nbformat_minor": 4
}
