{
 "cells": [
  {
   "cell_type": "markdown",
   "metadata": {},
   "source": [
    "## Playing with PUDL\n",
    "This notebook is meant to help get you up and running with the PUDL database, so you can play with it!\n",
    "\n",
    "### Importing external code.\n",
    "We need to import a bunch of outside code to do our work here.  Sometimes we import entire packages (like `numpy` and `pandas`) and sometimes we just pull in a couple of pieces we need from a particular part of a large package (like `declarative_base`)"
   ]
  },
  {
   "cell_type": "code",
   "execution_count": 2,
   "metadata": {
    "collapsed": false
   },
   "outputs": [],
   "source": [
    "import sys\n",
    "import os.path\n",
    "import numpy as np\n",
    "import pandas as pd\n",
    "from sqlalchemy.ext.declarative import declarative_base\n",
    "from sqlalchemy import create_engine\n",
    "from sqlalchemy.orm import sessionmaker\n",
    "from sqlalchemy.engine.url import URL\n",
    "import matplotlib.pyplot as plt"
   ]
  },
  {
   "cell_type": "markdown",
   "metadata": {},
   "source": [
    "### Importing our own code\n",
    "We also need to tell Python where to look to find our own code.  It has a list of directories that it looks in, but our little project isn't in that list, unless we add it -- which is what `sys.path.append()` does.  You'll need to change this path to reflect where on your computer the PUDL project folder (which you pull down with `git`) lives.\n",
    "\n",
    "Once Python knows to look in the `pudl` project folder, it will let you import `pudl` modules just like any other Python module.  Here we're pulling in the `ferc1` and `pudl` modules from the `pudl` package (which is a directory inside the `pudl` project directory)."
   ]
  },
  {
   "cell_type": "code",
   "execution_count": 3,
   "metadata": {
    "collapsed": false
   },
   "outputs": [],
   "source": [
    "sys.path.append('/Users/christinagosnell/code/pudl')\n",
    "sys.path.append('/Users/zaneselvans/code/catalyst/pudl')\n",
    "sys.path.append('/Users/Nannerz/Desktop/working/pudl/')\n",
    "sys.path.append('/home/alana/Dropbox/catalyst/pudl')\n",
    "from pudl import ferc1, pudl, models, models_ferc1, settings, constants"
   ]
  },
  {
   "cell_type": "markdown",
   "metadata": {},
   "source": [
    "### Automatically reloading a work in progress\n",
    "Because you're probably going to be editing the Python modules related to PUDL while you're working with this notebook, it's useful to have them get automatically reloaded before every cell is executed -- this means you're always using the freshest version of the module, with all your recent edits."
   ]
  },
  {
   "cell_type": "code",
   "execution_count": 4,
   "metadata": {
    "collapsed": false
   },
   "outputs": [],
   "source": [
    "%load_ext autoreload\n",
    "%autoreload 1\n",
    "%aimport pudl.pudl\n",
    "%aimport pudl.ferc1\n",
    "%aimport pudl.constants\n",
    "%aimport pudl.settings\n",
    "%aimport pudl.models"
   ]
  },
  {
   "cell_type": "markdown",
   "metadata": {},
   "source": [
    "### Connecting to our databases.\n",
    "We have two different databases that we're working with right now.  The FERC Form 1 (`ferc1`) and our own PUDL database (`pudl`). For this software to work, you'll need to have the Postgresql database server running on your computer, and you'll need to have created empty databases to receive the tables and data we're going to create.  On a mac, the easiest Postgres install to get running is probably Postgress.app.  You'll need to fire it up at the command line at least once to create the databases (one called `ferc1` and another called `pudl_sandbox`) and a user named `catalyst` with no password.  This information is stored in the `settings` module if you need to look it up.\n",
    "\n",
    "Here are two shortcuts for connecting to the two databases once they're created:"
   ]
  },
  {
   "cell_type": "code",
   "execution_count": 5,
   "metadata": {
    "collapsed": false
   },
   "outputs": [],
   "source": [
    "pudl_engine  = pudl.pudl.connect_db()\n",
    "ferc1_engine = pudl.ferc1.connect_db()"
   ]
  },
  {
   "cell_type": "markdown",
   "metadata": {},
   "source": [
    "### Initializing the FERC Form 1 database\n",
    "Now that you've got an empty database, let's put some data in it!  This function initializes the database by reading in the FERC Form 1 database structure from `refyear` and data from `years` (which can eventually be a list of years, but that's not working yet...). In order for this to work, you need to have the FERC Form 1 data downloaded into the data directory. There's a script called `get_ferc1.sh` down in `data/ferc/form1/` that will get it for you if you don't have it."
   ]
  },
  {
   "cell_type": "code",
   "execution_count": 6,
   "metadata": {
    "collapsed": false
   },
   "outputs": [
    {
     "name": "stdout",
     "output_type": "stream",
     "text": [
      "Defining new FERC Form 1 DB based on 2015...\n",
      "Clearing any existing FERC Form 1 database MetaData...\n",
      "Ingesting FERC Form 1 Data from 2007...\n",
      "Ingesting FERC Form 1 Data from 2008...\n",
      "Ingesting FERC Form 1 Data from 2009...\n",
      "Ingesting FERC Form 1 Data from 2010...\n",
      "Ingesting FERC Form 1 Data from 2011...\n",
      "Ingesting FERC Form 1 Data from 2012...\n",
      "Ingesting FERC Form 1 Data from 2013...\n",
      "Ingesting FERC Form 1 Data from 2014...\n",
      "Ingesting FERC Form 1 Data from 2015...\n"
     ]
    }
   ],
   "source": [
    "pudl.ferc1.init_db(refyear=2015, years=[2007,2008,2009,2010,2011,2012,2013,2014,2015], ferc1_tables=pudl.constants.ferc1_default_tables)"
   ]
  },
  {
   "cell_type": "markdown",
   "metadata": {},
   "source": [
    "### Initializing the PUDL database\n",
    "We can also initialize the PUDL database now. Because we're messing around with it a lot, and playing with re-importing data over and over again, it's not a bad idea to destroy whatever old version of it exists in postgres (with `drop_tables`) and then re-create the tables anew (with `create_tables`).\n",
    "\n",
    "Then we can actualy initialize some of the data (mostly glue tables connecting plants to utilities, and a few lists of constants like the US States for now) using `pudl.init_db()`. Eventually we'll need to tell this where to pull data from... but since we're not really putting any meaningful data into it yet, the function takes no arguments."
   ]
  },
  {
   "cell_type": "code",
   "execution_count": null,
   "metadata": {
    "collapsed": false
   },
   "outputs": [],
   "source": [
    "pudl.pudl.drop_tables(pudl_engine)\n",
    "pudl.pudl.create_tables(pudl_engine)\n",
    "pudl.pudl.init_db()"
   ]
  },
  {
   "cell_type": "code",
   "execution_count": 7,
   "metadata": {
    "collapsed": false
   },
   "outputs": [
    {
     "name": "stdout",
     "output_type": "stream",
     "text": [
      "Ingesting static PUDL tables...\n",
      "Sniffing EIA923/FERC1 glue tables...\n",
      "Ingesting f1_fuel from FERC Form 1 into PUDL.\n",
      "Ingesting f1_steam from FERC Form 1 into PUDL.\n"
     ]
    }
   ],
   "source": [
    "pudl.pudl.init_db(ferc1_tables=['f1_fuel','f1_steam'], ferc1_years=[2007,2008,2009,2010,2011,2012,2013,2014,2015],\\\n",
    "                                  eia923_tables=[], eia923_years=[], debug=True)"
   ]
  },
  {
   "cell_type": "markdown",
   "metadata": {},
   "source": [
    "### Pull applicable data from PUDL FERC tables"
   ]
  },
  {
   "cell_type": "code",
   "execution_count": 108,
   "metadata": {
    "collapsed": false
   },
   "outputs": [],
   "source": [
    "cost_per_mwh_f1 = pd.read_sql('''SELECT id, respondent_id, report_year, plant_name, fuel_cost_per_mwh, \\\n",
    "                                fuel_cost_per_mmbtu, fuel_avg_mmbtu_per_unit, fuel_qty_burned, fuel_unit, \\\n",
    "                                fuel_mmbtu_per_mwh, fuel \\\n",
    "                                FROM fuel_ferc1 WHERE plant_name <> '' ''',pudl_engine)\n",
    "\n",
    "mwh_f1 = pd.read_sql('''SELECT respondent_id, report_year, plant_name, net_generation_mwh, total_capacity_mw, \\\n",
    "                                cost_per_mw, plant_kind \\\n",
    "                                FROM plants_steam_ferc1 WHERE plant_name <> '' ''', pudl_engine)\n",
    "\n",
    "merged = pd.merge(cost_per_mwh_f1, mwh_f1, how='left', on=['report_year', 'respondent_id', 'plant_name'])"
   ]
  },
  {
   "cell_type": "markdown",
   "metadata": {},
   "source": [
    "### Calculate capacity factor"
   ]
  },
  {
   "cell_type": "code",
   "execution_count": 115,
   "metadata": {
    "collapsed": false
   },
   "outputs": [],
   "source": [
    "merged['calculated_capacity_factor'] = merged['net_generation_mwh'] /(merged['total_capacity_mw']*8760)\n",
    "merged['mmbtu'] = merged['fuel_mmbtu_per_mwh'] * merged['net_generation_mwh']\n",
    "merged['calculated_heat_rate_fuel_kwh'] = merged['mmbtu']/( merged['net_generation_mwh'] * 1000)"
   ]
  },
  {
   "cell_type": "code",
   "execution_count": 116,
   "metadata": {
    "collapsed": false
   },
   "outputs": [
    {
     "data": {
      "text/plain": [
       "id                               6.046500e+03\n",
       "respondent_id                    1.190000e+02\n",
       "report_year                      2.011000e+03\n",
       "fuel_cost_per_mwh                2.800000e+01\n",
       "fuel_cost_per_mmbtu              5.820000e+00\n",
       "fuel_avg_mmbtu_per_unit          1.318330e+05\n",
       "fuel_qty_burned                  1.268455e+05\n",
       "fuel_mmbtu_per_mwh               8.670378e+06\n",
       "net_generation_mwh               7.245550e+11\n",
       "total_capacity_mw                3.125000e+02\n",
       "cost_per_mw                      4.664980e+05\n",
       "calculated_capacity_factor       3.448987e+05\n",
       "mmbtu                            5.287380e+16\n",
       "calculated_heat_rate_fuel_kwh    9.305000e+03\n",
       "dtype: float64"
      ]
     },
     "execution_count": 116,
     "metadata": {},
     "output_type": "execute_result"
    }
   ],
   "source": [
    "merged.median()"
   ]
  },
  {
   "cell_type": "markdown",
   "metadata": {},
   "source": [
    "### Plots of fuel costs (for values above zero, median fuel cost is 58 dollars per MWh)"
   ]
  },
  {
   "cell_type": "code",
   "execution_count": 71,
   "metadata": {
    "collapsed": false
   },
   "outputs": [
    {
     "data": {
      "text/plain": [
       "58.0"
      ]
     },
     "execution_count": 71,
     "metadata": {},
     "output_type": "execute_result"
    }
   ],
   "source": [
    "positive_fuel = merged [ merged['fuel_cost_per_mwh'] > 0 ]\n",
    "positive_fuel.fuel_cost_per_mwh.median()"
   ]
  },
  {
   "cell_type": "code",
   "execution_count": 92,
   "metadata": {
    "collapsed": false
   },
   "outputs": [
    {
     "data": {
      "text/plain": [
       "40084.219072194006"
      ]
     },
     "execution_count": 92,
     "metadata": {},
     "output_type": "execute_result"
    }
   ],
   "source": [
    "positive_fuel.fuel_cost_per_mwh.std()"
   ]
  },
  {
   "cell_type": "code",
   "execution_count": 62,
   "metadata": {
    "collapsed": false
   },
   "outputs": [
    {
     "data": {
      "image/png": "[encoded data removed]",
      "text/plain": [
       "<matplotlib.figure.Figure at 0x1133b15f8>"
      ]
     },
     "metadata": {},
     "output_type": "display_data"
    }
   ],
   "source": [
    "plot1 = cost_per_mwh_f1.plot.scatter(x='respondent_id', y='fuel_cost_per_mwh')\n",
    "plot1.set_ylim(0,50000)\n",
    "plt.show()"
   ]
  },
  {
   "cell_type": "code",
   "execution_count": 67,
   "metadata": {
    "collapsed": false,
    "scrolled": true
   },
   "outputs": [
    {
     "data": {
      "image/png": "[encoded data removed]",
      "text/plain": [
       "<matplotlib.figure.Figure at 0x11230dc50>"
      ]
     },
     "metadata": {},
     "output_type": "display_data"
    }
   ],
   "source": [
    "cost_per_mwh_f1['fuel_cost_per_mwh'].plot.hist(bins=100,logy=True)\n",
    "plt.show()"
   ]
  },
  {
   "cell_type": "code",
   "execution_count": 86,
   "metadata": {
    "collapsed": false
   },
   "outputs": [
    {
     "data": {
      "image/png": "[encoded data removed]",
      "text/plain": [
       "<matplotlib.figure.Figure at 0x111ef34e0>"
      ]
     },
     "metadata": {},
     "output_type": "display_data"
    }
   ],
   "source": [
    "cost_per_mwh_f1['fuel_cost_per_mwh'].plot.hist(bins=100,logy=True,range=(0,50000))\n",
    "plt.show()"
   ]
  },
  {
   "cell_type": "code",
   "execution_count": 77,
   "metadata": {
    "collapsed": false
   },
   "outputs": [
    {
     "data": {
      "image/png": "[encoded data removed]",
      "text/plain": [
       "<matplotlib.figure.Figure at 0x111f2d7f0>"
      ]
     },
     "metadata": {},
     "output_type": "display_data"
    }
   ],
   "source": [
    "cost_kwh = merged['net_generation_mwh']\n",
    "\n",
    "merged['fuel_cost_per_mwh'].hist(bins=100,log=True,range=(0,100000),weights=cost_kwh)\n",
    "plt.title('cost per mwh weighted by kwh')\n",
    "plt.show()"
   ]
  },
  {
   "cell_type": "code",
   "execution_count": 81,
   "metadata": {
    "collapsed": false
   },
   "outputs": [
    {
     "data": {
      "image/png": "[encoded data removed]",
      "text/plain": [
       "<matplotlib.figure.Figure at 0x1137a4400>"
      ]
     },
     "metadata": {},
     "output_type": "display_data"
    }
   ],
   "source": [
    "cost_kwh = merged['net_generation_mwh']\n",
    "\n",
    "merged['fuel_cost_per_mwh'].hist(bins=1000,log=True,range=(0,1000),weights=cost_kwh)\n",
    "plt.title('cost per mwh weighted by kwh')\n",
    "plt.show()"
   ]
  },
  {
   "cell_type": "code",
   "execution_count": 80,
   "metadata": {
    "collapsed": false
   },
   "outputs": [
    {
     "data": {
      "image/png": "[encoded data removed]",
      "text/plain": [
       "<matplotlib.figure.Figure at 0x1130d26a0>"
      ]
     },
     "metadata": {},
     "output_type": "display_data"
    }
   ],
   "source": [
    "cost_kwh = merged['net_generation_mwh']\n",
    "\n",
    "merged['fuel_cost_per_mwh'].hist(bins=100,log=True,range=(0,100),weights=cost_kwh)\n",
    "plt.title('cost per mwh weighted by kwh')\n",
    "plt.show()"
   ]
  },
  {
   "cell_type": "markdown",
   "metadata": {},
   "source": [
    "### Taking a look at the heat rate (for values above zero, the median heat rate is 10900 mmbtu per kwh)"
   ]
  },
  {
   "cell_type": "code",
   "execution_count": 105,
   "metadata": {
    "collapsed": false
   },
   "outputs": [
    {
     "data": {
      "text/plain": [
       "10900.0"
      ]
     },
     "execution_count": 105,
     "metadata": {},
     "output_type": "execute_result"
    }
   ],
   "source": [
    "positive_heat_rate = merged [ merged['fuel_mmbtu_per_mwh'] > 0]\n",
    "positive_heat_rate.fuel_mmbtu_per_mwh.median() / 1000"
   ]
  },
  {
   "cell_type": "code",
   "execution_count": 117,
   "metadata": {
    "collapsed": false
   },
   "outputs": [
    {
     "name": "stderr",
     "output_type": "stream",
     "text": [
      "/Users/Nannerz/anaconda3/lib/python3.6/site-packages/numpy/lib/function_base.py:583: RuntimeWarning: invalid value encountered in greater_equal\n",
      "  keep = (tmp_a >= mn)\n",
      "/Users/Nannerz/anaconda3/lib/python3.6/site-packages/numpy/lib/function_base.py:584: RuntimeWarning: invalid value encountered in less_equal\n",
      "  keep &= (tmp_a <= mx)\n"
     ]
    },
    {
     "data": {
      "image/png": "[encoded data removed]",
      "text/plain": [
       "<matplotlib.figure.Figure at 0x112b7b7b8>"
      ]
     },
     "metadata": {},
     "output_type": "display_data"
    },
    {
     "data": {
      "text/plain": [
       "<matplotlib.figure.Figure at 0x112e49208>"
      ]
     },
     "metadata": {},
     "output_type": "display_data"
    }
   ],
   "source": [
    "array_1 = merged['calculated_heat_rate_fuel_kwh']\n",
    "plt.hist(array_1,bins=100,range=(0,15000000),log=True)\n",
    "plt.title('heat rate mmbtu / kwh weighted by net gen')\n",
    "plt.figure(figsize=(20,20),dpi=1000)\n",
    "plt.show()"
   ]
  },
  {
   "cell_type": "code",
   "execution_count": 118,
   "metadata": {
    "collapsed": false,
    "scrolled": true
   },
   "outputs": [
    {
     "name": "stderr",
     "output_type": "stream",
     "text": [
      "/Users/Nannerz/anaconda3/lib/python3.6/site-packages/numpy/lib/function_base.py:583: RuntimeWarning: invalid value encountered in greater_equal\n",
      "  keep = (tmp_a >= mn)\n",
      "/Users/Nannerz/anaconda3/lib/python3.6/site-packages/numpy/lib/function_base.py:584: RuntimeWarning: invalid value encountered in less_equal\n",
      "  keep &= (tmp_a <= mx)\n"
     ]
    },
    {
     "data": {
      "image/png": "[encoded data removed]",
      "text/plain": [
       "<matplotlib.figure.Figure at 0x1135a6c88>"
      ]
     },
     "metadata": {},
     "output_type": "display_data"
    },
    {
     "data": {
      "text/plain": [
       "<matplotlib.figure.Figure at 0x1135a1630>"
      ]
     },
     "metadata": {},
     "output_type": "display_data"
    }
   ],
   "source": [
    "array_1 = merged['calculated_heat_rate_fuel_kwh']\n",
    "array_2 = merged['net_generation_mwh']\n",
    "plt.hist(array_1,bins=100,weights=array_2,range=(0,15000000),log=True)\n",
    "plt.title('heat rate mmbtu / kwh weighted by net gen')\n",
    "plt.figure(figsize=(20,20),dpi=1000)\n",
    "plt.show()"
   ]
  },
  {
   "cell_type": "code",
   "execution_count": 119,
   "metadata": {
    "collapsed": false
   },
   "outputs": [
    {
     "data": {
      "image/png": "[encoded data removed]",
      "text/plain": [
       "<matplotlib.figure.Figure at 0x113513b38>"
      ]
     },
     "metadata": {},
     "output_type": "display_data"
    }
   ],
   "source": [
    "merged['calculated_heat_rate_fuel_kwh'].plot.hist(bins=200,logy=True,range=(0,10000))\n",
    "plt.title('heat rate mmbtu / kwh')\n",
    "plt.show()"
   ]
  },
  {
   "cell_type": "code",
   "execution_count": 120,
   "metadata": {
    "collapsed": false
   },
   "outputs": [
    {
     "data": {
      "image/png": "[encoded data removed]",
      "text/plain": [
       "<matplotlib.figure.Figure at 0x1133495f8>"
      ]
     },
     "metadata": {},
     "output_type": "display_data"
    }
   ],
   "source": [
    "merged['calculated_heat_rate_fuel_kwh'].plot.hist(bins=200,logy=True,range=(0,100000))\n",
    "plt.title('heat rate mmbtu / kwh')\n",
    "plt.show()"
   ]
  },
  {
   "cell_type": "code",
   "execution_count": 83,
   "metadata": {
    "collapsed": false
   },
   "outputs": [
    {
     "data": {
      "image/png": "[encoded data removed]",
      "text/plain": [
       "<matplotlib.figure.Figure at 0x115fc5080>"
      ]
     },
     "metadata": {},
     "output_type": "display_data"
    },
    {
     "data": {
      "text/plain": [
       "<matplotlib.figure.Figure at 0x11324d978>"
      ]
     },
     "metadata": {},
     "output_type": "display_data"
    }
   ],
   "source": [
    "lower_heat_rate = merged[merged['calculated_heat_rate_fuel_kwh'] < 400000]\n",
    "higher_heat_rate = merged[merged['calculated_heat_rate_fuel_kwh'] > 400000]\n",
    "higher_heat_rate = higher_heat_rate[['calculated_heat_rate_fuel_kwh','net_generation_mwh']] * .0001\n",
    "lower_heat_rate.append(higher_heat_rate)\n",
    "heat_rate = lower_heat_rate['calculated_heat_rate_fuel_kwh']\n",
    "\n",
    "kwh = lower_heat_rate['net_generation_mwh']\n",
    "\n",
    "plt.hist(heat_rate,bins=100,weights=kwh,range=(0,400000),log=True)\n",
    "plt.title('heat rate weighted by kwh, where heat rate > 400,000, kwh and heat rate are divided by 1,000')\n",
    "plt.figure(figsize=(20,20),dpi=1000)\n",
    "plt.show()"
   ]
  },
  {
   "cell_type": "code",
   "execution_count": 104,
   "metadata": {
    "collapsed": false,
    "scrolled": true
   },
   "outputs": [
    {
     "name": "stderr",
     "output_type": "stream",
     "text": [
      "/Users/Nannerz/anaconda3/lib/python3.6/site-packages/pandas/core/frame.py:4416: RuntimeWarning: '<' not supported between instances of 'str' and 'int', sort order is undefined for incomparable objects\n",
      "  other.index).difference(self.columns).tolist()\n"
     ]
    },
    {
     "data": {
      "image/png": "[encoded data removed]",
      "text/plain": [
       "<matplotlib.figure.Figure at 0x112996400>"
      ]
     },
     "metadata": {},
     "output_type": "display_data"
    }
   ],
   "source": [
    "lower_heat_rate = merged[merged['calculated_heat_rate_fuel_kwh'] < 400000]\n",
    "higher_heat_rate = merged[merged['calculated_heat_rate_fuel_kwh'] > 400000]\n",
    "higher_heat_rate_gen_reduced = higher_heat_rate[['calculated_heat_rate_fuel_kwh','net_generation_mwh']] * .0001\n",
    "higher_heat_rate_fuel = higher_heat_rate['fuel']\n",
    "\n",
    "lower_heat_rate.append(higher_heat_rate_gen_reduced)\n",
    "lower_heat_rate.append(higher_heat_rate_fuel)\n",
    "\n",
    "coal_df = lower_heat_rate[lower_heat_rate['fuel'] == 'coal']\n",
    "coal_heat_rate = coal_df['calculated_heat_rate_fuel_kwh']\n",
    "\n",
    "gas_df = lower_heat_rate[lower_heat_rate['fuel'] == 'gas']\n",
    "gas_heat_rate = gas_df['calculated_heat_rate_fuel_kwh']\n",
    "\n",
    "kwh_coal = coal_df['net_generation_mwh']\n",
    "kwh_gas = gas_df['net_generation_mwh']\n",
    "\n",
    "plt.hist([coal_heat_rate,gas_heat_rate],bins=100,weights=[kwh_coal, kwh_gas],range=(0,100000),log=True,label=['coal','gas'])\n",
    "plt.title('Coal and Gas: heat rate weighted by kwh, where heat rate > 400,000, kwh and heat rate are divided by 1,000')\n",
    "plt.legend()\n",
    "\n",
    "plt.show()"
   ]
  },
  {
   "cell_type": "markdown",
   "metadata": {},
   "source": [
    "### Take a look at plants with very high heat rates to see if they're too high every year (they're not!)."
   ]
  },
  {
   "cell_type": "code",
   "execution_count": 21,
   "metadata": {
    "collapsed": false
   },
   "outputs": [
    {
     "name": "stderr",
     "output_type": "stream",
     "text": [
      "/Users/Nannerz/anaconda3/lib/python3.6/site-packages/ipykernel/__main__.py:2: FutureWarning: sort(columns=....) is deprecated, use sort_values(by=.....)\n",
      "  from ipykernel import kernelapp as app\n"
     ]
    },
    {
     "data": {
      "text/html": [
       "<div>\n",
       "<table border=\"1\" class=\"dataframe\">\n",
       "  <thead>\n",
       "    <tr style=\"text-align: right;\">\n",
       "      <th></th>\n",
       "      <th>id</th>\n",
       "      <th>respondent_id</th>\n",
       "      <th>report_year</th>\n",
       "      <th>plant_name</th>\n",
       "      <th>fuel_cost_per_mwh</th>\n",
       "      <th>fuel_cost_per_mmbtu</th>\n",
       "      <th>fuel_avg_mmbtu_per_unit</th>\n",
       "      <th>fuel_qty_burned</th>\n",
       "      <th>fuel_unit</th>\n",
       "      <th>fuel_mmbtu_per_mwh</th>\n",
       "      <th>fuel</th>\n",
       "      <th>net_generation_mwh</th>\n",
       "      <th>total_capacity_mw</th>\n",
       "      <th>cost_per_mw</th>\n",
       "      <th>plant_kind</th>\n",
       "      <th>mmbtu</th>\n",
       "      <th>calculated_heat_rate_fuel_kwh</th>\n",
       "      <th>calculated_capacity_factor</th>\n",
       "    </tr>\n",
       "  </thead>\n",
       "  <tbody>\n",
       "    <tr>\n",
       "      <th>9626</th>\n",
       "      <td>8758</td>\n",
       "      <td>147</td>\n",
       "      <td>2013</td>\n",
       "      <td>Afton Turbine</td>\n",
       "      <td>35.0</td>\n",
       "      <td>4.494</td>\n",
       "      <td>1.0</td>\n",
       "      <td>5059071.0</td>\n",
       "      <td>mcf</td>\n",
       "      <td>7.715519e+09</td>\n",
       "      <td>gas</td>\n",
       "      <td>6.997620e+11</td>\n",
       "      <td>230.00</td>\n",
       "      <td>943545.4</td>\n",
       "      <td>None</td>\n",
       "      <td>5.399027e+21</td>\n",
       "      <td>7.715519e+06</td>\n",
       "      <td>3.473109e+05</td>\n",
       "    </tr>\n",
       "    <tr>\n",
       "      <th>11734</th>\n",
       "      <td>10696</td>\n",
       "      <td>147</td>\n",
       "      <td>2014</td>\n",
       "      <td>Afton Turbine</td>\n",
       "      <td>43.0</td>\n",
       "      <td>5.360</td>\n",
       "      <td>1.0</td>\n",
       "      <td>4103714.0</td>\n",
       "      <td>mcf</td>\n",
       "      <td>8.015940e+09</td>\n",
       "      <td>gas</td>\n",
       "      <td>5.516960e+11</td>\n",
       "      <td>230.00</td>\n",
       "      <td>965125.3</td>\n",
       "      <td>None</td>\n",
       "      <td>4.422362e+21</td>\n",
       "      <td>8.015940e+06</td>\n",
       "      <td>2.738217e+05</td>\n",
       "    </tr>\n",
       "    <tr>\n",
       "      <th>8605</th>\n",
       "      <td>7802</td>\n",
       "      <td>147</td>\n",
       "      <td>2012</td>\n",
       "      <td>Afton Turbine</td>\n",
       "      <td>32.0</td>\n",
       "      <td>4.030</td>\n",
       "      <td>1028000.0</td>\n",
       "      <td>863253.0</td>\n",
       "      <td>mcf</td>\n",
       "      <td>7.896654e+09</td>\n",
       "      <td>gas</td>\n",
       "      <td>4.667250e+11</td>\n",
       "      <td>235.00</td>\n",
       "      <td>917126.6</td>\n",
       "      <td>None</td>\n",
       "      <td>3.685566e+21</td>\n",
       "      <td>7.896654e+06</td>\n",
       "      <td>2.267196e+05</td>\n",
       "    </tr>\n",
       "    <tr>\n",
       "      <th>665</th>\n",
       "      <td>623</td>\n",
       "      <td>2</td>\n",
       "      <td>2007</td>\n",
       "      <td>Barry</td>\n",
       "      <td>2420.0</td>\n",
       "      <td>2.434</td>\n",
       "      <td>11492.0</td>\n",
       "      <td>4803242.0</td>\n",
       "      <td>ton</td>\n",
       "      <td>9.691000e+09</td>\n",
       "      <td>coal</td>\n",
       "      <td>1.109939e+13</td>\n",
       "      <td>1770.80</td>\n",
       "      <td>373440.8</td>\n",
       "      <td>None</td>\n",
       "      <td>1.075642e+23</td>\n",
       "      <td>9.691000e+06</td>\n",
       "      <td>7.155264e+05</td>\n",
       "    </tr>\n",
       "    <tr>\n",
       "      <th>11209</th>\n",
       "      <td>10215</td>\n",
       "      <td>44</td>\n",
       "      <td>2014</td>\n",
       "      <td>Belle River (Oil)</td>\n",
       "      <td>19698.0</td>\n",
       "      <td>20.510</td>\n",
       "      <td>136966.0</td>\n",
       "      <td>847.0</td>\n",
       "      <td>bbl</td>\n",
       "      <td>9.744000e+08</td>\n",
       "      <td>oil</td>\n",
       "      <td>5.000000e+06</td>\n",
       "      <td>13.75</td>\n",
       "      <td>247156.9</td>\n",
       "      <td>None</td>\n",
       "      <td>4.872000e+15</td>\n",
       "      <td>9.744000e+05</td>\n",
       "      <td>4.151100e+01</td>\n",
       "    </tr>\n",
       "    <tr>\n",
       "      <th>7619</th>\n",
       "      <td>6884</td>\n",
       "      <td>57</td>\n",
       "      <td>2011</td>\n",
       "      <td>Bowen No. 6</td>\n",
       "      <td>17732.0</td>\n",
       "      <td>21.209</td>\n",
       "      <td>138500.0</td>\n",
       "      <td>3880.0</td>\n",
       "      <td>bbl</td>\n",
       "      <td>8.360370e+08</td>\n",
       "      <td>oil</td>\n",
       "      <td>2.700000e+07</td>\n",
       "      <td>42.00</td>\n",
       "      <td>86053.1</td>\n",
       "      <td>None</td>\n",
       "      <td>2.257300e+16</td>\n",
       "      <td>8.360370e+05</td>\n",
       "      <td>7.338552e+01</td>\n",
       "    </tr>\n",
       "    <tr>\n",
       "      <th>8169</th>\n",
       "      <td>7413</td>\n",
       "      <td>144</td>\n",
       "      <td>2012</td>\n",
       "      <td>Connersville</td>\n",
       "      <td>14333.0</td>\n",
       "      <td>19.939</td>\n",
       "      <td>137000.0</td>\n",
       "      <td>625.0</td>\n",
       "      <td>bbl</td>\n",
       "      <td>7.188400e+08</td>\n",
       "      <td>oil</td>\n",
       "      <td>5.000000e+06</td>\n",
       "      <td>84.00</td>\n",
       "      <td>149834.5</td>\n",
       "      <td>None</td>\n",
       "      <td>3.594200e+15</td>\n",
       "      <td>7.188400e+05</td>\n",
       "      <td>6.794955e+00</td>\n",
       "    </tr>\n",
       "    <tr>\n",
       "      <th>6762</th>\n",
       "      <td>6115</td>\n",
       "      <td>27</td>\n",
       "      <td>2011</td>\n",
       "      <td>Dicks Creek</td>\n",
       "      <td>3120.0</td>\n",
       "      <td>5.974</td>\n",
       "      <td>1.0</td>\n",
       "      <td>27944.0</td>\n",
       "      <td>mcf</td>\n",
       "      <td>5.223070e+08</td>\n",
       "      <td>gas</td>\n",
       "      <td>5.500000e+07</td>\n",
       "      <td>159.00</td>\n",
       "      <td>145971.2</td>\n",
       "      <td>None</td>\n",
       "      <td>2.872688e+16</td>\n",
       "      <td>5.223070e+05</td>\n",
       "      <td>3.948767e+01</td>\n",
       "    </tr>\n",
       "    <tr>\n",
       "      <th>9732</th>\n",
       "      <td>8853</td>\n",
       "      <td>177</td>\n",
       "      <td>2013</td>\n",
       "      <td>Fairgrounds C.T.</td>\n",
       "      <td>15755.0</td>\n",
       "      <td>26.764</td>\n",
       "      <td>137000.0</td>\n",
       "      <td>1443.0</td>\n",
       "      <td>bbl</td>\n",
       "      <td>5.931709e+08</td>\n",
       "      <td>oil</td>\n",
       "      <td>1.400000e+07</td>\n",
       "      <td>68.30</td>\n",
       "      <td>91390.9</td>\n",
       "      <td>None</td>\n",
       "      <td>8.304392e+15</td>\n",
       "      <td>5.931709e+05</td>\n",
       "      <td>2.339932e+01</td>\n",
       "    </tr>\n",
       "    <tr>\n",
       "      <th>11588</th>\n",
       "      <td>10550</td>\n",
       "      <td>150</td>\n",
       "      <td>2014</td>\n",
       "      <td>Frederickson  1</td>\n",
       "      <td>35.0</td>\n",
       "      <td>4.939</td>\n",
       "      <td>1052000.0</td>\n",
       "      <td>2368486.0</td>\n",
       "      <td>mcf</td>\n",
       "      <td>7.185864e+09</td>\n",
       "      <td>gas</td>\n",
       "      <td>3.467429e+11</td>\n",
       "      <td>137.00</td>\n",
       "      <td>516125.4</td>\n",
       "      <td>None</td>\n",
       "      <td>2.491648e+21</td>\n",
       "      <td>7.185864e+06</td>\n",
       "      <td>2.889236e+05</td>\n",
       "    </tr>\n",
       "    <tr>\n",
       "      <th>664</th>\n",
       "      <td>622</td>\n",
       "      <td>2</td>\n",
       "      <td>2007</td>\n",
       "      <td>Gadsden</td>\n",
       "      <td>3818.0</td>\n",
       "      <td>2.804</td>\n",
       "      <td>12081.0</td>\n",
       "      <td>266741.0</td>\n",
       "      <td>ton</td>\n",
       "      <td>1.403300e+10</td>\n",
       "      <td>coal</td>\n",
       "      <td>5.147150e+11</td>\n",
       "      <td>138.00</td>\n",
       "      <td>594289.3</td>\n",
       "      <td>None</td>\n",
       "      <td>7.222996e+21</td>\n",
       "      <td>1.403300e+07</td>\n",
       "      <td>4.257784e+05</td>\n",
       "    </tr>\n",
       "    <tr>\n",
       "      <th>11589</th>\n",
       "      <td>10551</td>\n",
       "      <td>150</td>\n",
       "      <td>2014</td>\n",
       "      <td>Goldendale</td>\n",
       "      <td>39.0</td>\n",
       "      <td>5.290</td>\n",
       "      <td>1052000.0</td>\n",
       "      <td>7122981.0</td>\n",
       "      <td>mcf</td>\n",
       "      <td>7.278959e+09</td>\n",
       "      <td>gas</td>\n",
       "      <td>1.029457e+12</td>\n",
       "      <td>284.30</td>\n",
       "      <td>1149893.2</td>\n",
       "      <td>None</td>\n",
       "      <td>7.493376e+21</td>\n",
       "      <td>7.278959e+06</td>\n",
       "      <td>4.133589e+05</td>\n",
       "    </tr>\n",
       "    <tr>\n",
       "      <th>11252</th>\n",
       "      <td>10252</td>\n",
       "      <td>57</td>\n",
       "      <td>2014</td>\n",
       "      <td>Kraft</td>\n",
       "      <td>38.0</td>\n",
       "      <td>0.008</td>\n",
       "      <td>1022.0</td>\n",
       "      <td>128153.0</td>\n",
       "      <td>mcf</td>\n",
       "      <td>4.515931e+09</td>\n",
       "      <td>gas</td>\n",
       "      <td>5.918770e+11</td>\n",
       "      <td>281.00</td>\n",
       "      <td>557890.2</td>\n",
       "      <td>None</td>\n",
       "      <td>2.672876e+21</td>\n",
       "      <td>4.515931e+06</td>\n",
       "      <td>2.404479e+05</td>\n",
       "    </tr>\n",
       "    <tr>\n",
       "      <th>11251</th>\n",
       "      <td>10252</td>\n",
       "      <td>57</td>\n",
       "      <td>2014</td>\n",
       "      <td>Kraft</td>\n",
       "      <td>38.0</td>\n",
       "      <td>0.008</td>\n",
       "      <td>1022.0</td>\n",
       "      <td>128153.0</td>\n",
       "      <td>mcf</td>\n",
       "      <td>4.515931e+09</td>\n",
       "      <td>gas</td>\n",
       "      <td>2.900000e+07</td>\n",
       "      <td>22.00</td>\n",
       "      <td>130859.6</td>\n",
       "      <td>None</td>\n",
       "      <td>1.309620e+17</td>\n",
       "      <td>4.515931e+06</td>\n",
       "      <td>1.504774e+02</td>\n",
       "    </tr>\n",
       "    <tr>\n",
       "      <th>11733</th>\n",
       "      <td>10695</td>\n",
       "      <td>147</td>\n",
       "      <td>2014</td>\n",
       "      <td>Lordsburg Turbine</td>\n",
       "      <td>142.0</td>\n",
       "      <td>11.816</td>\n",
       "      <td>1.0</td>\n",
       "      <td>262420.0</td>\n",
       "      <td>mcf</td>\n",
       "      <td>1.200434e+10</td>\n",
       "      <td>gas</td>\n",
       "      <td>2.281100e+10</td>\n",
       "      <td>80.00</td>\n",
       "      <td>696403.6</td>\n",
       "      <td>None</td>\n",
       "      <td>2.738310e+20</td>\n",
       "      <td>1.200434e+07</td>\n",
       "      <td>3.254994e+04</td>\n",
       "    </tr>\n",
       "    <tr>\n",
       "      <th>8604</th>\n",
       "      <td>7801</td>\n",
       "      <td>147</td>\n",
       "      <td>2012</td>\n",
       "      <td>Lordsburg Turbine</td>\n",
       "      <td>157.0</td>\n",
       "      <td>13.034</td>\n",
       "      <td>1028000.0</td>\n",
       "      <td>135615.0</td>\n",
       "      <td>mcf</td>\n",
       "      <td>1.201580e+10</td>\n",
       "      <td>gas</td>\n",
       "      <td>1.727300e+10</td>\n",
       "      <td>80.00</td>\n",
       "      <td>690236.2</td>\n",
       "      <td>None</td>\n",
       "      <td>2.075490e+20</td>\n",
       "      <td>1.201580e+07</td>\n",
       "      <td>2.464755e+04</td>\n",
       "    </tr>\n",
       "    <tr>\n",
       "      <th>9625</th>\n",
       "      <td>8757</td>\n",
       "      <td>147</td>\n",
       "      <td>2013</td>\n",
       "      <td>Lordsburg Turbine</td>\n",
       "      <td>295.0</td>\n",
       "      <td>19.119</td>\n",
       "      <td>1.0</td>\n",
       "      <td>81429.0</td>\n",
       "      <td>mcf</td>\n",
       "      <td>1.540864e+10</td>\n",
       "      <td>gas</td>\n",
       "      <td>4.460000e+09</td>\n",
       "      <td>80.00</td>\n",
       "      <td>692762.8</td>\n",
       "      <td>None</td>\n",
       "      <td>6.872252e+19</td>\n",
       "      <td>1.540864e+07</td>\n",
       "      <td>6.364155e+03</td>\n",
       "    </tr>\n",
       "    <tr>\n",
       "      <th>9627</th>\n",
       "      <td>8759</td>\n",
       "      <td>147</td>\n",
       "      <td>2013</td>\n",
       "      <td>Luna</td>\n",
       "      <td>36.0</td>\n",
       "      <td>4.701</td>\n",
       "      <td>1.0</td>\n",
       "      <td>2573684.0</td>\n",
       "      <td>mcf</td>\n",
       "      <td>7.712267e+09</td>\n",
       "      <td>gas</td>\n",
       "      <td>3.763040e+11</td>\n",
       "      <td>185.00</td>\n",
       "      <td>338965.6</td>\n",
       "      <td>None</td>\n",
       "      <td>2.902157e+21</td>\n",
       "      <td>7.712267e+06</td>\n",
       "      <td>2.322004e+05</td>\n",
       "    </tr>\n",
       "    <tr>\n",
       "      <th>11735</th>\n",
       "      <td>10697</td>\n",
       "      <td>147</td>\n",
       "      <td>2014</td>\n",
       "      <td>Luna</td>\n",
       "      <td>43.0</td>\n",
       "      <td>5.463</td>\n",
       "      <td>1.0</td>\n",
       "      <td>2469164.0</td>\n",
       "      <td>mcf</td>\n",
       "      <td>7.923533e+09</td>\n",
       "      <td>gas</td>\n",
       "      <td>3.304050e+11</td>\n",
       "      <td>185.00</td>\n",
       "      <td>356782.6</td>\n",
       "      <td>None</td>\n",
       "      <td>2.617975e+21</td>\n",
       "      <td>7.923533e+06</td>\n",
       "      <td>2.038782e+05</td>\n",
       "    </tr>\n",
       "    <tr>\n",
       "      <th>8606</th>\n",
       "      <td>7803</td>\n",
       "      <td>147</td>\n",
       "      <td>2012</td>\n",
       "      <td>Luna</td>\n",
       "      <td>29.0</td>\n",
       "      <td>3.839</td>\n",
       "      <td>10272000.0</td>\n",
       "      <td>2373436.0</td>\n",
       "      <td>mcf</td>\n",
       "      <td>7.640466e+09</td>\n",
       "      <td>gas</td>\n",
       "      <td>3.346470e+11</td>\n",
       "      <td>185.00</td>\n",
       "      <td>338452.3</td>\n",
       "      <td>None</td>\n",
       "      <td>2.556859e+21</td>\n",
       "      <td>7.640466e+06</td>\n",
       "      <td>2.064957e+05</td>\n",
       "    </tr>\n",
       "    <tr>\n",
       "      <th>6073</th>\n",
       "      <td>5481</td>\n",
       "      <td>57</td>\n",
       "      <td>2010</td>\n",
       "      <td>Mcdonough No. 3</td>\n",
       "      <td>798.0</td>\n",
       "      <td>1.189</td>\n",
       "      <td>1024.0</td>\n",
       "      <td>204000.0</td>\n",
       "      <td>mcf</td>\n",
       "      <td>6.709390e+08</td>\n",
       "      <td>gas</td>\n",
       "      <td>3.090000e+08</td>\n",
       "      <td>84.00</td>\n",
       "      <td>96547.4</td>\n",
       "      <td>None</td>\n",
       "      <td>2.073202e+17</td>\n",
       "      <td>6.709390e+05</td>\n",
       "      <td>4.199282e+02</td>\n",
       "    </tr>\n",
       "    <tr>\n",
       "      <th>9987</th>\n",
       "      <td>9087</td>\n",
       "      <td>57</td>\n",
       "      <td>2013</td>\n",
       "      <td>Mcmanus 3 &amp; 4</td>\n",
       "      <td>7043.0</td>\n",
       "      <td>10.229</td>\n",
       "      <td>138500.0</td>\n",
       "      <td>5800.0</td>\n",
       "      <td>bbl</td>\n",
       "      <td>6.885306e+08</td>\n",
       "      <td>oil</td>\n",
       "      <td>4.900000e+07</td>\n",
       "      <td>501.00</td>\n",
       "      <td>103784.6</td>\n",
       "      <td>None</td>\n",
       "      <td>3.373800e+16</td>\n",
       "      <td>6.885306e+05</td>\n",
       "      <td>1.116488e+01</td>\n",
       "    </tr>\n",
       "    <tr>\n",
       "      <th>5600</th>\n",
       "      <td>5036</td>\n",
       "      <td>130</td>\n",
       "      <td>2010</td>\n",
       "      <td>Muskogee</td>\n",
       "      <td>50268.0</td>\n",
       "      <td>0.005</td>\n",
       "      <td>1037000.0</td>\n",
       "      <td>958863.0</td>\n",
       "      <td>mcf</td>\n",
       "      <td>1.042389e+10</td>\n",
       "      <td>gas</td>\n",
       "      <td>8.110526e+12</td>\n",
       "      <td>1890.60</td>\n",
       "      <td>406168.1</td>\n",
       "      <td>None</td>\n",
       "      <td>8.454323e+22</td>\n",
       "      <td>1.042389e+07</td>\n",
       "      <td>4.897171e+05</td>\n",
       "    </tr>\n",
       "    <tr>\n",
       "      <th>9623</th>\n",
       "      <td>8755</td>\n",
       "      <td>147</td>\n",
       "      <td>2013</td>\n",
       "      <td>Reeves</td>\n",
       "      <td>57.0</td>\n",
       "      <td>4.154</td>\n",
       "      <td>1.0</td>\n",
       "      <td>1238982.0</td>\n",
       "      <td>mcf</td>\n",
       "      <td>1.365817e+10</td>\n",
       "      <td>gas</td>\n",
       "      <td>9.336000e+10</td>\n",
       "      <td>154.00</td>\n",
       "      <td>462194.8</td>\n",
       "      <td>None</td>\n",
       "      <td>1.275127e+21</td>\n",
       "      <td>1.365817e+07</td>\n",
       "      <td>6.920477e+04</td>\n",
       "    </tr>\n",
       "    <tr>\n",
       "      <th>8602</th>\n",
       "      <td>7799</td>\n",
       "      <td>147</td>\n",
       "      <td>2012</td>\n",
       "      <td>Reeves</td>\n",
       "      <td>44.0</td>\n",
       "      <td>3.277</td>\n",
       "      <td>1027000.0</td>\n",
       "      <td>863253.0</td>\n",
       "      <td>mcf</td>\n",
       "      <td>1.330018e+10</td>\n",
       "      <td>gas</td>\n",
       "      <td>6.464200e+10</td>\n",
       "      <td>154.00</td>\n",
       "      <td>458694.3</td>\n",
       "      <td>None</td>\n",
       "      <td>8.597500e+20</td>\n",
       "      <td>1.330018e+07</td>\n",
       "      <td>4.791704e+04</td>\n",
       "    </tr>\n",
       "    <tr>\n",
       "      <th>11730</th>\n",
       "      <td>10692</td>\n",
       "      <td>147</td>\n",
       "      <td>2014</td>\n",
       "      <td>Reeves</td>\n",
       "      <td>63.0</td>\n",
       "      <td>4.629</td>\n",
       "      <td>1.0</td>\n",
       "      <td>950319.0</td>\n",
       "      <td>mcf</td>\n",
       "      <td>1.361244e+10</td>\n",
       "      <td>gas</td>\n",
       "      <td>7.204600e+10</td>\n",
       "      <td>154.00</td>\n",
       "      <td>466931.9</td>\n",
       "      <td>None</td>\n",
       "      <td>9.807221e+20</td>\n",
       "      <td>1.361244e+07</td>\n",
       "      <td>5.340538e+04</td>\n",
       "    </tr>\n",
       "    <tr>\n",
       "      <th>669</th>\n",
       "      <td>627</td>\n",
       "      <td>2</td>\n",
       "      <td>2007</td>\n",
       "      <td>Respondant'S Portion</td>\n",
       "      <td>2477.0</td>\n",
       "      <td>2.505</td>\n",
       "      <td>11443.0</td>\n",
       "      <td>938229.0</td>\n",
       "      <td>ton</td>\n",
       "      <td>9.814000e+09</td>\n",
       "      <td>coal</td>\n",
       "      <td>2.171585e+12</td>\n",
       "      <td>0.00</td>\n",
       "      <td>0.0</td>\n",
       "      <td>None</td>\n",
       "      <td>2.131194e+22</td>\n",
       "      <td>9.814000e+06</td>\n",
       "      <td>inf</td>\n",
       "    </tr>\n",
       "    <tr>\n",
       "      <th>6056</th>\n",
       "      <td>5466</td>\n",
       "      <td>2</td>\n",
       "      <td>2010</td>\n",
       "      <td>Respondant'S Portion</td>\n",
       "      <td>2148.0</td>\n",
       "      <td>2.081</td>\n",
       "      <td>8797.0</td>\n",
       "      <td>11609464.0</td>\n",
       "      <td>ton</td>\n",
       "      <td>1.032500e+10</td>\n",
       "      <td>coal</td>\n",
       "      <td>1.978234e+13</td>\n",
       "      <td>0.00</td>\n",
       "      <td>0.0</td>\n",
       "      <td>None</td>\n",
       "      <td>2.042527e+23</td>\n",
       "      <td>1.032500e+07</td>\n",
       "      <td>inf</td>\n",
       "    </tr>\n",
       "    <tr>\n",
       "      <th>6055</th>\n",
       "      <td>5466</td>\n",
       "      <td>2</td>\n",
       "      <td>2010</td>\n",
       "      <td>Respondant'S Portion</td>\n",
       "      <td>2148.0</td>\n",
       "      <td>2.081</td>\n",
       "      <td>8797.0</td>\n",
       "      <td>11609464.0</td>\n",
       "      <td>ton</td>\n",
       "      <td>1.032500e+10</td>\n",
       "      <td>coal</td>\n",
       "      <td>1.636454e+12</td>\n",
       "      <td>0.00</td>\n",
       "      <td>0.0</td>\n",
       "      <td>None</td>\n",
       "      <td>1.689639e+22</td>\n",
       "      <td>1.032500e+07</td>\n",
       "      <td>inf</td>\n",
       "    </tr>\n",
       "    <tr>\n",
       "      <th>670</th>\n",
       "      <td>627</td>\n",
       "      <td>2</td>\n",
       "      <td>2007</td>\n",
       "      <td>Respondant'S Portion</td>\n",
       "      <td>2477.0</td>\n",
       "      <td>2.505</td>\n",
       "      <td>11443.0</td>\n",
       "      <td>938229.0</td>\n",
       "      <td>ton</td>\n",
       "      <td>9.814000e+09</td>\n",
       "      <td>coal</td>\n",
       "      <td>2.099972e+13</td>\n",
       "      <td>0.00</td>\n",
       "      <td>0.0</td>\n",
       "      <td>None</td>\n",
       "      <td>2.060913e+23</td>\n",
       "      <td>9.814000e+06</td>\n",
       "      <td>inf</td>\n",
       "    </tr>\n",
       "    <tr>\n",
       "      <th>11731</th>\n",
       "      <td>10693</td>\n",
       "      <td>147</td>\n",
       "      <td>2014</td>\n",
       "      <td>Rio Bravo</td>\n",
       "      <td>74.0</td>\n",
       "      <td>8.108</td>\n",
       "      <td>1.0</td>\n",
       "      <td>70631.0</td>\n",
       "      <td>mcf</td>\n",
       "      <td>9.109205e+09</td>\n",
       "      <td>gas</td>\n",
       "      <td>9.441000e+09</td>\n",
       "      <td>138.00</td>\n",
       "      <td>435102.7</td>\n",
       "      <td>None</td>\n",
       "      <td>8.600000e+19</td>\n",
       "      <td>9.109205e+06</td>\n",
       "      <td>7.809708e+03</td>\n",
       "    </tr>\n",
       "    <tr>\n",
       "      <th>1298</th>\n",
       "      <td>1178</td>\n",
       "      <td>51</td>\n",
       "      <td>2007</td>\n",
       "      <td>Riverton</td>\n",
       "      <td>20.0</td>\n",
       "      <td>1.548</td>\n",
       "      <td>9828.0</td>\n",
       "      <td>350899.0</td>\n",
       "      <td>ton</td>\n",
       "      <td>1.313279e+10</td>\n",
       "      <td>coal</td>\n",
       "      <td>1.073840e+11</td>\n",
       "      <td>229.00</td>\n",
       "      <td>225124.5</td>\n",
       "      <td>None</td>\n",
       "      <td>1.410251e+21</td>\n",
       "      <td>1.313279e+07</td>\n",
       "      <td>5.353034e+04</td>\n",
       "    </tr>\n",
       "    <tr>\n",
       "      <th>1297</th>\n",
       "      <td>1178</td>\n",
       "      <td>51</td>\n",
       "      <td>2007</td>\n",
       "      <td>Riverton</td>\n",
       "      <td>20.0</td>\n",
       "      <td>1.548</td>\n",
       "      <td>9828.0</td>\n",
       "      <td>350899.0</td>\n",
       "      <td>ton</td>\n",
       "      <td>1.313279e+10</td>\n",
       "      <td>coal</td>\n",
       "      <td>5.281630e+11</td>\n",
       "      <td>87.50</td>\n",
       "      <td>488318.7</td>\n",
       "      <td>None</td>\n",
       "      <td>6.936253e+21</td>\n",
       "      <td>1.313279e+07</td>\n",
       "      <td>6.890581e+05</td>\n",
       "    </tr>\n",
       "    <tr>\n",
       "      <th>12608</th>\n",
       "      <td>11534</td>\n",
       "      <td>194</td>\n",
       "      <td>2015</td>\n",
       "      <td>Rock River Unit 4</td>\n",
       "      <td>267888.0</td>\n",
       "      <td>3.513</td>\n",
       "      <td>1059.0</td>\n",
       "      <td>1728.0</td>\n",
       "      <td>mcf</td>\n",
       "      <td>7.624628e+08</td>\n",
       "      <td>gas</td>\n",
       "      <td>2.400000e+06</td>\n",
       "      <td>18.00</td>\n",
       "      <td>134667.4</td>\n",
       "      <td>None</td>\n",
       "      <td>1.829911e+15</td>\n",
       "      <td>7.624628e+05</td>\n",
       "      <td>1.522070e+01</td>\n",
       "    </tr>\n",
       "    <tr>\n",
       "      <th>8869</th>\n",
       "      <td>8039</td>\n",
       "      <td>155</td>\n",
       "      <td>2012</td>\n",
       "      <td>San Onofre</td>\n",
       "      <td>8.0</td>\n",
       "      <td>0.769</td>\n",
       "      <td>0.0</td>\n",
       "      <td>2081750.0</td>\n",
       "      <td>mmbtu</td>\n",
       "      <td>1.309358e+10</td>\n",
       "      <td>nuke</td>\n",
       "      <td>1.589879e+11</td>\n",
       "      <td>451.00</td>\n",
       "      <td>3591948.6</td>\n",
       "      <td>nuclear</td>\n",
       "      <td>2.081720e+21</td>\n",
       "      <td>1.309358e+07</td>\n",
       "      <td>4.024235e+04</td>\n",
       "    </tr>\n",
       "    <tr>\n",
       "      <th>12513</th>\n",
       "      <td>11450</td>\n",
       "      <td>98</td>\n",
       "      <td>2015</td>\n",
       "      <td>Taconite Harbor</td>\n",
       "      <td>20894.0</td>\n",
       "      <td>1.822</td>\n",
       "      <td>9060.0</td>\n",
       "      <td>662680.0</td>\n",
       "      <td>ton</td>\n",
       "      <td>1.141969e+10</td>\n",
       "      <td>coal</td>\n",
       "      <td>1.051950e+12</td>\n",
       "      <td>154.00</td>\n",
       "      <td>983079.4</td>\n",
       "      <td>None</td>\n",
       "      <td>1.201294e+22</td>\n",
       "      <td>1.141969e+07</td>\n",
       "      <td>7.797767e+05</td>\n",
       "    </tr>\n",
       "    <tr>\n",
       "      <th>915</th>\n",
       "      <td>834</td>\n",
       "      <td>157</td>\n",
       "      <td>2007</td>\n",
       "      <td>Tracy 1, 2, 3</td>\n",
       "      <td>0.0</td>\n",
       "      <td>1.409</td>\n",
       "      <td>6224244.0</td>\n",
       "      <td>1786.0</td>\n",
       "      <td>bbl</td>\n",
       "      <td>1.130926e+10</td>\n",
       "      <td>oil</td>\n",
       "      <td>6.308260e+11</td>\n",
       "      <td>243.00</td>\n",
       "      <td>309854.0</td>\n",
       "      <td>None</td>\n",
       "      <td>7.134173e+21</td>\n",
       "      <td>1.130926e+07</td>\n",
       "      <td>2.963461e+05</td>\n",
       "    </tr>\n",
       "    <tr>\n",
       "      <th>3209</th>\n",
       "      <td>2885</td>\n",
       "      <td>178</td>\n",
       "      <td>2009</td>\n",
       "      <td>Woodsdale Gt</td>\n",
       "      <td>205.0</td>\n",
       "      <td>4.816</td>\n",
       "      <td>1.0</td>\n",
       "      <td>1226497.0</td>\n",
       "      <td>mcf</td>\n",
       "      <td>4.353500e+10</td>\n",
       "      <td>gas</td>\n",
       "      <td>2.966900e+10</td>\n",
       "      <td>490.00</td>\n",
       "      <td>537331.6</td>\n",
       "      <td>None</td>\n",
       "      <td>1.291640e+21</td>\n",
       "      <td>4.353500e+07</td>\n",
       "      <td>6.911984e+03</td>\n",
       "    </tr>\n",
       "  </tbody>\n",
       "</table>\n",
       "</div>"
      ],
      "text/plain": [
       "          id  respondent_id  report_year            plant_name  \\\n",
       "9626    8758            147         2013         Afton Turbine   \n",
       "11734  10696            147         2014         Afton Turbine   \n",
       "8605    7802            147         2012         Afton Turbine   \n",
       "665      623              2         2007                 Barry   \n",
       "11209  10215             44         2014     Belle River (Oil)   \n",
       "7619    6884             57         2011           Bowen No. 6   \n",
       "8169    7413            144         2012          Connersville   \n",
       "6762    6115             27         2011           Dicks Creek   \n",
       "9732    8853            177         2013      Fairgrounds C.T.   \n",
       "11588  10550            150         2014       Frederickson  1   \n",
       "664      622              2         2007               Gadsden   \n",
       "11589  10551            150         2014            Goldendale   \n",
       "11252  10252             57         2014                 Kraft   \n",
       "11251  10252             57         2014                 Kraft   \n",
       "11733  10695            147         2014     Lordsburg Turbine   \n",
       "8604    7801            147         2012     Lordsburg Turbine   \n",
       "9625    8757            147         2013     Lordsburg Turbine   \n",
       "9627    8759            147         2013                  Luna   \n",
       "11735  10697            147         2014                  Luna   \n",
       "8606    7803            147         2012                  Luna   \n",
       "6073    5481             57         2010       Mcdonough No. 3   \n",
       "9987    9087             57         2013         Mcmanus 3 & 4   \n",
       "5600    5036            130         2010              Muskogee   \n",
       "9623    8755            147         2013                Reeves   \n",
       "8602    7799            147         2012                Reeves   \n",
       "11730  10692            147         2014                Reeves   \n",
       "669      627              2         2007  Respondant'S Portion   \n",
       "6056    5466              2         2010  Respondant'S Portion   \n",
       "6055    5466              2         2010  Respondant'S Portion   \n",
       "670      627              2         2007  Respondant'S Portion   \n",
       "11731  10693            147         2014             Rio Bravo   \n",
       "1298    1178             51         2007              Riverton   \n",
       "1297    1178             51         2007              Riverton   \n",
       "12608  11534            194         2015     Rock River Unit 4   \n",
       "8869    8039            155         2012            San Onofre   \n",
       "12513  11450             98         2015       Taconite Harbor   \n",
       "915      834            157         2007         Tracy 1, 2, 3   \n",
       "3209    2885            178         2009          Woodsdale Gt   \n",
       "\n",
       "       fuel_cost_per_mwh  fuel_cost_per_mmbtu  fuel_avg_mmbtu_per_unit  \\\n",
       "9626                35.0                4.494                      1.0   \n",
       "11734               43.0                5.360                      1.0   \n",
       "8605                32.0                4.030                1028000.0   \n",
       "665               2420.0                2.434                  11492.0   \n",
       "11209            19698.0               20.510                 136966.0   \n",
       "7619             17732.0               21.209                 138500.0   \n",
       "8169             14333.0               19.939                 137000.0   \n",
       "6762              3120.0                5.974                      1.0   \n",
       "9732             15755.0               26.764                 137000.0   \n",
       "11588               35.0                4.939                1052000.0   \n",
       "664               3818.0                2.804                  12081.0   \n",
       "11589               39.0                5.290                1052000.0   \n",
       "11252               38.0                0.008                   1022.0   \n",
       "11251               38.0                0.008                   1022.0   \n",
       "11733              142.0               11.816                      1.0   \n",
       "8604               157.0               13.034                1028000.0   \n",
       "9625               295.0               19.119                      1.0   \n",
       "9627                36.0                4.701                      1.0   \n",
       "11735               43.0                5.463                      1.0   \n",
       "8606                29.0                3.839               10272000.0   \n",
       "6073               798.0                1.189                   1024.0   \n",
       "9987              7043.0               10.229                 138500.0   \n",
       "5600             50268.0                0.005                1037000.0   \n",
       "9623                57.0                4.154                      1.0   \n",
       "8602                44.0                3.277                1027000.0   \n",
       "11730               63.0                4.629                      1.0   \n",
       "669               2477.0                2.505                  11443.0   \n",
       "6056              2148.0                2.081                   8797.0   \n",
       "6055              2148.0                2.081                   8797.0   \n",
       "670               2477.0                2.505                  11443.0   \n",
       "11731               74.0                8.108                      1.0   \n",
       "1298                20.0                1.548                   9828.0   \n",
       "1297                20.0                1.548                   9828.0   \n",
       "12608           267888.0                3.513                   1059.0   \n",
       "8869                 8.0                0.769                      0.0   \n",
       "12513            20894.0                1.822                   9060.0   \n",
       "915                  0.0                1.409                6224244.0   \n",
       "3209               205.0                4.816                      1.0   \n",
       "\n",
       "       fuel_qty_burned fuel_unit  fuel_mmbtu_per_mwh  fuel  \\\n",
       "9626         5059071.0       mcf        7.715519e+09   gas   \n",
       "11734        4103714.0       mcf        8.015940e+09   gas   \n",
       "8605          863253.0       mcf        7.896654e+09   gas   \n",
       "665          4803242.0       ton        9.691000e+09  coal   \n",
       "11209            847.0       bbl        9.744000e+08   oil   \n",
       "7619            3880.0       bbl        8.360370e+08   oil   \n",
       "8169             625.0       bbl        7.188400e+08   oil   \n",
       "6762           27944.0       mcf        5.223070e+08   gas   \n",
       "9732            1443.0       bbl        5.931709e+08   oil   \n",
       "11588        2368486.0       mcf        7.185864e+09   gas   \n",
       "664           266741.0       ton        1.403300e+10  coal   \n",
       "11589        7122981.0       mcf        7.278959e+09   gas   \n",
       "11252         128153.0       mcf        4.515931e+09   gas   \n",
       "11251         128153.0       mcf        4.515931e+09   gas   \n",
       "11733         262420.0       mcf        1.200434e+10   gas   \n",
       "8604          135615.0       mcf        1.201580e+10   gas   \n",
       "9625           81429.0       mcf        1.540864e+10   gas   \n",
       "9627         2573684.0       mcf        7.712267e+09   gas   \n",
       "11735        2469164.0       mcf        7.923533e+09   gas   \n",
       "8606         2373436.0       mcf        7.640466e+09   gas   \n",
       "6073          204000.0       mcf        6.709390e+08   gas   \n",
       "9987            5800.0       bbl        6.885306e+08   oil   \n",
       "5600          958863.0       mcf        1.042389e+10   gas   \n",
       "9623         1238982.0       mcf        1.365817e+10   gas   \n",
       "8602          863253.0       mcf        1.330018e+10   gas   \n",
       "11730         950319.0       mcf        1.361244e+10   gas   \n",
       "669           938229.0       ton        9.814000e+09  coal   \n",
       "6056        11609464.0       ton        1.032500e+10  coal   \n",
       "6055        11609464.0       ton        1.032500e+10  coal   \n",
       "670           938229.0       ton        9.814000e+09  coal   \n",
       "11731          70631.0       mcf        9.109205e+09   gas   \n",
       "1298          350899.0       ton        1.313279e+10  coal   \n",
       "1297          350899.0       ton        1.313279e+10  coal   \n",
       "12608           1728.0       mcf        7.624628e+08   gas   \n",
       "8869         2081750.0     mmbtu        1.309358e+10  nuke   \n",
       "12513         662680.0       ton        1.141969e+10  coal   \n",
       "915             1786.0       bbl        1.130926e+10   oil   \n",
       "3209         1226497.0       mcf        4.353500e+10   gas   \n",
       "\n",
       "       net_generation_mwh  total_capacity_mw  cost_per_mw plant_kind  \\\n",
       "9626         6.997620e+11             230.00     943545.4       None   \n",
       "11734        5.516960e+11             230.00     965125.3       None   \n",
       "8605         4.667250e+11             235.00     917126.6       None   \n",
       "665          1.109939e+13            1770.80     373440.8       None   \n",
       "11209        5.000000e+06              13.75     247156.9       None   \n",
       "7619         2.700000e+07              42.00      86053.1       None   \n",
       "8169         5.000000e+06              84.00     149834.5       None   \n",
       "6762         5.500000e+07             159.00     145971.2       None   \n",
       "9732         1.400000e+07              68.30      91390.9       None   \n",
       "11588        3.467429e+11             137.00     516125.4       None   \n",
       "664          5.147150e+11             138.00     594289.3       None   \n",
       "11589        1.029457e+12             284.30    1149893.2       None   \n",
       "11252        5.918770e+11             281.00     557890.2       None   \n",
       "11251        2.900000e+07              22.00     130859.6       None   \n",
       "11733        2.281100e+10              80.00     696403.6       None   \n",
       "8604         1.727300e+10              80.00     690236.2       None   \n",
       "9625         4.460000e+09              80.00     692762.8       None   \n",
       "9627         3.763040e+11             185.00     338965.6       None   \n",
       "11735        3.304050e+11             185.00     356782.6       None   \n",
       "8606         3.346470e+11             185.00     338452.3       None   \n",
       "6073         3.090000e+08              84.00      96547.4       None   \n",
       "9987         4.900000e+07             501.00     103784.6       None   \n",
       "5600         8.110526e+12            1890.60     406168.1       None   \n",
       "9623         9.336000e+10             154.00     462194.8       None   \n",
       "8602         6.464200e+10             154.00     458694.3       None   \n",
       "11730        7.204600e+10             154.00     466931.9       None   \n",
       "669          2.171585e+12               0.00          0.0       None   \n",
       "6056         1.978234e+13               0.00          0.0       None   \n",
       "6055         1.636454e+12               0.00          0.0       None   \n",
       "670          2.099972e+13               0.00          0.0       None   \n",
       "11731        9.441000e+09             138.00     435102.7       None   \n",
       "1298         1.073840e+11             229.00     225124.5       None   \n",
       "1297         5.281630e+11              87.50     488318.7       None   \n",
       "12608        2.400000e+06              18.00     134667.4       None   \n",
       "8869         1.589879e+11             451.00    3591948.6    nuclear   \n",
       "12513        1.051950e+12             154.00     983079.4       None   \n",
       "915          6.308260e+11             243.00     309854.0       None   \n",
       "3209         2.966900e+10             490.00     537331.6       None   \n",
       "\n",
       "              mmbtu  calculated_heat_rate_fuel_kwh  calculated_capacity_factor  \n",
       "9626   5.399027e+21                   7.715519e+06                3.473109e+05  \n",
       "11734  4.422362e+21                   8.015940e+06                2.738217e+05  \n",
       "8605   3.685566e+21                   7.896654e+06                2.267196e+05  \n",
       "665    1.075642e+23                   9.691000e+06                7.155264e+05  \n",
       "11209  4.872000e+15                   9.744000e+05                4.151100e+01  \n",
       "7619   2.257300e+16                   8.360370e+05                7.338552e+01  \n",
       "8169   3.594200e+15                   7.188400e+05                6.794955e+00  \n",
       "6762   2.872688e+16                   5.223070e+05                3.948767e+01  \n",
       "9732   8.304392e+15                   5.931709e+05                2.339932e+01  \n",
       "11588  2.491648e+21                   7.185864e+06                2.889236e+05  \n",
       "664    7.222996e+21                   1.403300e+07                4.257784e+05  \n",
       "11589  7.493376e+21                   7.278959e+06                4.133589e+05  \n",
       "11252  2.672876e+21                   4.515931e+06                2.404479e+05  \n",
       "11251  1.309620e+17                   4.515931e+06                1.504774e+02  \n",
       "11733  2.738310e+20                   1.200434e+07                3.254994e+04  \n",
       "8604   2.075490e+20                   1.201580e+07                2.464755e+04  \n",
       "9625   6.872252e+19                   1.540864e+07                6.364155e+03  \n",
       "9627   2.902157e+21                   7.712267e+06                2.322004e+05  \n",
       "11735  2.617975e+21                   7.923533e+06                2.038782e+05  \n",
       "8606   2.556859e+21                   7.640466e+06                2.064957e+05  \n",
       "6073   2.073202e+17                   6.709390e+05                4.199282e+02  \n",
       "9987   3.373800e+16                   6.885306e+05                1.116488e+01  \n",
       "5600   8.454323e+22                   1.042389e+07                4.897171e+05  \n",
       "9623   1.275127e+21                   1.365817e+07                6.920477e+04  \n",
       "8602   8.597500e+20                   1.330018e+07                4.791704e+04  \n",
       "11730  9.807221e+20                   1.361244e+07                5.340538e+04  \n",
       "669    2.131194e+22                   9.814000e+06                         inf  \n",
       "6056   2.042527e+23                   1.032500e+07                         inf  \n",
       "6055   1.689639e+22                   1.032500e+07                         inf  \n",
       "670    2.060913e+23                   9.814000e+06                         inf  \n",
       "11731  8.600000e+19                   9.109205e+06                7.809708e+03  \n",
       "1298   1.410251e+21                   1.313279e+07                5.353034e+04  \n",
       "1297   6.936253e+21                   1.313279e+07                6.890581e+05  \n",
       "12608  1.829911e+15                   7.624628e+05                1.522070e+01  \n",
       "8869   2.081720e+21                   1.309358e+07                4.024235e+04  \n",
       "12513  1.201294e+22                   1.141969e+07                7.797767e+05  \n",
       "915    7.134173e+21                   1.130926e+07                2.963461e+05  \n",
       "3209   1.291640e+21                   4.353500e+07                6.911984e+03  "
      ]
     },
     "execution_count": 21,
     "metadata": {},
     "output_type": "execute_result"
    }
   ],
   "source": [
    "higher_heat_rate = merged[merged['calculated_heat_rate_fuel_kwh'] > 400000]\n",
    "higher_heat_rate.sort(columns='plant_name')"
   ]
  },
  {
   "cell_type": "code",
   "execution_count": 22,
   "metadata": {
    "collapsed": false
   },
   "outputs": [
    {
     "data": {
      "text/html": [
       "<div>\n",
       "<table border=\"1\" class=\"dataframe\">\n",
       "  <thead>\n",
       "    <tr style=\"text-align: right;\">\n",
       "      <th></th>\n",
       "      <th>id</th>\n",
       "      <th>respondent_id</th>\n",
       "      <th>report_year</th>\n",
       "      <th>plant_name</th>\n",
       "      <th>fuel_cost_per_mwh</th>\n",
       "      <th>fuel_cost_per_mmbtu</th>\n",
       "      <th>fuel_avg_mmbtu_per_unit</th>\n",
       "      <th>fuel_qty_burned</th>\n",
       "      <th>fuel_unit</th>\n",
       "      <th>fuel_mmbtu_per_mwh</th>\n",
       "      <th>fuel</th>\n",
       "      <th>net_generation_mwh</th>\n",
       "      <th>total_capacity_mw</th>\n",
       "      <th>cost_per_mw</th>\n",
       "      <th>plant_kind</th>\n",
       "      <th>mmbtu</th>\n",
       "      <th>calculated_heat_rate_fuel_kwh</th>\n",
       "      <th>calculated_capacity_factor</th>\n",
       "    </tr>\n",
       "  </thead>\n",
       "  <tbody>\n",
       "    <tr>\n",
       "      <th>636</th>\n",
       "      <td>596</td>\n",
       "      <td>147</td>\n",
       "      <td>2007</td>\n",
       "      <td>Afton Turbine</td>\n",
       "      <td>0.0</td>\n",
       "      <td>0.000</td>\n",
       "      <td>1027109.0</td>\n",
       "      <td>60442.0</td>\n",
       "      <td>mcf</td>\n",
       "      <td>1.098300e+07</td>\n",
       "      <td>gas</td>\n",
       "      <td>NaN</td>\n",
       "      <td>NaN</td>\n",
       "      <td>NaN</td>\n",
       "      <td>NaN</td>\n",
       "      <td>NaN</td>\n",
       "      <td>NaN</td>\n",
       "      <td>NaN</td>\n",
       "    </tr>\n",
       "    <tr>\n",
       "      <th>2220</th>\n",
       "      <td>1994</td>\n",
       "      <td>147</td>\n",
       "      <td>2008</td>\n",
       "      <td>Afton Turbine</td>\n",
       "      <td>67.0</td>\n",
       "      <td>8.677</td>\n",
       "      <td>1027109.0</td>\n",
       "      <td>5737085.0</td>\n",
       "      <td>mcf</td>\n",
       "      <td>7.750000e+06</td>\n",
       "      <td>gas</td>\n",
       "      <td>7.606310e+11</td>\n",
       "      <td>141.0</td>\n",
       "      <td>1433262.0</td>\n",
       "      <td>None</td>\n",
       "      <td>5.894890e+18</td>\n",
       "      <td>7750.000</td>\n",
       "      <td>615815.764759</td>\n",
       "    </tr>\n",
       "    <tr>\n",
       "      <th>3565</th>\n",
       "      <td>3204</td>\n",
       "      <td>147</td>\n",
       "      <td>2009</td>\n",
       "      <td>Afton Turbine</td>\n",
       "      <td>24.0</td>\n",
       "      <td>3.221</td>\n",
       "      <td>975003.0</td>\n",
       "      <td>5117947.0</td>\n",
       "      <td>mcf</td>\n",
       "      <td>7.576543e+06</td>\n",
       "      <td>gas</td>\n",
       "      <td>6.754990e+11</td>\n",
       "      <td>235.0</td>\n",
       "      <td>881189.3</td>\n",
       "      <td>None</td>\n",
       "      <td>5.117947e+18</td>\n",
       "      <td>7576.543</td>\n",
       "      <td>328135.140387</td>\n",
       "    </tr>\n",
       "    <tr>\n",
       "      <th>4940</th>\n",
       "      <td>4452</td>\n",
       "      <td>147</td>\n",
       "      <td>2010</td>\n",
       "      <td>Afton Turbine</td>\n",
       "      <td>36.0</td>\n",
       "      <td>4.401</td>\n",
       "      <td>1023000.0</td>\n",
       "      <td>2256031.0</td>\n",
       "      <td>mcf</td>\n",
       "      <td>8.049948e+06</td>\n",
       "      <td>gas</td>\n",
       "      <td>2.867000e+11</td>\n",
       "      <td>235.0</td>\n",
       "      <td>918533.7</td>\n",
       "      <td>None</td>\n",
       "      <td>2.307920e+18</td>\n",
       "      <td>8049.948</td>\n",
       "      <td>139269.406393</td>\n",
       "    </tr>\n",
       "    <tr>\n",
       "      <th>6841</th>\n",
       "      <td>6183</td>\n",
       "      <td>147</td>\n",
       "      <td>2011</td>\n",
       "      <td>Afton Turbine</td>\n",
       "      <td>50.0</td>\n",
       "      <td>5.861</td>\n",
       "      <td>1023591.0</td>\n",
       "      <td>2341375.0</td>\n",
       "      <td>mcf</td>\n",
       "      <td>8.461427e+06</td>\n",
       "      <td>gas</td>\n",
       "      <td>2.849900e+11</td>\n",
       "      <td>235.0</td>\n",
       "      <td>921202.4</td>\n",
       "      <td>None</td>\n",
       "      <td>2.411422e+18</td>\n",
       "      <td>8461.427</td>\n",
       "      <td>138438.744778</td>\n",
       "    </tr>\n",
       "    <tr>\n",
       "      <th>8605</th>\n",
       "      <td>7802</td>\n",
       "      <td>147</td>\n",
       "      <td>2012</td>\n",
       "      <td>Afton Turbine</td>\n",
       "      <td>32.0</td>\n",
       "      <td>4.030</td>\n",
       "      <td>1028000.0</td>\n",
       "      <td>863253.0</td>\n",
       "      <td>mcf</td>\n",
       "      <td>7.896654e+09</td>\n",
       "      <td>gas</td>\n",
       "      <td>4.667250e+11</td>\n",
       "      <td>235.0</td>\n",
       "      <td>917126.6</td>\n",
       "      <td>None</td>\n",
       "      <td>3.685566e+21</td>\n",
       "      <td>7896654.000</td>\n",
       "      <td>226719.615273</td>\n",
       "    </tr>\n",
       "    <tr>\n",
       "      <th>9626</th>\n",
       "      <td>8758</td>\n",
       "      <td>147</td>\n",
       "      <td>2013</td>\n",
       "      <td>Afton Turbine</td>\n",
       "      <td>35.0</td>\n",
       "      <td>4.494</td>\n",
       "      <td>1.0</td>\n",
       "      <td>5059071.0</td>\n",
       "      <td>mcf</td>\n",
       "      <td>7.715519e+09</td>\n",
       "      <td>gas</td>\n",
       "      <td>6.997620e+11</td>\n",
       "      <td>230.0</td>\n",
       "      <td>943545.4</td>\n",
       "      <td>None</td>\n",
       "      <td>5.399027e+21</td>\n",
       "      <td>7715519.000</td>\n",
       "      <td>347310.899345</td>\n",
       "    </tr>\n",
       "    <tr>\n",
       "      <th>11734</th>\n",
       "      <td>10696</td>\n",
       "      <td>147</td>\n",
       "      <td>2014</td>\n",
       "      <td>Afton Turbine</td>\n",
       "      <td>43.0</td>\n",
       "      <td>5.360</td>\n",
       "      <td>1.0</td>\n",
       "      <td>4103714.0</td>\n",
       "      <td>mcf</td>\n",
       "      <td>8.015940e+09</td>\n",
       "      <td>gas</td>\n",
       "      <td>5.516960e+11</td>\n",
       "      <td>230.0</td>\n",
       "      <td>965125.3</td>\n",
       "      <td>None</td>\n",
       "      <td>4.422362e+21</td>\n",
       "      <td>8015940.000</td>\n",
       "      <td>273821.719277</td>\n",
       "    </tr>\n",
       "    <tr>\n",
       "      <th>12842</th>\n",
       "      <td>11729</td>\n",
       "      <td>147</td>\n",
       "      <td>2015</td>\n",
       "      <td>Afton Turbine</td>\n",
       "      <td>28.0</td>\n",
       "      <td>3.498</td>\n",
       "      <td>1.0</td>\n",
       "      <td>4653452.0</td>\n",
       "      <td>mcf</td>\n",
       "      <td>7.884500e+06</td>\n",
       "      <td>gas</td>\n",
       "      <td>6.467650e+11</td>\n",
       "      <td>141.0</td>\n",
       "      <td>1604918.6</td>\n",
       "      <td>None</td>\n",
       "      <td>5.099419e+18</td>\n",
       "      <td>7884.500</td>\n",
       "      <td>523628.517763</td>\n",
       "    </tr>\n",
       "  </tbody>\n",
       "</table>\n",
       "</div>"
      ],
      "text/plain": [
       "          id  respondent_id  report_year     plant_name  fuel_cost_per_mwh  \\\n",
       "636      596            147         2007  Afton Turbine                0.0   \n",
       "2220    1994            147         2008  Afton Turbine               67.0   \n",
       "3565    3204            147         2009  Afton Turbine               24.0   \n",
       "4940    4452            147         2010  Afton Turbine               36.0   \n",
       "6841    6183            147         2011  Afton Turbine               50.0   \n",
       "8605    7802            147         2012  Afton Turbine               32.0   \n",
       "9626    8758            147         2013  Afton Turbine               35.0   \n",
       "11734  10696            147         2014  Afton Turbine               43.0   \n",
       "12842  11729            147         2015  Afton Turbine               28.0   \n",
       "\n",
       "       fuel_cost_per_mmbtu  fuel_avg_mmbtu_per_unit  fuel_qty_burned  \\\n",
       "636                  0.000                1027109.0          60442.0   \n",
       "2220                 8.677                1027109.0        5737085.0   \n",
       "3565                 3.221                 975003.0        5117947.0   \n",
       "4940                 4.401                1023000.0        2256031.0   \n",
       "6841                 5.861                1023591.0        2341375.0   \n",
       "8605                 4.030                1028000.0         863253.0   \n",
       "9626                 4.494                      1.0        5059071.0   \n",
       "11734                5.360                      1.0        4103714.0   \n",
       "12842                3.498                      1.0        4653452.0   \n",
       "\n",
       "      fuel_unit  fuel_mmbtu_per_mwh fuel  net_generation_mwh  \\\n",
       "636         mcf        1.098300e+07  gas                 NaN   \n",
       "2220        mcf        7.750000e+06  gas        7.606310e+11   \n",
       "3565        mcf        7.576543e+06  gas        6.754990e+11   \n",
       "4940        mcf        8.049948e+06  gas        2.867000e+11   \n",
       "6841        mcf        8.461427e+06  gas        2.849900e+11   \n",
       "8605        mcf        7.896654e+09  gas        4.667250e+11   \n",
       "9626        mcf        7.715519e+09  gas        6.997620e+11   \n",
       "11734       mcf        8.015940e+09  gas        5.516960e+11   \n",
       "12842       mcf        7.884500e+06  gas        6.467650e+11   \n",
       "\n",
       "       total_capacity_mw  cost_per_mw plant_kind         mmbtu  \\\n",
       "636                  NaN          NaN        NaN           NaN   \n",
       "2220               141.0    1433262.0       None  5.894890e+18   \n",
       "3565               235.0     881189.3       None  5.117947e+18   \n",
       "4940               235.0     918533.7       None  2.307920e+18   \n",
       "6841               235.0     921202.4       None  2.411422e+18   \n",
       "8605               235.0     917126.6       None  3.685566e+21   \n",
       "9626               230.0     943545.4       None  5.399027e+21   \n",
       "11734              230.0     965125.3       None  4.422362e+21   \n",
       "12842              141.0    1604918.6       None  5.099419e+18   \n",
       "\n",
       "       calculated_heat_rate_fuel_kwh  calculated_capacity_factor  \n",
       "636                              NaN                         NaN  \n",
       "2220                        7750.000               615815.764759  \n",
       "3565                        7576.543               328135.140387  \n",
       "4940                        8049.948               139269.406393  \n",
       "6841                        8461.427               138438.744778  \n",
       "8605                     7896654.000               226719.615273  \n",
       "9626                     7715519.000               347310.899345  \n",
       "11734                    8015940.000               273821.719277  \n",
       "12842                       7884.500               523628.517763  "
      ]
     },
     "execution_count": 22,
     "metadata": {},
     "output_type": "execute_result"
    }
   ],
   "source": [
    "merged[merged['plant_name'] == 'Afton Turbine']"
   ]
  },
  {
   "cell_type": "code",
   "execution_count": 100,
   "metadata": {
    "collapsed": false
   },
   "outputs": [
    {
     "name": "stderr",
     "output_type": "stream",
     "text": [
      "[autoreload of pudl.pudl failed: Traceback (most recent call last):\n",
      "  File \"/Users/Nannerz/anaconda3/lib/python3.6/site-packages/IPython/extensions/autoreload.py\", line 247, in check\n",
      "    superreload(m, reload, self.old_objects)\n",
      "ModuleNotFoundError: No module named 'postgres_copy'\n",
      "]\n"
     ]
    },
    {
     "data": {
      "text/plain": [
       "nuclear         333\n",
       "photovoltaic      3\n",
       "coal              2\n",
       "Name: plant_kind, dtype: int64"
      ]
     },
     "execution_count": 100,
     "metadata": {},
     "output_type": "execute_result"
    }
   ],
   "source": [
    "merged['plant_kind'].value_counts()"
   ]
  },
  {
   "cell_type": "code",
   "execution_count": null,
   "metadata": {
    "collapsed": true
   },
   "outputs": [],
   "source": []
  }
 ],
 "metadata": {
  "anaconda-cloud": {},
  "kernelspec": {
   "display_name": "Python 3",
   "language": "python",
   "name": "python3"
  },
  "language_info": {
   "codemirror_mode": {
    "name": "ipython",
    "version": 3
   },
   "file_extension": ".py",
   "mimetype": "text/x-python",
   "name": "python",
   "nbconvert_exporter": "python",
   "pygments_lexer": "ipython3",
   "version": "3.6.0"
  }
 },
 "nbformat": 4,
 "nbformat_minor": 1
}
